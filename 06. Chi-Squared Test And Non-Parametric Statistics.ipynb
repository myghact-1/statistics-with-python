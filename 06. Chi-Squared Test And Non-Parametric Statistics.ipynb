{
 "cells": [
  {
   "cell_type": "code",
   "execution_count": 1,
   "id": "2d4765ea",
   "metadata": {},
   "outputs": [],
   "source": [
    "import numpy as np\n",
    "import pandas as pd\n",
    "import matplotlib.pyplot as plt\n",
    "\n",
    "import statsmodels.api as sm\n",
    "from scipy import stats"
   ]
  },
  {
   "cell_type": "markdown",
   "id": "a45a0864",
   "metadata": {},
   "source": [
    "## 1. Comparing Two or More Population Proportions"
   ]
  },
  {
   "cell_type": "code",
   "execution_count": 4,
   "id": "3801720c",
   "metadata": {},
   "outputs": [
    {
     "data": {
      "text/plain": [
       "(5.106469646959223, 0.27654646724115983)"
      ]
     },
     "execution_count": 4,
     "metadata": {},
     "output_type": "execute_result"
    }
   ],
   "source": [
    "updays = np.array([20,15,17,14,12])\n",
    "total_days = np.array([25,26,26,25,23])\n",
    "\n",
    "chi2stat, pval, (table, expected) = sm.stats.proportions_chisquare(updays, total_days)\n",
    "chi2stat, pval"
   ]
  },
  {
   "cell_type": "code",
   "execution_count": 6,
   "id": "20caa700",
   "metadata": {},
   "outputs": [
    {
     "data": {
      "text/plain": [
       "array([[20,  5],\n",
       "       [15, 11],\n",
       "       [17,  9],\n",
       "       [14, 11],\n",
       "       [12, 11]])"
      ]
     },
     "execution_count": 6,
     "metadata": {},
     "output_type": "execute_result"
    }
   ],
   "source": [
    "table"
   ]
  },
  {
   "cell_type": "code",
   "execution_count": 5,
   "id": "d248f788",
   "metadata": {},
   "outputs": [
    {
     "data": {
      "text/plain": [
       "array([[15.6  ,  9.4  ],\n",
       "       [16.224,  9.776],\n",
       "       [16.224,  9.776],\n",
       "       [15.6  ,  9.4  ],\n",
       "       [14.352,  8.648]])"
      ]
     },
     "execution_count": 5,
     "metadata": {},
     "output_type": "execute_result"
    }
   ],
   "source": [
    "expected"
   ]
  },
  {
   "cell_type": "markdown",
   "id": "ba1da64b",
   "metadata": {},
   "source": [
    "## 2. Test of Independence"
   ]
  },
  {
   "cell_type": "code",
   "execution_count": 8,
   "id": "7a2c5f27",
   "metadata": {},
   "outputs": [
    {
     "data": {
      "text/html": [
       "<div>\n",
       "<style scoped>\n",
       "    .dataframe tbody tr th:only-of-type {\n",
       "        vertical-align: middle;\n",
       "    }\n",
       "\n",
       "    .dataframe tbody tr th {\n",
       "        vertical-align: top;\n",
       "    }\n",
       "\n",
       "    .dataframe thead th {\n",
       "        text-align: right;\n",
       "    }\n",
       "</style>\n",
       "<table border=\"1\" class=\"dataframe\">\n",
       "  <thead>\n",
       "    <tr style=\"text-align: right;\">\n",
       "      <th></th>\n",
       "      <th>age_group</th>\n",
       "      <th>canon</th>\n",
       "      <th>nikon</th>\n",
       "      <th>sony</th>\n",
       "    </tr>\n",
       "  </thead>\n",
       "  <tbody>\n",
       "    <tr>\n",
       "      <th>0</th>\n",
       "      <td>18-34</td>\n",
       "      <td>30</td>\n",
       "      <td>16</td>\n",
       "      <td>8</td>\n",
       "    </tr>\n",
       "    <tr>\n",
       "      <th>1</th>\n",
       "      <td>35-51</td>\n",
       "      <td>22</td>\n",
       "      <td>25</td>\n",
       "      <td>19</td>\n",
       "    </tr>\n",
       "    <tr>\n",
       "      <th>2</th>\n",
       "      <td>52+</td>\n",
       "      <td>8</td>\n",
       "      <td>9</td>\n",
       "      <td>13</td>\n",
       "    </tr>\n",
       "  </tbody>\n",
       "</table>\n",
       "</div>"
      ],
      "text/plain": [
       "  age_group  canon  nikon  sony\n",
       "0     18-34     30     16     8\n",
       "1     35-51     22     25    19\n",
       "2       52+      8      9    13"
      ]
     },
     "execution_count": 8,
     "metadata": {},
     "output_type": "execute_result"
    }
   ],
   "source": [
    "data = pd.DataFrame({'age_group':['18-34','35-51','52+'],\n",
    "                    'canon':[30,22,8],\n",
    "                    'nikon':[16,25,9],\n",
    "                    'sony':[8,19,13]})\n",
    "\n",
    "data"
   ]
  },
  {
   "cell_type": "code",
   "execution_count": 10,
   "id": "5b7fb9dc",
   "metadata": {},
   "outputs": [
    {
     "data": {
      "text/plain": [
       "(12.145454545454545,\n",
       " 0.01630177772323308,\n",
       " 4,\n",
       " array([[21.6, 18. , 14.4],\n",
       "        [26.4, 22. , 17.6],\n",
       "        [12. , 10. ,  8. ]]))"
      ]
     },
     "execution_count": 10,
     "metadata": {},
     "output_type": "execute_result"
    }
   ],
   "source": [
    "# H0: The camera brand and age of customer are independent of one another \n",
    "# H1: The camera brand and age of customer are not independent of one another\n",
    "\n",
    "chi2stat, pval, dof, expected = stats.chi2_contingency(data.iloc[:,1:])\n",
    "\n",
    "chi2stat, pval, dof, expected"
   ]
  },
  {
   "cell_type": "markdown",
   "id": "edceb94b",
   "metadata": {},
   "source": [
    "# Nonparametric Statistics\n",
    "\n",
    "- Nonparametric statistics is a term used to describe procedures that rely on fewer assumptions about the probability distribution for a population of interest than parametric statistics do. Nonparametric statistics also can be used for data that are at the nominal or ordinal level of measurement. Finally, nonparametric statistics can be used to perform a hypothesis test to estimate the population median, which parametric statistics cannot do."
   ]
  },
  {
   "cell_type": "markdown",
   "id": "75d70437",
   "metadata": {},
   "source": [
    "### 1. The Wilcoxon Rank-Sum Test for Two Independent Samples\n",
    "\n",
    "- The Wilcoxon rank-sum test is a nonparametric procedure that determines whether two populations have the same probability distribution based on evidence from two independent samples."
   ]
  },
  {
   "cell_type": "code",
   "execution_count": 3,
   "id": "a7b4cc2c",
   "metadata": {},
   "outputs": [
    {
     "data": {
      "text/plain": [
       "RanksumsResult(statistic=-2.1988227369598095, pvalue=0.027890529120246504)"
      ]
     },
     "execution_count": 3,
     "metadata": {},
     "output_type": "execute_result"
    }
   ],
   "source": [
    "s1 = np.array([24, 31,26,33,28,22,27,23])\n",
    "s2 = np.array([32,32,29,25,43,35,45])\n",
    "\n",
    "# H0: two sets of measurements are drawn from the same distribution.\n",
    "# H1: \n",
    "\n",
    "stats.ranksums(s1,s2)"
   ]
  },
  {
   "cell_type": "code",
   "execution_count": 4,
   "id": "18173578",
   "metadata": {},
   "outputs": [
    {
     "data": {
      "text/plain": [
       "RanksumsResult(statistic=-1.8463723646899908, pvalue=0.06483815699206645)"
      ]
     },
     "execution_count": 4,
     "metadata": {},
     "output_type": "execute_result"
    }
   ],
   "source": [
    "g1 = np.array([743,792,798,1260,748,614,709,678,557,952,917])\n",
    "g2 = np.array([947,1318,567,465,1137,1442,1229,1122,1421,1152,617,1287])\n",
    "\n",
    "stats.ranksums(g1, g2)"
   ]
  },
  {
   "cell_type": "markdown",
   "id": "823e1d0e",
   "metadata": {},
   "source": [
    "### 2. The Wilcoxon Signed-Rank Test for Two Dependent Samples\n",
    "- The Wilcoxon signed-rank test is a nonparametric procedure that can be used to compare two dependent samples. The populations from which they were drawn need not be normally distributed."
   ]
  },
  {
   "cell_type": "code",
   "execution_count": 6,
   "id": "95068340",
   "metadata": {},
   "outputs": [
    {
     "data": {
      "text/plain": [
       "WilcoxonResult(statistic=8.5, pvalue=0.12890625)"
      ]
     },
     "execution_count": 6,
     "metadata": {},
     "output_type": "execute_result"
    }
   ],
   "source": [
    "end_asile = np.array([64,54,126,97,37,74,117,90,81])\n",
    "middle_asile = np.array([72,41,100,62,40,60,122,62,78])\n",
    "\n",
    "stats.wilcoxon(end_asile, middle_asile)"
   ]
  },
  {
   "cell_type": "markdown",
   "id": "3809bea9",
   "metadata": {},
   "source": [
    "### 3. The Kruskal–Wallis One-Way ANOVA\n",
    "\n",
    "- The Kruskal–Wallis test is a nonparametric procedure that allows us to determine if there is difference in the medians of three or more populations."
   ]
  },
  {
   "cell_type": "code",
   "execution_count": 7,
   "id": "1c73c4b1",
   "metadata": {},
   "outputs": [
    {
     "data": {
      "text/plain": [
       "KruskalResult(statistic=1.935642733777443, pvalue=0.3799098212636963)"
      ]
     },
     "execution_count": 7,
     "metadata": {},
     "output_type": "execute_result"
    }
   ],
   "source": [
    "s1 = np.array([157, 76,215,235,349])\n",
    "s2 = np.array([798,296,371,396,129,234])\n",
    "s3 = np.array([129,571,129,316,253,543,115])\n",
    "\n",
    "# H0: the population median of all of the groups are equal\n",
    "\n",
    "stats.kruskal(s1,s2,s3)"
   ]
  },
  {
   "cell_type": "markdown",
   "id": "9a7001bc",
   "metadata": {},
   "source": [
    "### 4. The Spearman Rank-Order Correlation Coefficient\n",
    "- The Spearman rank-order correlation coefficient, rS, measures the strength and direction of the relationship between two variables but only requires the data be at the ordinal level of measurement."
   ]
  },
  {
   "cell_type": "code",
   "execution_count": 8,
   "id": "a68eedd5",
   "metadata": {},
   "outputs": [
    {
     "data": {
      "text/plain": [
       "SpearmanrResult(correlation=0.7650368522374495, pvalue=0.0763256359782481)"
      ]
     },
     "execution_count": 8,
     "metadata": {},
     "output_type": "execute_result"
    }
   ],
   "source": [
    "study_hours = np.array([3,6,4,4,3,2])\n",
    "exam_grade = np.array([86,95,92,83,78,79])\n",
    "\n",
    "stats.spearmanr(study_hours, exam_grade)"
   ]
  },
  {
   "cell_type": "code",
   "execution_count": null,
   "id": "66e71615",
   "metadata": {},
   "outputs": [],
   "source": []
  }
 ],
 "metadata": {
  "kernelspec": {
   "display_name": "Python 3",
   "language": "python",
   "name": "python3"
  },
  "language_info": {
   "codemirror_mode": {
    "name": "ipython",
    "version": 3
   },
   "file_extension": ".py",
   "mimetype": "text/x-python",
   "name": "python",
   "nbconvert_exporter": "python",
   "pygments_lexer": "ipython3",
   "version": "3.8.8"
  }
 },
 "nbformat": 4,
 "nbformat_minor": 5
}
