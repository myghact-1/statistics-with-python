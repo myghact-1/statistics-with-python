{
 "cells": [
  {
   "cell_type": "code",
   "execution_count": 1,
   "id": "7c83f388",
   "metadata": {},
   "outputs": [],
   "source": [
    "import numpy as np\n",
    "import pandas as pd\n",
    "import matplotlib.pyplot as plt\n",
    "\n",
    "from scipy import stats"
   ]
  },
  {
   "cell_type": "markdown",
   "id": "84409e7a",
   "metadata": {},
   "source": [
    "## Types of Samping\n",
    "<br>\n",
    "- 1. Simple Random\n",
    "- 2. Systematic (Every Kth)\n",
    "- 3. Stratified\n",
    "- 4. Cluster\n",
    "- 5. Resampling"
   ]
  },
  {
   "cell_type": "markdown",
   "id": "4f113507",
   "metadata": {},
   "source": [
    "## Central limit theorem\n",
    "The Central Limit Theorem states that the sample means of large-sized samples will be normally distributed regardless of the shape of their population distributions. "
   ]
  },
  {
   "cell_type": "markdown",
   "id": "adb0aa93",
   "metadata": {},
   "source": [
    "1. When Population standard deviation is known \n",
    "$$ UCL = \\bar {x} + z_{\\alpha/2} \\frac {\\sigma}  {\\sqrt{n}} $$"
   ]
  },
  {
   "cell_type": "code",
   "execution_count": 3,
   "id": "4620a0da",
   "metadata": {},
   "outputs": [
    {
     "data": {
      "text/plain": [
       "(117.39466539018174, 141.00533460981822)"
      ]
     },
     "execution_count": 3,
     "metadata": {},
     "output_type": "execute_result"
    }
   ],
   "source": [
    "sigma = 40.60\n",
    "n = 32\n",
    "# 90% confidence interval\n",
    "confidence_interval = stats.norm.interval(0.90, loc=129.20, scale=sigma/(n)**0.5)\n",
    "confidence_interval"
   ]
  },
  {
   "cell_type": "code",
   "execution_count": 4,
   "id": "07cef1bc",
   "metadata": {},
   "outputs": [
    {
     "data": {
      "text/plain": [
       "(115.13307618285076, 143.2669238171492)"
      ]
     },
     "execution_count": 4,
     "metadata": {},
     "output_type": "execute_result"
    }
   ],
   "source": [
    "# 95% confidence interval\n",
    "confidence_interval2 = stats.norm.interval(0.95, loc=129.20, scale=sigma/(n)**0.5)\n",
    "confidence_interval2"
   ]
  },
  {
   "cell_type": "code",
   "execution_count": 5,
   "id": "8c49c746",
   "metadata": {},
   "outputs": [
    {
     "data": {
      "text/plain": [
       "(110.71292836765772, 147.68707163234225)"
      ]
     },
     "execution_count": 5,
     "metadata": {},
     "output_type": "execute_result"
    }
   ],
   "source": [
    "# 99% confidence interval\n",
    "stats.norm.interval(0.99, loc=129.20, scale=sigma/(n)**0.5)"
   ]
  },
  {
   "cell_type": "markdown",
   "id": "3c9160aa",
   "metadata": {},
   "source": [
    "1. When Population standard deviation is unknown (Studen's t-Distribution)\n",
    "$$ UCL = \\bar {x} + t_{\\alpha/2, df} \\frac {s}  {\\sqrt{n}} $$"
   ]
  },
  {
   "cell_type": "code",
   "execution_count": 7,
   "id": "d09324fa",
   "metadata": {},
   "outputs": [
    {
     "data": {
      "text/plain": [
       "(92.04501420816499, 108.55498579183501)"
      ]
     },
     "execution_count": 7,
     "metadata": {},
     "output_type": "execute_result"
    }
   ],
   "source": [
    "mean = 100.3\n",
    "s = 16.6\n",
    "n = 18\n",
    "stats.t.interval(0.95, loc=mean, scale=s/(n)**0.5, df=n-1)"
   ]
  },
  {
   "cell_type": "code",
   "execution_count": 2,
   "id": "f328f12e",
   "metadata": {},
   "outputs": [
    {
     "data": {
      "text/plain": [
       "(103.497916296103, 158.502083703897)"
      ]
     },
     "execution_count": 2,
     "metadata": {},
     "output_type": "execute_result"
    }
   ],
   "source": [
    "# cost charged by a tax preparation service\n",
    "data = np.array([135,120,150,110,90,115,130,200,180,200,140,150,100,75,70])\n",
    "\n",
    "# a. Using a 98% confidence interval, estimate the average cost of the service for preparing a tax return for a customer.\n",
    "# b. What is the margin of error for this sample? \n",
    "# c. Verify your result using Excel. \n",
    "# d. What assumptions are necessary for this analysis?\n",
    "\n",
    "res_a = stats.t.interval(alpha=0.98, df=len(data)-1,\n",
    "                        loc=data.mean(), scale=stats.sem(data))\n",
    "res_a"
   ]
  },
  {
   "cell_type": "code",
   "execution_count": 9,
   "id": "c9275047",
   "metadata": {},
   "outputs": [
    {
     "data": {
      "text/plain": [
       "(199.59001803523282, 244.40998181110837)"
      ]
     },
     "execution_count": 9,
     "metadata": {},
     "output_type": "execute_result"
    }
   ],
   "source": [
    "## Q.\n",
    "n = 33\n",
    "mean = 222\n",
    "std = 76\n",
    "stats.t.interval(alpha=0.90,df=n-1, loc=mean,\n",
    "                scale=std/(33)**0.5)"
   ]
  },
  {
   "cell_type": "code",
   "execution_count": 10,
   "id": "d977d63e",
   "metadata": {},
   "outputs": [
    {
     "data": {
      "text/plain": [
       "(269.87984899822425, 373.7868176684424)"
      ]
     },
     "execution_count": 10,
     "metadata": {},
     "output_type": "execute_result"
    }
   ],
   "source": [
    "data = np.array([356,275,371,384,457,326,\n",
    "                414,367,362,286,104,136,\n",
    "                320,244,370,215,322,409,\n",
    "                303,489,251,361,337,265])\n",
    "\n",
    "avg_domestic_fare = stats.t.interval(alpha=0.99, df=len(data)-1,\n",
    "                                    loc=data.mean(), scale=stats.sem(data))\n",
    "avg_domestic_fare"
   ]
  },
  {
   "cell_type": "code",
   "execution_count": 12,
   "id": "ea0e0361",
   "metadata": {},
   "outputs": [
    {
     "data": {
      "text/plain": [
       "51.95348433510907"
      ]
     },
     "execution_count": 12,
     "metadata": {},
     "output_type": "execute_result"
    }
   ],
   "source": [
    "margin_of_error = data.mean() - avg_domestic_fare[0]\n",
    "margin_of_error"
   ]
  },
  {
   "cell_type": "code",
   "execution_count": null,
   "id": "f8b98425",
   "metadata": {},
   "outputs": [],
   "source": []
  },
  {
   "cell_type": "code",
   "execution_count": null,
   "id": "6b3f5d91",
   "metadata": {},
   "outputs": [],
   "source": []
  },
  {
   "cell_type": "code",
   "execution_count": null,
   "id": "c5a93c68",
   "metadata": {},
   "outputs": [],
   "source": []
  },
  {
   "cell_type": "markdown",
   "id": "b8f76253",
   "metadata": {},
   "source": [
    "## Calculating confidence interval for proportions\n",
    "$$ UCL = \\bar {x} + z_{\\alpha/2}  \\sqrt \\frac {\\bar{p} (1-\\bar{p})}  {n} $$"
   ]
  },
  {
   "cell_type": "code",
   "execution_count": 11,
   "id": "4fb166eb",
   "metadata": {},
   "outputs": [],
   "source": [
    "from statsmodels.stats.proportion import proportion_confint"
   ]
  },
  {
   "cell_type": "code",
   "execution_count": 13,
   "id": "9d79fede",
   "metadata": {},
   "outputs": [
    {
     "data": {
      "text/plain": [
       "(0.5708090050263673, 0.7549052806879183)"
      ]
     },
     "execution_count": 13,
     "metadata": {},
     "output_type": "execute_result"
    }
   ],
   "source": [
    "p_bar = 0.663\n",
    "n = 175\n",
    "proportion_confint(count=int(p_bar*n), nobs=n, alpha=0.01)"
   ]
  },
  {
   "cell_type": "code",
   "execution_count": null,
   "id": "83cb6b47",
   "metadata": {},
   "outputs": [],
   "source": []
  }
 ],
 "metadata": {
  "kernelspec": {
   "display_name": "Python 3",
   "language": "python",
   "name": "python3"
  },
  "language_info": {
   "codemirror_mode": {
    "name": "ipython",
    "version": 3
   },
   "file_extension": ".py",
   "mimetype": "text/x-python",
   "name": "python",
   "nbconvert_exporter": "python",
   "pygments_lexer": "ipython3",
   "version": "3.8.8"
  }
 },
 "nbformat": 4,
 "nbformat_minor": 5
}
