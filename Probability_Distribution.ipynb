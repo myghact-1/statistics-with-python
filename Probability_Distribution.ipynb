{
 "cells": [
  {
   "cell_type": "code",
   "execution_count": 1,
   "id": "73772820",
   "metadata": {},
   "outputs": [],
   "source": [
    "import numpy as np\n",
    "import pandas as pd\n",
    "import matplotlib.pyplot as plt\n",
    "\n",
    "from scipy import stats\n",
    "import statsmodels.api as sm"
   ]
  },
  {
   "cell_type": "code",
   "execution_count": null,
   "id": "55ec4ad1",
   "metadata": {},
   "outputs": [],
   "source": []
  },
  {
   "cell_type": "markdown",
   "id": "10b3f235",
   "metadata": {},
   "source": [
    "# Discrete Probability Distribution"
   ]
  },
  {
   "cell_type": "markdown",
   "id": "397278fc",
   "metadata": {},
   "source": [
    "## 1. Binomial Distribution"
   ]
  },
  {
   "cell_type": "code",
   "execution_count": 2,
   "id": "8538c236",
   "metadata": {},
   "outputs": [
    {
     "data": {
      "text/plain": [
       "array([0.003375, 0.057375, 0.325125, 0.614125])"
      ]
     },
     "execution_count": 2,
     "metadata": {},
     "output_type": "execute_result"
    }
   ],
   "source": [
    "### Q. n = 3, p = 0.85\n",
    "\n",
    "rv = stats.binom(3, 0.85)\n",
    "\n",
    "proba = rv.pmf(np.arange(4))\n",
    "proba"
   ]
  },
  {
   "cell_type": "code",
   "execution_count": 4,
   "id": "e50932ad",
   "metadata": {},
   "outputs": [
    {
     "data": {
      "text/plain": [
       "1.0"
      ]
     },
     "execution_count": 4,
     "metadata": {},
     "output_type": "execute_result"
    }
   ],
   "source": [
    "proba.sum()"
   ]
  },
  {
   "cell_type": "code",
   "execution_count": 3,
   "id": "858eb1bd",
   "metadata": {},
   "outputs": [
    {
     "data": {
      "text/html": [
       "<div>\n",
       "<style scoped>\n",
       "    .dataframe tbody tr th:only-of-type {\n",
       "        vertical-align: middle;\n",
       "    }\n",
       "\n",
       "    .dataframe tbody tr th {\n",
       "        vertical-align: top;\n",
       "    }\n",
       "\n",
       "    .dataframe thead th {\n",
       "        text-align: right;\n",
       "    }\n",
       "</style>\n",
       "<table border=\"1\" class=\"dataframe\">\n",
       "  <thead>\n",
       "    <tr style=\"text-align: right;\">\n",
       "      <th></th>\n",
       "      <th>x</th>\n",
       "      <th>proba</th>\n",
       "    </tr>\n",
       "  </thead>\n",
       "  <tbody>\n",
       "    <tr>\n",
       "      <th>0</th>\n",
       "      <td>0</td>\n",
       "      <td>0.003375</td>\n",
       "    </tr>\n",
       "    <tr>\n",
       "      <th>1</th>\n",
       "      <td>1</td>\n",
       "      <td>0.057375</td>\n",
       "    </tr>\n",
       "    <tr>\n",
       "      <th>2</th>\n",
       "      <td>2</td>\n",
       "      <td>0.325125</td>\n",
       "    </tr>\n",
       "    <tr>\n",
       "      <th>3</th>\n",
       "      <td>3</td>\n",
       "      <td>0.614125</td>\n",
       "    </tr>\n",
       "  </tbody>\n",
       "</table>\n",
       "</div>"
      ],
      "text/plain": [
       "   x     proba\n",
       "0  0  0.003375\n",
       "1  1  0.057375\n",
       "2  2  0.325125\n",
       "3  3  0.614125"
      ]
     },
     "execution_count": 3,
     "metadata": {},
     "output_type": "execute_result"
    }
   ],
   "source": [
    "pd.DataFrame({\"x\":np.arange(4),\"proba\":proba})"
   ]
  },
  {
   "cell_type": "code",
   "execution_count": 7,
   "id": "71f61276",
   "metadata": {},
   "outputs": [
    {
     "data": {
      "text/html": [
       "<div>\n",
       "<style scoped>\n",
       "    .dataframe tbody tr th:only-of-type {\n",
       "        vertical-align: middle;\n",
       "    }\n",
       "\n",
       "    .dataframe tbody tr th {\n",
       "        vertical-align: top;\n",
       "    }\n",
       "\n",
       "    .dataframe thead th {\n",
       "        text-align: right;\n",
       "    }\n",
       "</style>\n",
       "<table border=\"1\" class=\"dataframe\">\n",
       "  <thead>\n",
       "    <tr style=\"text-align: right;\">\n",
       "      <th></th>\n",
       "      <th>x</th>\n",
       "      <th>proba</th>\n",
       "      <th>cdf_proba</th>\n",
       "    </tr>\n",
       "  </thead>\n",
       "  <tbody>\n",
       "    <tr>\n",
       "      <th>0</th>\n",
       "      <td>0</td>\n",
       "      <td>0.16807</td>\n",
       "      <td>0.16807</td>\n",
       "    </tr>\n",
       "    <tr>\n",
       "      <th>1</th>\n",
       "      <td>1</td>\n",
       "      <td>0.36015</td>\n",
       "      <td>0.52822</td>\n",
       "    </tr>\n",
       "    <tr>\n",
       "      <th>2</th>\n",
       "      <td>2</td>\n",
       "      <td>0.30870</td>\n",
       "      <td>0.83692</td>\n",
       "    </tr>\n",
       "    <tr>\n",
       "      <th>3</th>\n",
       "      <td>3</td>\n",
       "      <td>0.13230</td>\n",
       "      <td>0.96922</td>\n",
       "    </tr>\n",
       "    <tr>\n",
       "      <th>4</th>\n",
       "      <td>4</td>\n",
       "      <td>0.02835</td>\n",
       "      <td>0.99757</td>\n",
       "    </tr>\n",
       "    <tr>\n",
       "      <th>5</th>\n",
       "      <td>5</td>\n",
       "      <td>0.00243</td>\n",
       "      <td>1.00000</td>\n",
       "    </tr>\n",
       "  </tbody>\n",
       "</table>\n",
       "</div>"
      ],
      "text/plain": [
       "   x    proba  cdf_proba\n",
       "0  0  0.16807    0.16807\n",
       "1  1  0.36015    0.52822\n",
       "2  2  0.30870    0.83692\n",
       "3  3  0.13230    0.96922\n",
       "4  4  0.02835    0.99757\n",
       "5  5  0.00243    1.00000"
      ]
     },
     "execution_count": 7,
     "metadata": {},
     "output_type": "execute_result"
    }
   ],
   "source": [
    "### Q. p = 0.30 only 30% of students go for higher studies, n = 5 students\n",
    "\n",
    "n = 5\n",
    "p = 0.30\n",
    "\n",
    "\n",
    "rv = stats.binom(n, p)\n",
    "\n",
    "proba = rv.pmf(np.arange(n+1))\n",
    "cdf_proba = rv.cdf(np.arange(n+1))\n",
    "\n",
    "pd.DataFrame({\"x\":np.arange(n+1),\"proba\":proba, \"cdf_proba\":cdf_proba})"
   ]
  },
  {
   "cell_type": "code",
   "execution_count": 9,
   "id": "1aceeca4",
   "metadata": {},
   "outputs": [
    {
     "data": {
      "text/html": [
       "<div>\n",
       "<style scoped>\n",
       "    .dataframe tbody tr th:only-of-type {\n",
       "        vertical-align: middle;\n",
       "    }\n",
       "\n",
       "    .dataframe tbody tr th {\n",
       "        vertical-align: top;\n",
       "    }\n",
       "\n",
       "    .dataframe thead th {\n",
       "        text-align: right;\n",
       "    }\n",
       "</style>\n",
       "<table border=\"1\" class=\"dataframe\">\n",
       "  <thead>\n",
       "    <tr style=\"text-align: right;\">\n",
       "      <th></th>\n",
       "      <th>x</th>\n",
       "      <th>proba</th>\n",
       "      <th>cdf_proba</th>\n",
       "    </tr>\n",
       "  </thead>\n",
       "  <tbody>\n",
       "    <tr>\n",
       "      <th>0</th>\n",
       "      <td>0</td>\n",
       "      <td>3.273391e-50</td>\n",
       "      <td>3.273391e-50</td>\n",
       "    </tr>\n",
       "    <tr>\n",
       "      <th>1</th>\n",
       "      <td>1</td>\n",
       "      <td>6.955955e-48</td>\n",
       "      <td>6.988689e-48</td>\n",
       "    </tr>\n",
       "    <tr>\n",
       "      <th>2</th>\n",
       "      <td>2</td>\n",
       "      <td>7.316795e-46</td>\n",
       "      <td>7.386682e-46</td>\n",
       "    </tr>\n",
       "    <tr>\n",
       "      <th>3</th>\n",
       "      <td>3</td>\n",
       "      <td>5.079075e-44</td>\n",
       "      <td>5.152942e-44</td>\n",
       "    </tr>\n",
       "    <tr>\n",
       "      <th>4</th>\n",
       "      <td>4</td>\n",
       "      <td>2.617311e-42</td>\n",
       "      <td>2.668840e-42</td>\n",
       "    </tr>\n",
       "    <tr>\n",
       "      <th>...</th>\n",
       "      <td>...</td>\n",
       "      <td>...</td>\n",
       "      <td>...</td>\n",
       "    </tr>\n",
       "    <tr>\n",
       "      <th>96</th>\n",
       "      <td>96</td>\n",
       "      <td>3.426710e-12</td>\n",
       "      <td>1.000000e+00</td>\n",
       "    </tr>\n",
       "    <tr>\n",
       "      <th>97</th>\n",
       "      <td>97</td>\n",
       "      <td>3.002787e-13</td>\n",
       "      <td>1.000000e+00</td>\n",
       "    </tr>\n",
       "    <tr>\n",
       "      <th>98</th>\n",
       "      <td>98</td>\n",
       "      <td>1.953343e-14</td>\n",
       "      <td>1.000000e+00</td>\n",
       "    </tr>\n",
       "    <tr>\n",
       "      <th>99</th>\n",
       "      <td>99</td>\n",
       "      <td>8.385565e-16</td>\n",
       "      <td>1.000000e+00</td>\n",
       "    </tr>\n",
       "    <tr>\n",
       "      <th>100</th>\n",
       "      <td>100</td>\n",
       "      <td>1.781933e-17</td>\n",
       "      <td>1.000000e+00</td>\n",
       "    </tr>\n",
       "  </tbody>\n",
       "</table>\n",
       "<p>101 rows × 3 columns</p>\n",
       "</div>"
      ],
      "text/plain": [
       "       x         proba     cdf_proba\n",
       "0      0  3.273391e-50  3.273391e-50\n",
       "1      1  6.955955e-48  6.988689e-48\n",
       "2      2  7.316795e-46  7.386682e-46\n",
       "3      3  5.079075e-44  5.152942e-44\n",
       "4      4  2.617311e-42  2.668840e-42\n",
       "..   ...           ...           ...\n",
       "96    96  3.426710e-12  1.000000e+00\n",
       "97    97  3.002787e-13  1.000000e+00\n",
       "98    98  1.953343e-14  1.000000e+00\n",
       "99    99  8.385565e-16  1.000000e+00\n",
       "100  100  1.781933e-17  1.000000e+00\n",
       "\n",
       "[101 rows x 3 columns]"
      ]
     },
     "execution_count": 9,
     "metadata": {},
     "output_type": "execute_result"
    }
   ],
   "source": [
    "### n = 100, p = 0.68\n",
    "\n",
    "n = 100\n",
    "p = 0.68\n",
    "\n",
    "rv = stats.binom(n, p)\n",
    "\n",
    "proba = rv.pmf(np.arange(n+1))\n",
    "cdf_proba = rv.cdf(np.arange(n+1))\n",
    "\n",
    "df = pd.DataFrame({\"x\":np.arange(n+1),\"proba\":proba, \"cdf_proba\":cdf_proba})\n",
    "df"
   ]
  },
  {
   "cell_type": "code",
   "execution_count": 24,
   "id": "9990adb4",
   "metadata": {},
   "outputs": [
    {
     "name": "stdout",
     "output_type": "stream",
     "text": [
      "Probability of exactly 70 adults use social media = 0.0791\n",
      "\n",
      "Probability of no more than 70 adults use social media = 0.7007\n",
      "\n",
      "Probability of at least 70 adults use social media = 0.3784\n"
     ]
    }
   ],
   "source": [
    "print(\"Probability of exactly 70 adults use social media =\",round(df.proba[df.x==70].values[0], 4))\n",
    "print()\n",
    "print(\"Probability of no more than 70 adults use social media =\",round(df.cdf_proba[df.x==70].values[0], 4))\n",
    "print()\n",
    "print(\"Probability of at least 70 adults use social media =\",round(1- df.cdf_proba[df.x==69].values[0], 4))"
   ]
  },
  {
   "cell_type": "markdown",
   "id": "13913534",
   "metadata": {},
   "source": [
    "## 2. Poisson Distribution"
   ]
  },
  {
   "cell_type": "code",
   "execution_count": 29,
   "id": "c17171f5",
   "metadata": {},
   "outputs": [
    {
     "data": {
      "text/html": [
       "<div>\n",
       "<style scoped>\n",
       "    .dataframe tbody tr th:only-of-type {\n",
       "        vertical-align: middle;\n",
       "    }\n",
       "\n",
       "    .dataframe tbody tr th {\n",
       "        vertical-align: top;\n",
       "    }\n",
       "\n",
       "    .dataframe thead th {\n",
       "        text-align: right;\n",
       "    }\n",
       "</style>\n",
       "<table border=\"1\" class=\"dataframe\">\n",
       "  <thead>\n",
       "    <tr style=\"text-align: right;\">\n",
       "      <th></th>\n",
       "      <th>x</th>\n",
       "      <th>proba</th>\n",
       "      <th>cdf_proba</th>\n",
       "    </tr>\n",
       "  </thead>\n",
       "  <tbody>\n",
       "    <tr>\n",
       "      <th>0</th>\n",
       "      <td>0</td>\n",
       "      <td>0.049787</td>\n",
       "      <td>0.049787</td>\n",
       "    </tr>\n",
       "    <tr>\n",
       "      <th>1</th>\n",
       "      <td>1</td>\n",
       "      <td>0.149361</td>\n",
       "      <td>0.199148</td>\n",
       "    </tr>\n",
       "    <tr>\n",
       "      <th>2</th>\n",
       "      <td>2</td>\n",
       "      <td>0.224042</td>\n",
       "      <td>0.423190</td>\n",
       "    </tr>\n",
       "    <tr>\n",
       "      <th>3</th>\n",
       "      <td>3</td>\n",
       "      <td>0.224042</td>\n",
       "      <td>0.647232</td>\n",
       "    </tr>\n",
       "    <tr>\n",
       "      <th>4</th>\n",
       "      <td>4</td>\n",
       "      <td>0.168031</td>\n",
       "      <td>0.815263</td>\n",
       "    </tr>\n",
       "    <tr>\n",
       "      <th>5</th>\n",
       "      <td>5</td>\n",
       "      <td>0.100819</td>\n",
       "      <td>0.916082</td>\n",
       "    </tr>\n",
       "  </tbody>\n",
       "</table>\n",
       "</div>"
      ],
      "text/plain": [
       "   x     proba  cdf_proba\n",
       "0  0  0.049787   0.049787\n",
       "1  1  0.149361   0.199148\n",
       "2  2  0.224042   0.423190\n",
       "3  3  0.224042   0.647232\n",
       "4  4  0.168031   0.815263\n",
       "5  5  0.100819   0.916082"
      ]
     },
     "execution_count": 29,
     "metadata": {},
     "output_type": "execute_result"
    }
   ],
   "source": [
    "### 18 visits in 30 days\n",
    "\n",
    "mu = 3 ## average visits in 5 days\n",
    "x = 5\n",
    "rv = stats.poisson(mu)\n",
    "\n",
    "proba = rv.pmf(np.arange(x+1))\n",
    "cdf_proba = rv.cdf(np.arange(x+1))\n",
    "pd.DataFrame({\"x\":np.arange(x+1),\"proba\":proba, \"cdf_proba\":cdf_proba})"
   ]
  },
  {
   "cell_type": "markdown",
   "id": "a3841861",
   "metadata": {},
   "source": [
    "## 3. Hypergeometric Distribution"
   ]
  },
  {
   "cell_type": "code",
   "execution_count": 46,
   "id": "26759c21",
   "metadata": {},
   "outputs": [
    {
     "data": {
      "text/html": [
       "<div>\n",
       "<style scoped>\n",
       "    .dataframe tbody tr th:only-of-type {\n",
       "        vertical-align: middle;\n",
       "    }\n",
       "\n",
       "    .dataframe tbody tr th {\n",
       "        vertical-align: top;\n",
       "    }\n",
       "\n",
       "    .dataframe thead th {\n",
       "        text-align: right;\n",
       "    }\n",
       "</style>\n",
       "<table border=\"1\" class=\"dataframe\">\n",
       "  <thead>\n",
       "    <tr style=\"text-align: right;\">\n",
       "      <th></th>\n",
       "      <th>x</th>\n",
       "      <th>proba</th>\n",
       "      <th>cdf_proba</th>\n",
       "    </tr>\n",
       "  </thead>\n",
       "  <tbody>\n",
       "    <tr>\n",
       "      <th>0</th>\n",
       "      <td>0</td>\n",
       "      <td>0.552632</td>\n",
       "      <td>0.552632</td>\n",
       "    </tr>\n",
       "    <tr>\n",
       "      <th>1</th>\n",
       "      <td>1</td>\n",
       "      <td>0.394737</td>\n",
       "      <td>0.947368</td>\n",
       "    </tr>\n",
       "    <tr>\n",
       "      <th>2</th>\n",
       "      <td>2</td>\n",
       "      <td>0.052632</td>\n",
       "      <td>1.000000</td>\n",
       "    </tr>\n",
       "    <tr>\n",
       "      <th>3</th>\n",
       "      <td>3</td>\n",
       "      <td>0.000000</td>\n",
       "      <td>1.000000</td>\n",
       "    </tr>\n",
       "    <tr>\n",
       "      <th>4</th>\n",
       "      <td>4</td>\n",
       "      <td>0.000000</td>\n",
       "      <td>1.000000</td>\n",
       "    </tr>\n",
       "    <tr>\n",
       "      <th>5</th>\n",
       "      <td>5</td>\n",
       "      <td>0.000000</td>\n",
       "      <td>1.000000</td>\n",
       "    </tr>\n",
       "  </tbody>\n",
       "</table>\n",
       "</div>"
      ],
      "text/plain": [
       "   x     proba  cdf_proba\n",
       "0  0  0.552632   0.552632\n",
       "1  1  0.394737   0.947368\n",
       "2  2  0.052632   1.000000\n",
       "3  3  0.000000   1.000000\n",
       "4  4  0.000000   1.000000\n",
       "5  5  0.000000   1.000000"
      ]
     },
     "execution_count": 46,
     "metadata": {},
     "output_type": "execute_result"
    }
   ],
   "source": [
    "R = 2 # 2 damaged in all 20\n",
    "n = 5 # sample of 5\n",
    "N = 20 # total mangoes\n",
    "\n",
    "rv = stats.hypergeom(N, n, R)\n",
    "\n",
    "x = np.arange(n+1)\n",
    "\n",
    "proba = rv.pmf(x)\n",
    "cdf_proba = rv.cdf(x)\n",
    "\n",
    "pd.DataFrame({\"x\":x,\"proba\":proba, \"cdf_proba\":cdf_proba})"
   ]
  },
  {
   "cell_type": "code",
   "execution_count": 47,
   "id": "41306f37",
   "metadata": {},
   "outputs": [
    {
     "data": {
      "text/plain": [
       "0.49999999999999994"
      ]
     },
     "execution_count": 47,
     "metadata": {},
     "output_type": "execute_result"
    }
   ],
   "source": [
    "expected_value = rv.expect()\n",
    "expected_value"
   ]
  },
  {
   "cell_type": "code",
   "execution_count": 48,
   "id": "7217a47f",
   "metadata": {},
   "outputs": [
    {
     "data": {
      "text/html": [
       "<div>\n",
       "<style scoped>\n",
       "    .dataframe tbody tr th:only-of-type {\n",
       "        vertical-align: middle;\n",
       "    }\n",
       "\n",
       "    .dataframe tbody tr th {\n",
       "        vertical-align: top;\n",
       "    }\n",
       "\n",
       "    .dataframe thead th {\n",
       "        text-align: right;\n",
       "    }\n",
       "</style>\n",
       "<table border=\"1\" class=\"dataframe\">\n",
       "  <thead>\n",
       "    <tr style=\"text-align: right;\">\n",
       "      <th></th>\n",
       "      <th>x</th>\n",
       "      <th>proba</th>\n",
       "      <th>cdf_proba</th>\n",
       "    </tr>\n",
       "  </thead>\n",
       "  <tbody>\n",
       "    <tr>\n",
       "      <th>0</th>\n",
       "      <td>0</td>\n",
       "      <td>0.016601</td>\n",
       "      <td>0.016601</td>\n",
       "    </tr>\n",
       "    <tr>\n",
       "      <th>1</th>\n",
       "      <td>1</td>\n",
       "      <td>0.142292</td>\n",
       "      <td>0.158893</td>\n",
       "    </tr>\n",
       "    <tr>\n",
       "      <th>2</th>\n",
       "      <td>2</td>\n",
       "      <td>0.373518</td>\n",
       "      <td>0.532411</td>\n",
       "    </tr>\n",
       "    <tr>\n",
       "      <th>3</th>\n",
       "      <td>3</td>\n",
       "      <td>0.359684</td>\n",
       "      <td>0.892095</td>\n",
       "    </tr>\n",
       "    <tr>\n",
       "      <th>4</th>\n",
       "      <td>4</td>\n",
       "      <td>0.107905</td>\n",
       "      <td>1.000000</td>\n",
       "    </tr>\n",
       "  </tbody>\n",
       "</table>\n",
       "</div>"
      ],
      "text/plain": [
       "   x     proba  cdf_proba\n",
       "0  0  0.016601   0.016601\n",
       "1  1  0.142292   0.158893\n",
       "2  2  0.373518   0.532411\n",
       "3  3  0.359684   0.892095\n",
       "4  4  0.107905   1.000000"
      ]
     },
     "execution_count": 48,
     "metadata": {},
     "output_type": "execute_result"
    }
   ],
   "source": [
    "R = 15 # have college degree\n",
    "n = 4 # random sample\n",
    "N = 25 # total applicants\n",
    "\n",
    "rv = stats.hypergeom(N, n, R)\n",
    "\n",
    "x = np.arange(n+1)\n",
    "\n",
    "proba = rv.pmf(x)\n",
    "cdf_proba = rv.cdf(x)\n",
    "\n",
    "pd.DataFrame({\"x\":x,\"proba\":proba, \"cdf_proba\":cdf_proba})"
   ]
  },
  {
   "cell_type": "markdown",
   "id": "7cf49b86",
   "metadata": {},
   "source": [
    "# Continuous Probability Distribution"
   ]
  },
  {
   "cell_type": "markdown",
   "id": "a074c553",
   "metadata": {},
   "source": [
    "## 1. Uniform Distribution"
   ]
  },
  {
   "cell_type": "code",
   "execution_count": 87,
   "id": "0b432d8d",
   "metadata": {},
   "outputs": [
    {
     "data": {
      "text/plain": [
       "3750.0"
      ]
     },
     "execution_count": 87,
     "metadata": {},
     "output_type": "execute_result"
    }
   ],
   "source": [
    "A = np.array([2500, 5000])  ## lower and upper boundary\n",
    "mean = A.mean()\n",
    "mean"
   ]
  },
  {
   "cell_type": "code",
   "execution_count": 90,
   "id": "24eaca3e",
   "metadata": {},
   "outputs": [
    {
     "data": {
      "text/plain": [
       "721.6878364870322"
      ]
     },
     "execution_count": 90,
     "metadata": {},
     "output_type": "execute_result"
    }
   ],
   "source": [
    "std = (5000 - 2500) * (1/12)**0.5\n",
    "std"
   ]
  },
  {
   "cell_type": "code",
   "execution_count": null,
   "id": "ec43cc60",
   "metadata": {},
   "outputs": [],
   "source": []
  },
  {
   "cell_type": "markdown",
   "id": "ee6ead31",
   "metadata": {},
   "source": [
    "## 2. Normal Distribution"
   ]
  },
  {
   "cell_type": "code",
   "execution_count": 97,
   "id": "89cd7c9b",
   "metadata": {},
   "outputs": [],
   "source": [
    "## loc = means, scale = std\n",
    "\n",
    "# 72 mean score\n",
    "# 8 std\n",
    "\n",
    "norm = stats.norm(72, 8)"
   ]
  },
  {
   "cell_type": "code",
   "execution_count": 98,
   "id": "6f1e70db",
   "metadata": {},
   "outputs": [
    {
     "data": {
      "text/plain": [
       "0.9331927987311419"
      ]
     },
     "execution_count": 98,
     "metadata": {},
     "output_type": "execute_result"
    }
   ],
   "source": [
    "1 - norm.cdf(60) # probability of scoring greater than 60"
   ]
  },
  {
   "cell_type": "code",
   "execution_count": 99,
   "id": "cae4fadc",
   "metadata": {},
   "outputs": [
    {
     "data": {
      "text/plain": [
       "0.624655260005155"
      ]
     },
     "execution_count": 99,
     "metadata": {},
     "output_type": "execute_result"
    }
   ],
   "source": [
    "norm.cdf(84) - norm.cdf(68) ## probability of scoring between 84 and 68"
   ]
  },
  {
   "cell_type": "code",
   "execution_count": 101,
   "id": "2218b6b9",
   "metadata": {},
   "outputs": [
    {
     "data": {
      "text/plain": [
       "82.2524125243568"
      ]
     },
     "execution_count": 101,
     "metadata": {},
     "output_type": "execute_result"
    }
   ],
   "source": [
    "## ppf is inverse of cdf - percentiles\n",
    "norm.ppf(0.90) ## minimum score to place in top 10% (90th percentile)"
   ]
  },
  {
   "cell_type": "code",
   "execution_count": 102,
   "id": "908f0604",
   "metadata": {},
   "outputs": [
    {
     "data": {
      "text/plain": [
       "66.60408199843134"
      ]
     },
     "execution_count": 102,
     "metadata": {},
     "output_type": "execute_result"
    }
   ],
   "source": [
    "norm.ppf(0.25)"
   ]
  },
  {
   "cell_type": "code",
   "execution_count": 103,
   "id": "48b34227",
   "metadata": {},
   "outputs": [],
   "source": [
    "### Q.1 probability that the demand is above 20\n",
    "### Q.2 probability that the demand is below 15\n",
    "### Q.3 How much should be bought to meet the 90% of the demand\n",
    "\n",
    "mean = 12\n",
    "std = 3.2\n",
    "\n",
    "norm = stats.norm(mean, std)"
   ]
  },
  {
   "cell_type": "code",
   "execution_count": 104,
   "id": "e8aaf1a1",
   "metadata": {},
   "outputs": [
    {
     "data": {
      "text/plain": [
       "0.006209665325776132"
      ]
     },
     "execution_count": 104,
     "metadata": {},
     "output_type": "execute_result"
    }
   ],
   "source": [
    "## 1.\n",
    "norm.sf(20) # using survival function sf = 1 - cdf"
   ]
  },
  {
   "cell_type": "code",
   "execution_count": 106,
   "id": "bc0b0c2c",
   "metadata": {},
   "outputs": [
    {
     "data": {
      "text/plain": [
       "0.8257492881194576"
      ]
     },
     "execution_count": 106,
     "metadata": {},
     "output_type": "execute_result"
    }
   ],
   "source": [
    "## 2.\n",
    "norm.cdf(15)"
   ]
  },
  {
   "cell_type": "code",
   "execution_count": 107,
   "id": "56a8bc6a",
   "metadata": {},
   "outputs": [
    {
     "data": {
      "text/plain": [
       "16.100965009742723"
      ]
     },
     "execution_count": 107,
     "metadata": {},
     "output_type": "execute_result"
    }
   ],
   "source": [
    "## 3.\n",
    "norm.ppf(0.90)"
   ]
  },
  {
   "cell_type": "markdown",
   "id": "c3228134",
   "metadata": {},
   "source": [
    "## 3. Exponential Distribution"
   ]
  },
  {
   "cell_type": "markdown",
   "id": "b79e8bd6",
   "metadata": {},
   "source": [
    "### Formulas\n",
    "\n",
    "$$ f(x) = \\lambda e^{-\\lambda x}$$\n",
    "$$ P(X\\leq x) = 1 - e^{-\\lambda x} $$\n",
    "$$ P(X>x) = e^{-\\lambda x} $$"
   ]
  },
  {
   "cell_type": "markdown",
   "id": "fa83ed13",
   "metadata": {},
   "source": [
    "# Interval Estimation"
   ]
  },
  {
   "cell_type": "markdown",
   "id": "29380ccb",
   "metadata": {},
   "source": [
    "https://www.statology.org/confidence-intervals-python/"
   ]
  },
  {
   "cell_type": "markdown",
   "id": "c1de4859",
   "metadata": {},
   "source": [
    "- For Population\n",
    "$$ UCI = \\mu + z_{\\alpha /2} \\frac{\\sigma} {\\sqrt n}$$\n",
    "$$ LCI = \\mu - z_{\\alpha /2} \\frac{\\sigma} {\\sqrt n}$$"
   ]
  },
  {
   "cell_type": "code",
   "execution_count": 10,
   "id": "7a477f19",
   "metadata": {},
   "outputs": [
    {
     "data": {
      "text/plain": [
       "(100.73927232392532, 111.26072767607468)"
      ]
     },
     "execution_count": 10,
     "metadata": {},
     "output_type": "execute_result"
    }
   ],
   "source": [
    "mu = 106\n",
    "sigma = 15\n",
    "n = 22\n",
    "z_alpha_2 = 1.645 #90% confidence interval\n",
    "\n",
    "uci = mu + z_alpha_2*(sigma/n**0.5)\n",
    "lci = mu - z_alpha_2*(sigma/n**0.5)\n",
    "\n",
    "lci, uci"
   ]
  },
  {
   "cell_type": "markdown",
   "id": "fdf43fc3",
   "metadata": {},
   "source": [
    "### Student's t - distribution"
   ]
  },
  {
   "cell_type": "code",
   "execution_count": 11,
   "id": "5dd02111",
   "metadata": {
    "scrolled": true
   },
   "outputs": [
    {
     "data": {
      "text/html": [
       "<div>\n",
       "<style scoped>\n",
       "    .dataframe tbody tr th:only-of-type {\n",
       "        vertical-align: middle;\n",
       "    }\n",
       "\n",
       "    .dataframe tbody tr th {\n",
       "        vertical-align: top;\n",
       "    }\n",
       "\n",
       "    .dataframe thead th {\n",
       "        text-align: right;\n",
       "    }\n",
       "</style>\n",
       "<table border=\"1\" class=\"dataframe\">\n",
       "  <thead>\n",
       "    <tr style=\"text-align: right;\">\n",
       "      <th></th>\n",
       "      <th>cars</th>\n",
       "    </tr>\n",
       "  </thead>\n",
       "  <tbody>\n",
       "    <tr>\n",
       "      <th>0</th>\n",
       "      <td>97</td>\n",
       "    </tr>\n",
       "    <tr>\n",
       "      <th>1</th>\n",
       "      <td>87</td>\n",
       "    </tr>\n",
       "    <tr>\n",
       "      <th>2</th>\n",
       "      <td>102</td>\n",
       "    </tr>\n",
       "    <tr>\n",
       "      <th>3</th>\n",
       "      <td>113</td>\n",
       "    </tr>\n",
       "    <tr>\n",
       "      <th>4</th>\n",
       "      <td>112</td>\n",
       "    </tr>\n",
       "    <tr>\n",
       "      <th>5</th>\n",
       "      <td>117</td>\n",
       "    </tr>\n",
       "    <tr>\n",
       "      <th>6</th>\n",
       "      <td>78</td>\n",
       "    </tr>\n",
       "    <tr>\n",
       "      <th>7</th>\n",
       "      <td>98</td>\n",
       "    </tr>\n",
       "    <tr>\n",
       "      <th>8</th>\n",
       "      <td>111</td>\n",
       "    </tr>\n",
       "    <tr>\n",
       "      <th>9</th>\n",
       "      <td>89</td>\n",
       "    </tr>\n",
       "    <tr>\n",
       "      <th>10</th>\n",
       "      <td>93</td>\n",
       "    </tr>\n",
       "    <tr>\n",
       "      <th>11</th>\n",
       "      <td>83</td>\n",
       "    </tr>\n",
       "    <tr>\n",
       "      <th>12</th>\n",
       "      <td>82</td>\n",
       "    </tr>\n",
       "    <tr>\n",
       "      <th>13</th>\n",
       "      <td>90</td>\n",
       "    </tr>\n",
       "    <tr>\n",
       "      <th>14</th>\n",
       "      <td>92</td>\n",
       "    </tr>\n",
       "    <tr>\n",
       "      <th>15</th>\n",
       "      <td>79</td>\n",
       "    </tr>\n",
       "    <tr>\n",
       "      <th>16</th>\n",
       "      <td>94</td>\n",
       "    </tr>\n",
       "    <tr>\n",
       "      <th>17</th>\n",
       "      <td>96</td>\n",
       "    </tr>\n",
       "    <tr>\n",
       "      <th>18</th>\n",
       "      <td>101</td>\n",
       "    </tr>\n",
       "    <tr>\n",
       "      <th>19</th>\n",
       "      <td>96</td>\n",
       "    </tr>\n",
       "    <tr>\n",
       "      <th>20</th>\n",
       "      <td>97</td>\n",
       "    </tr>\n",
       "    <tr>\n",
       "      <th>21</th>\n",
       "      <td>96</td>\n",
       "    </tr>\n",
       "    <tr>\n",
       "      <th>22</th>\n",
       "      <td>113</td>\n",
       "    </tr>\n",
       "    <tr>\n",
       "      <th>23</th>\n",
       "      <td>99</td>\n",
       "    </tr>\n",
       "    <tr>\n",
       "      <th>24</th>\n",
       "      <td>98</td>\n",
       "    </tr>\n",
       "  </tbody>\n",
       "</table>\n",
       "</div>"
      ],
      "text/plain": [
       "    cars\n",
       "0     97\n",
       "1     87\n",
       "2    102\n",
       "3    113\n",
       "4    112\n",
       "5    117\n",
       "6     78\n",
       "7     98\n",
       "8    111\n",
       "9     89\n",
       "10    93\n",
       "11    83\n",
       "12    82\n",
       "13    90\n",
       "14    92\n",
       "15    79\n",
       "16    94\n",
       "17    96\n",
       "18   101\n",
       "19    96\n",
       "20    97\n",
       "21    96\n",
       "22   113\n",
       "23    99\n",
       "24    98"
      ]
     },
     "execution_count": 11,
     "metadata": {},
     "output_type": "execute_result"
    }
   ],
   "source": [
    "df = pd.DataFrame({'cars':[97, 87,102,113,112,117,78,98,111,89,93,83,82,90,92,79,94,96,101,96,97,96,113,99,98]})\n",
    "df"
   ]
  },
  {
   "cell_type": "code",
   "execution_count": 12,
   "id": "16837d98",
   "metadata": {},
   "outputs": [],
   "source": [
    "mean = df.cars.mean()\n",
    "std = df.cars.std()"
   ]
  },
  {
   "cell_type": "code",
   "execution_count": 14,
   "id": "d16f6a3c",
   "metadata": {},
   "outputs": [],
   "source": [
    "standard_error = stats.sem(df.cars)"
   ]
  },
  {
   "cell_type": "code",
   "execution_count": 18,
   "id": "fcdf5e5c",
   "metadata": {},
   "outputs": [
    {
     "data": {
      "text/plain": [
       "(92.85972516071553, 100.18027483928445)"
      ]
     },
     "execution_count": 18,
     "metadata": {},
     "output_type": "execute_result"
    }
   ],
   "source": [
    "## confidence interval for 90%\n",
    "stats.t.interval(0.90, df=len(df)-1, loc=mean, scale=standard_error)"
   ]
  },
  {
   "cell_type": "code",
   "execution_count": 19,
   "id": "23f7fd38",
   "metadata": {},
   "outputs": [
    {
     "data": {
      "text/html": [
       "<div>\n",
       "<style scoped>\n",
       "    .dataframe tbody tr th:only-of-type {\n",
       "        vertical-align: middle;\n",
       "    }\n",
       "\n",
       "    .dataframe tbody tr th {\n",
       "        vertical-align: top;\n",
       "    }\n",
       "\n",
       "    .dataframe thead th {\n",
       "        text-align: right;\n",
       "    }\n",
       "</style>\n",
       "<table border=\"1\" class=\"dataframe\">\n",
       "  <thead>\n",
       "    <tr style=\"text-align: right;\">\n",
       "      <th></th>\n",
       "      <th>month</th>\n",
       "      <th>stock_price</th>\n",
       "    </tr>\n",
       "  </thead>\n",
       "  <tbody>\n",
       "    <tr>\n",
       "      <th>0</th>\n",
       "      <td>jan</td>\n",
       "      <td>71</td>\n",
       "    </tr>\n",
       "    <tr>\n",
       "      <th>1</th>\n",
       "      <td>feb</td>\n",
       "      <td>73</td>\n",
       "    </tr>\n",
       "    <tr>\n",
       "      <th>2</th>\n",
       "      <td>mar</td>\n",
       "      <td>76</td>\n",
       "    </tr>\n",
       "    <tr>\n",
       "      <th>3</th>\n",
       "      <td>apr</td>\n",
       "      <td>78</td>\n",
       "    </tr>\n",
       "    <tr>\n",
       "      <th>4</th>\n",
       "      <td>may</td>\n",
       "      <td>81</td>\n",
       "    </tr>\n",
       "    <tr>\n",
       "      <th>5</th>\n",
       "      <td>jun</td>\n",
       "      <td>75</td>\n",
       "    </tr>\n",
       "  </tbody>\n",
       "</table>\n",
       "</div>"
      ],
      "text/plain": [
       "  month  stock_price\n",
       "0   jan           71\n",
       "1   feb           73\n",
       "2   mar           76\n",
       "3   apr           78\n",
       "4   may           81\n",
       "5   jun           75"
      ]
     },
     "execution_count": 19,
     "metadata": {},
     "output_type": "execute_result"
    }
   ],
   "source": [
    "dataframe = pd.DataFrame({'month':['jan','feb','mar','apr','may','jun'],\n",
    "                         'stock_price':[71,73,76,78,81,75]})\n",
    "dataframe"
   ]
  },
  {
   "cell_type": "code",
   "execution_count": 20,
   "id": "593be490",
   "metadata": {},
   "outputs": [
    {
     "data": {
      "text/plain": [
       "(75.66666666666667, 3.559026084010437)"
      ]
     },
     "execution_count": 20,
     "metadata": {},
     "output_type": "execute_result"
    }
   ],
   "source": [
    "mean = dataframe.stock_price.mean()\n",
    "std = dataframe.stock_price.std()\n",
    "\n",
    "mean, std"
   ]
  },
  {
   "cell_type": "code",
   "execution_count": 22,
   "id": "02b1a966",
   "metadata": {},
   "outputs": [
    {
     "data": {
      "text/plain": [
       "(72.73886925906302, 78.59446407427032)"
      ]
     },
     "execution_count": 22,
     "metadata": {},
     "output_type": "execute_result"
    }
   ],
   "source": [
    "## 90% confidence interval\n",
    "stats.t.interval(0.90, df=len(dataframe)-1, loc=mean, scale=stats.sem(dataframe.stock_price))"
   ]
  },
  {
   "cell_type": "code",
   "execution_count": 24,
   "id": "c9186e0a",
   "metadata": {},
   "outputs": [
    {
     "data": {
      "text/html": [
       "<div>\n",
       "<style scoped>\n",
       "    .dataframe tbody tr th:only-of-type {\n",
       "        vertical-align: middle;\n",
       "    }\n",
       "\n",
       "    .dataframe tbody tr th {\n",
       "        vertical-align: top;\n",
       "    }\n",
       "\n",
       "    .dataframe thead th {\n",
       "        text-align: right;\n",
       "    }\n",
       "</style>\n",
       "<table border=\"1\" class=\"dataframe\">\n",
       "  <thead>\n",
       "    <tr style=\"text-align: right;\">\n",
       "      <th></th>\n",
       "      <th>electronics</th>\n",
       "      <th>utilities</th>\n",
       "    </tr>\n",
       "    <tr>\n",
       "      <th>year</th>\n",
       "      <th></th>\n",
       "      <th></th>\n",
       "    </tr>\n",
       "  </thead>\n",
       "  <tbody>\n",
       "    <tr>\n",
       "      <th>2010</th>\n",
       "      <td>17</td>\n",
       "      <td>11</td>\n",
       "    </tr>\n",
       "    <tr>\n",
       "      <th>2011</th>\n",
       "      <td>-8</td>\n",
       "      <td>13</td>\n",
       "    </tr>\n",
       "    <tr>\n",
       "      <th>2012</th>\n",
       "      <td>4</td>\n",
       "      <td>7</td>\n",
       "    </tr>\n",
       "    <tr>\n",
       "      <th>2013</th>\n",
       "      <td>39</td>\n",
       "      <td>21</td>\n",
       "    </tr>\n",
       "    <tr>\n",
       "      <th>2014</th>\n",
       "      <td>38</td>\n",
       "      <td>22</td>\n",
       "    </tr>\n",
       "  </tbody>\n",
       "</table>\n",
       "</div>"
      ],
      "text/plain": [
       "      electronics  utilities\n",
       "year                        \n",
       "2010           17         11\n",
       "2011           -8         13\n",
       "2012            4          7\n",
       "2013           39         21\n",
       "2014           38         22"
      ]
     },
     "execution_count": 24,
     "metadata": {},
     "output_type": "execute_result"
    }
   ],
   "source": [
    "## Q. \n",
    "\n",
    "data = pd.DataFrame({'year':[2010, 2011, 2012, 2013, 2014],\n",
    "                    'electronics':[17, -8, 4, 39, 38],\n",
    "                    'utilities':[11, 13, 7, 21, 22]})\n",
    "data = data.set_index('year')\n",
    "data"
   ]
  },
  {
   "cell_type": "code",
   "execution_count": 26,
   "id": "8009dd54",
   "metadata": {},
   "outputs": [],
   "source": [
    "## 99% confidence interval\n",
    "lci, uci = stats.t.interval(0.99, df=len(data)-1, loc=data.mean(axis=0), scale=stats.sem(data))"
   ]
  },
  {
   "cell_type": "code",
   "execution_count": 27,
   "id": "1dd8300a",
   "metadata": {},
   "outputs": [
    {
     "data": {
      "text/plain": [
       "array([-24.62208345,   1.42433179])"
      ]
     },
     "execution_count": 27,
     "metadata": {},
     "output_type": "execute_result"
    }
   ],
   "source": [
    "lci"
   ]
  },
  {
   "cell_type": "code",
   "execution_count": 28,
   "id": "0a652305",
   "metadata": {},
   "outputs": [
    {
     "data": {
      "text/plain": [
       "array([60.62208345, 28.17566821])"
      ]
     },
     "execution_count": 28,
     "metadata": {},
     "output_type": "execute_result"
    }
   ],
   "source": [
    "uci"
   ]
  },
  {
   "cell_type": "code",
   "execution_count": 29,
   "id": "22ee9903",
   "metadata": {},
   "outputs": [
    {
     "data": {
      "text/plain": [
       "(-24.622083447836552, 60.62208344783655)"
      ]
     },
     "execution_count": 29,
     "metadata": {},
     "output_type": "execute_result"
    }
   ],
   "source": [
    "### for electronics\n",
    "lci[0], uci[0]"
   ]
  },
  {
   "cell_type": "code",
   "execution_count": 30,
   "id": "76e174ef",
   "metadata": {},
   "outputs": [
    {
     "data": {
      "text/plain": [
       "(1.424331788752216, 28.175668211247785)"
      ]
     },
     "execution_count": 30,
     "metadata": {},
     "output_type": "execute_result"
    }
   ],
   "source": [
    "### for utilities\n",
    "lci[1], uci[1]"
   ]
  },
  {
   "cell_type": "markdown",
   "id": "e62ec629",
   "metadata": {},
   "source": [
    "### Confidence Interval for the Proportion"
   ]
  },
  {
   "cell_type": "markdown",
   "id": "5f6c2e55",
   "metadata": {},
   "source": [
    "- Population Proportion"
   ]
  },
  {
   "cell_type": "code",
   "execution_count": 31,
   "id": "fe7ceac5",
   "metadata": {},
   "outputs": [
    {
     "data": {
      "text/plain": [
       "(0.13229251063732272, 0.42770748936267733)"
      ]
     },
     "execution_count": 31,
     "metadata": {},
     "output_type": "execute_result"
    }
   ],
   "source": [
    "## successes = 7, trials = 25, alpha = 0.10 or 90% confidence interval\n",
    "sm.stats.proportion_confint(7, 25, 0.10)"
   ]
  },
  {
   "cell_type": "code",
   "execution_count": 35,
   "id": "355efe58",
   "metadata": {},
   "outputs": [
    {
     "data": {
      "text/plain": [
       "(0.048691102223379495, 0.5113088977766206)"
      ]
     },
     "execution_count": 35,
     "metadata": {},
     "output_type": "execute_result"
    }
   ],
   "source": [
    "sm.stats.proportion_confint(7, 25, 0.01) # 99% confidence interval"
   ]
  },
  {
   "cell_type": "code",
   "execution_count": null,
   "id": "542f6eee",
   "metadata": {},
   "outputs": [],
   "source": []
  }
 ],
 "metadata": {
  "kernelspec": {
   "display_name": "Python 3",
   "language": "python",
   "name": "python3"
  },
  "language_info": {
   "codemirror_mode": {
    "name": "ipython",
    "version": 3
   },
   "file_extension": ".py",
   "mimetype": "text/x-python",
   "name": "python",
   "nbconvert_exporter": "python",
   "pygments_lexer": "ipython3",
   "version": "3.8.3"
  }
 },
 "nbformat": 4,
 "nbformat_minor": 5
}
