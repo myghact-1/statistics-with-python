{
 "cells": [
  {
   "cell_type": "code",
   "execution_count": 1,
   "id": "bb342978",
   "metadata": {},
   "outputs": [],
   "source": [
    "import numpy as np\n",
    "import pandas as pd\n",
    "from scipy import stats"
   ]
  },
  {
   "cell_type": "code",
   "execution_count": 2,
   "id": "271175b1",
   "metadata": {},
   "outputs": [],
   "source": [
    "n = 3\n",
    "p = 0.20\n",
    "res = stats.binom(n, p)"
   ]
  },
  {
   "cell_type": "code",
   "execution_count": 3,
   "id": "0bec89e9",
   "metadata": {},
   "outputs": [
    {
     "data": {
      "text/plain": [
       "0.38399999999999995"
      ]
     },
     "execution_count": 3,
     "metadata": {},
     "output_type": "execute_result"
    }
   ],
   "source": [
    "res.pmf(1)"
   ]
  },
  {
   "cell_type": "code",
   "execution_count": 5,
   "id": "a9985f6f",
   "metadata": {},
   "outputs": [
    {
     "data": {
      "text/plain": [
       "0.896"
      ]
     },
     "execution_count": 5,
     "metadata": {},
     "output_type": "execute_result"
    }
   ],
   "source": [
    "res.cdf(1)"
   ]
  },
  {
   "cell_type": "code",
   "execution_count": 6,
   "id": "09c8b155",
   "metadata": {},
   "outputs": [
    {
     "data": {
      "text/plain": [
       "0.512"
      ]
     },
     "execution_count": 6,
     "metadata": {},
     "output_type": "execute_result"
    }
   ],
   "source": [
    "res.pmf(0)"
   ]
  },
  {
   "cell_type": "code",
   "execution_count": 9,
   "id": "bcb8098e",
   "metadata": {},
   "outputs": [
    {
     "name": "stdout",
     "output_type": "stream",
     "text": [
      "Probability of 0:\t 0.512\n",
      "Probability of 1:\t 0.384\n",
      "Probability of 2:\t 0.096\n",
      "Probability of 3:\t 0.008\n"
     ]
    }
   ],
   "source": [
    "for i in range(n+1):\n",
    "    print(f\"Probability of {i}:\\t\", round(res.pmf(i),3))"
   ]
  },
  {
   "cell_type": "code",
   "execution_count": 10,
   "id": "ac01f706",
   "metadata": {},
   "outputs": [
    {
     "name": "stdout",
     "output_type": "stream",
     "text": [
      "Probability of 0:\t 0.5314\n",
      "Probability of 1:\t 0.3543\n",
      "Probability of 2:\t 0.0984\n",
      "Probability of 3:\t 0.0146\n",
      "Probability of 4:\t 0.0012\n",
      "Probability of 5:\t 0.0001\n",
      "Probability of 6:\t 0.0\n"
     ]
    }
   ],
   "source": [
    "n = 6\n",
    "p = 0.10\n",
    "\n",
    "rvs = stats.binom(n, p)\n",
    "\n",
    "for i in range(n+1):\n",
    "    print(f\"Probability of {i}:\\t\", round(rvs.pmf(i),4))"
   ]
  },
  {
   "cell_type": "code",
   "execution_count": 11,
   "id": "965db8c2",
   "metadata": {
    "slideshow": {
     "slide_type": "-"
    },
    "tags": [
     "binomial",
     "poisson"
    ]
   },
   "outputs": [
    {
     "data": {
      "text/plain": [
       "0.7348469228349536"
      ]
     },
     "execution_count": 11,
     "metadata": {},
     "output_type": "execute_result"
    }
   ],
   "source": [
    "rvs.std()"
   ]
  },
  {
   "cell_type": "markdown",
   "id": "a87f0e71",
   "metadata": {},
   "source": [
    "### Poisson Distribution"
   ]
  },
  {
   "cell_type": "code",
   "execution_count": 14,
   "id": "c6306426",
   "metadata": {},
   "outputs": [],
   "source": [
    "rv = stats.poisson(3)"
   ]
  },
  {
   "cell_type": "code",
   "execution_count": 15,
   "id": "69b171a2",
   "metadata": {},
   "outputs": [
    {
     "data": {
      "text/plain": [
       "0.22404180765538775"
      ]
     },
     "execution_count": 15,
     "metadata": {},
     "output_type": "execute_result"
    }
   ],
   "source": [
    "rv.pmf(2)"
   ]
  },
  {
   "cell_type": "markdown",
   "id": "b8f9625a",
   "metadata": {},
   "source": [
    "> Suppose the average number of complaints received by Christiana Hospital from patients is 7.4 every four weeks. Assuming the number of complaints per month follows the Poisson distribution\n",
    "determine the following probabilities:<br><br> a. Exactly three complaints during the next four weeks <br>b. Three or fewer complaints during the next four weeks <br>c. Five or more complaints during the next four weeks<br> d. Exactly three complaints during the next two weeks"
   ]
  },
  {
   "cell_type": "code",
   "execution_count": 18,
   "id": "55a9fb6d",
   "metadata": {},
   "outputs": [
    {
     "name": "stdout",
     "output_type": "stream",
     "text": [
      "Probability of exactly 3 complaints during the next four weeks is 0.0413\n",
      "Probability of 3 of fewer complaints during the next four weeks is 0.0632\n",
      "Probability of 5 or more complaints during the next four weeks is 0.8605\n"
     ]
    }
   ],
   "source": [
    "mu =  7.4\n",
    "rvs = stats.poisson(mu)\n",
    "\n",
    "print(\"Probability of exactly 3 complaints during the next four weeks is\", round(rvs.pmf(3),4))\n",
    "print(\"Probability of 3 of fewer complaints during the next four weeks is\", round(rvs.cdf(3),4))\n",
    "print(\"Probability of 5 or more complaints during the next four weeks is\", round(1-rvs.cdf(4),4))"
   ]
  },
  {
   "cell_type": "code",
   "execution_count": 19,
   "id": "e8e717f5",
   "metadata": {},
   "outputs": [
    {
     "name": "stdout",
     "output_type": "stream",
     "text": [
      "Probability of exactly 3 complaints during the next two weeks is 0.2087\n"
     ]
    }
   ],
   "source": [
    "mu2 = 3.7\n",
    "rvs2 = stats.poisson(mu2)\n",
    "print(\"Probability of exactly 3 complaints during the next two weeks is\", round(rvs2.pmf(3),4))"
   ]
  },
  {
   "cell_type": "markdown",
   "id": "6efe8a2a",
   "metadata": {},
   "source": [
    "### Hypergeometric Distribution"
   ]
  },
  {
   "cell_type": "code",
   "execution_count": 20,
   "id": "ae23b45f",
   "metadata": {},
   "outputs": [
    {
     "name": "stdout",
     "output_type": "stream",
     "text": [
      "Available Themes: \n",
      "   chesterish\n",
      "   grade3\n",
      "   gruvboxd\n",
      "   gruvboxl\n",
      "   monokai\n",
      "   oceans16\n",
      "   onedork\n",
      "   solarizedd\n",
      "   solarizedl\n"
     ]
    }
   ],
   "source": [
    "!jt -l"
   ]
  },
  {
   "cell_type": "code",
   "execution_count": 24,
   "id": "1a460347",
   "metadata": {},
   "outputs": [],
   "source": [
    "!jt -t chesterish"
   ]
  },
  {
   "cell_type": "code",
   "execution_count": 25,
   "id": "e00200ae",
   "metadata": {},
   "outputs": [],
   "source": [
    "total_employees = 22 #M\n",
    "total_fired = 7 #N\n",
    "total_seniors = 8 #n\n",
    "rv = stats.hypergeom(22,8,7)"
   ]
  },
  {
   "cell_type": "code",
   "execution_count": 26,
   "id": "a7dae570",
   "metadata": {},
   "outputs": [
    {
     "data": {
      "text/plain": [
       "0.029880851862275994"
      ]
     },
     "execution_count": 26,
     "metadata": {},
     "output_type": "execute_result"
    }
   ],
   "source": [
    "rv.pmf(5)"
   ]
  },
  {
   "cell_type": "code",
   "execution_count": 27,
   "id": "e9f7f651",
   "metadata": {},
   "outputs": [
    {
     "data": {
      "text/plain": [
       "0.9976545642180321"
      ]
     },
     "execution_count": 27,
     "metadata": {},
     "output_type": "execute_result"
    }
   ],
   "source": [
    "rv.cdf(5)"
   ]
  },
  {
   "cell_type": "code",
   "execution_count": 28,
   "id": "a159a5fd",
   "metadata": {},
   "outputs": [],
   "source": [
    "#An assembly process has just produced 16 laptop computers. \n",
    "#Three of them have a defect of which the manufacturer is unaware. \n",
    "#A school just placed an order for 5 of the 16 computers.\n",
    "\n",
    "rv = stats.hypergeom(16,3,5)"
   ]
  },
  {
   "cell_type": "code",
   "execution_count": 30,
   "id": "803003dd",
   "metadata": {},
   "outputs": [
    {
     "data": {
      "text/plain": [
       "(0.1964285714285712, 0.9375, 0.7473912964438374)"
      ]
     },
     "execution_count": 30,
     "metadata": {},
     "output_type": "execute_result"
    }
   ],
   "source": [
    "rv.pmf(2), rv.mean(), rv.std()"
   ]
  },
  {
   "cell_type": "markdown",
   "id": "d6849bb9",
   "metadata": {},
   "source": [
    "### Normal Distribution"
   ]
  },
  {
   "cell_type": "code",
   "execution_count": 2,
   "id": "d68d19b6",
   "metadata": {},
   "outputs": [],
   "source": [
    "mean = 12 #average spend time of customers\n",
    "std = 3\n",
    "\n",
    "rvs = stats.norm(loc=mean, scale=std)"
   ]
  },
  {
   "cell_type": "code",
   "execution_count": 6,
   "id": "d2018780",
   "metadata": {},
   "outputs": [
    {
     "data": {
      "text/plain": [
       "0.7475074624530771"
      ]
     },
     "execution_count": 6,
     "metadata": {},
     "output_type": "execute_result"
    }
   ],
   "source": [
    "## probability of phone time 14 or less\n",
    "rvs.cdf(14)"
   ]
  },
  {
   "cell_type": "markdown",
   "id": "78bd29df",
   "metadata": {},
   "source": [
    "> A local gas station waits 4 days to receive a delivery of regular gasoline to replenish its inventory. The wait period to receive inventory is known as the lead time. The demand during the lead-time period for regular gasoline, as measured in gallons, follows the normal distribution with a mean of 930 gallons and standard deviation of 140 gallons.<br><br> a. What is the probability that, during the next lead time, the demand for regular gasoline will be less than 800 gallons?<br>\n",
    "b. What is the probability that, during the next lead time, the demand for regular gasoline will be less than 1,000 gallons?<br>\n",
    "c. What is the probability that, during the next lead time, the demand for regular gasoline will be equal to 900 gallons?<br>\n",
    "d. The station manager places the next order for regular gasoline when the inventory is 1,200 gallons (known as the reorder point). What is the probability that the station will not run out of gasoline before the order arrives?<br>\n",
    "e. Determine the reorder point that will ensure the station a 90% probability that it will have enough inventory of regular gasoline until the next order arrives."
   ]
  },
  {
   "cell_type": "code",
   "execution_count": 4,
   "id": "0f37724e",
   "metadata": {},
   "outputs": [],
   "source": [
    "mean = 930\n",
    "std = 140\n",
    "\n",
    "normal = stats.norm(mean, std)"
   ]
  },
  {
   "cell_type": "code",
   "execution_count": 11,
   "id": "d590046f",
   "metadata": {},
   "outputs": [
    {
     "data": {
      "text/plain": [
       "0.17655561725300278"
      ]
     },
     "execution_count": 11,
     "metadata": {},
     "output_type": "execute_result"
    }
   ],
   "source": [
    "## A.\n",
    "normal.cdf(800)"
   ]
  },
  {
   "cell_type": "code",
   "execution_count": 12,
   "id": "0810aa37",
   "metadata": {},
   "outputs": [
    {
     "data": {
      "text/plain": [
       "0.6914624612740131"
      ]
     },
     "execution_count": 12,
     "metadata": {},
     "output_type": "execute_result"
    }
   ],
   "source": [
    "## B.\n",
    "normal.cdf(1000)"
   ]
  },
  {
   "cell_type": "code",
   "execution_count": 9,
   "id": "40623687",
   "metadata": {},
   "outputs": [
    {
     "data": {
      "text/plain": [
       "0.9731079555688008"
      ]
     },
     "execution_count": 9,
     "metadata": {},
     "output_type": "execute_result"
    }
   ],
   "source": [
    "## C.\n",
    "normal.cdf(1200)"
   ]
  },
  {
   "cell_type": "code",
   "execution_count": 10,
   "id": "fe7f7b96",
   "metadata": {},
   "outputs": [
    {
     "data": {
      "text/plain": [
       "1109.417219176244"
      ]
     },
     "execution_count": 10,
     "metadata": {},
     "output_type": "execute_result"
    }
   ],
   "source": [
    "normal.ppf(0.9)"
   ]
  },
  {
   "cell_type": "code",
   "execution_count": 13,
   "id": "8288f7d4",
   "metadata": {},
   "outputs": [],
   "source": [
    "####--------New Question---------####\n",
    "mean = 46\n",
    "std = 18.5\n",
    "normal = stats.norm(mean, std)"
   ]
  },
  {
   "cell_type": "code",
   "execution_count": 14,
   "id": "6bdfa6fd",
   "metadata": {},
   "outputs": [
    {
     "data": {
      "text/plain": [
       "0.70917906101877"
      ]
     },
     "execution_count": 14,
     "metadata": {},
     "output_type": "execute_result"
    }
   ],
   "source": [
    "p30 = normal.cdf(30)\n",
    "p70 = normal.cdf(70)\n",
    "\n",
    "final_probability = p70 - p30\n",
    "final_probability"
   ]
  },
  {
   "cell_type": "code",
   "execution_count": 16,
   "id": "7f5cb72b",
   "metadata": {},
   "outputs": [
    {
     "data": {
      "text/plain": [
       "0.1661067592324159"
      ]
     },
     "execution_count": 16,
     "metadata": {},
     "output_type": "execute_result"
    }
   ],
   "source": [
    "p60 = normal.cdf(60)\n",
    "p75 = normal.cdf(75)\n",
    "\n",
    "result = p75 - p60\n",
    "result"
   ]
  },
  {
   "cell_type": "markdown",
   "id": "b0c57825",
   "metadata": {},
   "source": [
    "### Exponential Probability Distribution"
   ]
  },
  {
   "cell_type": "code",
   "execution_count": 33,
   "id": "84d8d615",
   "metadata": {},
   "outputs": [],
   "source": [
    "mu = 4.0\n",
    "expon = tfp.substrates.numpy.distributions.Exponential(rate=1/mu)"
   ]
  },
  {
   "cell_type": "code",
   "execution_count": 34,
   "id": "34ef7874",
   "metadata": {},
   "outputs": [
    {
     "data": {
      "text/plain": [
       "0.39346933"
      ]
     },
     "execution_count": 34,
     "metadata": {},
     "output_type": "execute_result"
    }
   ],
   "source": [
    "expon.cdf(2)"
   ]
  },
  {
   "cell_type": "markdown",
   "id": "424095df",
   "metadata": {},
   "source": [
    ">During the 2017–2018 National Hockey League season, the Tennessee Nashville Predators led the league in shots on goal, averaging 32.2 per 60-minute game. Assume that the number of minutes between shots on goal follows the exponential distribution.<br><br> a. Calculate the following probabilities <br> 1. The probability that the next shot on goal will occur during the next minute.<br> 2. The probability that the next shot on goal will occur between 2 and 3 minutes from now.<br> c. What is the standard deviation for this distribution? "
   ]
  },
  {
   "cell_type": "code",
   "execution_count": 38,
   "id": "6f7f9027",
   "metadata": {},
   "outputs": [
    {
     "name": "stdout",
     "output_type": "stream",
     "text": [
      "1\t 0.41530603\n",
      "2\t 0.14197946\n",
      "3\t standard deviation 1.863354\n"
     ]
    }
   ],
   "source": [
    "mu = 60 / 32.2 # time in just one goal\n",
    "expo = tfp.substrates.numpy.distributions.Exponential(rate=1 / mu)\n",
    "\n",
    "print(\"1\\t\", expo.cdf(1))\n",
    "print(\"2\\t\", expo.cdf(3) - expo.cdf(2))\n",
    "print(\"3\\t standard deviation\", expo.stddev())"
   ]
  },
  {
   "cell_type": "markdown",
   "id": "715528a0",
   "metadata": {},
   "source": [
    "### Uniform Probability Distribution"
   ]
  },
  {
   "cell_type": "code",
   "execution_count": 26,
   "id": "0150e83b",
   "metadata": {},
   "outputs": [],
   "source": [
    "import tensorflow_probability as tfp"
   ]
  },
  {
   "cell_type": "code",
   "execution_count": 28,
   "id": "b84b02e6",
   "metadata": {},
   "outputs": [],
   "source": [
    "uniform = tfp.substrates.numpy.distributions.Uniform(low=70.0, high=120.0)"
   ]
  },
  {
   "cell_type": "code",
   "execution_count": 29,
   "id": "33aca514",
   "metadata": {},
   "outputs": [
    {
     "data": {
      "text/plain": [
       "array(0.2, dtype=float32)"
      ]
     },
     "execution_count": 29,
     "metadata": {},
     "output_type": "execute_result"
    }
   ],
   "source": [
    "uniform.cdf(80)"
   ]
  },
  {
   "cell_type": "code",
   "execution_count": 30,
   "id": "d6c6037d",
   "metadata": {},
   "outputs": [
    {
     "data": {
      "text/plain": [
       "array(0.9, dtype=float32)"
      ]
     },
     "execution_count": 30,
     "metadata": {},
     "output_type": "execute_result"
    }
   ],
   "source": [
    "uniform.cdf(115)"
   ]
  },
  {
   "cell_type": "code",
   "execution_count": 32,
   "id": "5199eba3",
   "metadata": {},
   "outputs": [
    {
     "data": {
      "text/plain": [
       "array(0., dtype=float32)"
      ]
     },
     "execution_count": 32,
     "metadata": {},
     "output_type": "execute_result"
    }
   ],
   "source": [
    "uniform.prob(250)"
   ]
  },
  {
   "cell_type": "code",
   "execution_count": null,
   "id": "0b81f03f",
   "metadata": {},
   "outputs": [],
   "source": []
  }
 ],
 "metadata": {
  "kernelspec": {
   "display_name": "Python 3",
   "language": "python",
   "name": "python3"
  },
  "language_info": {
   "codemirror_mode": {
    "name": "ipython",
    "version": 3
   },
   "file_extension": ".py",
   "mimetype": "text/x-python",
   "name": "python",
   "nbconvert_exporter": "python",
   "pygments_lexer": "ipython3",
   "version": "3.8.8"
  }
 },
 "nbformat": 4,
 "nbformat_minor": 5
}
