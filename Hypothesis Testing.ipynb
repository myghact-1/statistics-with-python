{
 "cells": [
  {
   "cell_type": "code",
   "execution_count": 1,
   "id": "e9320bcf",
   "metadata": {},
   "outputs": [],
   "source": [
    "import numpy as np\n",
    "import pandas as pd\n",
    "import matplotlib.pyplot as plt\n",
    "\n",
    "from scipy import stats\n",
    "import statsmodels.api as sm\n",
    "from statsmodels.formula.api import ols"
   ]
  },
  {
   "cell_type": "markdown",
   "id": "74d48f67",
   "metadata": {},
   "source": [
    "### Z-Test"
   ]
  },
  {
   "cell_type": "code",
   "execution_count": 2,
   "id": "f5e637dd",
   "metadata": {},
   "outputs": [],
   "source": [
    "debit_card_spending = np.array([7960, 7700, 7727, 7704, 8543, 7661, 7767, 8761, 7530, 8128,\n",
    "                               7938, 7771, 7272, 8113, 7727, 7697, 7690, 8000, 8079, 7547])"
   ]
  },
  {
   "cell_type": "markdown",
   "id": "f9f985c8",
   "metadata": {},
   "source": [
    "$ H_0: \\mu \\geq 8,000 $ <br>\n",
    "$ H_a: \\mu < 8,000 $ "
   ]
  },
  {
   "cell_type": "code",
   "execution_count": 7,
   "id": "214105bd",
   "metadata": {},
   "outputs": [
    {
     "data": {
      "text/plain": [
       "(-1.7459672258178607, 0.04040832351015883)"
      ]
     },
     "execution_count": 7,
     "metadata": {},
     "output_type": "execute_result"
    }
   ],
   "source": [
    "sm.stats.ztest(debit_card_spending, value=8000, alternative='smaller')"
   ]
  },
  {
   "cell_type": "markdown",
   "id": "15c84012",
   "metadata": {},
   "source": [
    "#### Population Proportion z-test"
   ]
  },
  {
   "cell_type": "code",
   "execution_count": 11,
   "id": "f25fb44e",
   "metadata": {},
   "outputs": [],
   "source": [
    "#Q. 9.4 - 60 Book"
   ]
  },
  {
   "cell_type": "code",
   "execution_count": 12,
   "id": "c4320503",
   "metadata": {},
   "outputs": [
    {
     "data": {
      "text/plain": [
       "(-0.2999826081915271, 0.7641904217043829)"
      ]
     },
     "execution_count": 12,
     "metadata": {},
     "output_type": "execute_result"
    }
   ],
   "source": [
    "sm.stats.proportions_ztest(20, 66, value=0.32) # a"
   ]
  },
  {
   "cell_type": "code",
   "execution_count": 13,
   "id": "ede19f8c",
   "metadata": {},
   "outputs": [
    {
     "data": {
      "text/plain": [
       "(1.9691180643169954, 0.04893953491647526)"
      ]
     },
     "execution_count": 13,
     "metadata": {},
     "output_type": "execute_result"
    }
   ],
   "source": [
    "sm.stats.proportions_ztest(100, 264, value=0.32) # b"
   ]
  },
  {
   "cell_type": "code",
   "execution_count": 14,
   "id": "99257b72",
   "metadata": {},
   "outputs": [
    {
     "data": {
      "text/plain": [
       "(1.0327955589886446, 0.30169958247834794)"
      ]
     },
     "execution_count": 14,
     "metadata": {},
     "output_type": "execute_result"
    }
   ],
   "source": [
    "p = 0.40\n",
    "n = 40\n",
    "sm.stats.proportions_ztest(int(p*n), n, value=0.32) # c"
   ]
  },
  {
   "cell_type": "code",
   "execution_count": 15,
   "id": "c8aac0a2",
   "metadata": {},
   "outputs": [
    {
     "data": {
      "text/plain": [
       "(1.5988441202970356, 0.10985524288571252)"
      ]
     },
     "execution_count": 15,
     "metadata": {},
     "output_type": "execute_result"
    }
   ],
   "source": [
    "p = 0.38\n",
    "n = 180\n",
    "sm.stats.proportions_ztest(int(p*n), n, value=0.32) # d"
   ]
  },
  {
   "cell_type": "markdown",
   "id": "a1695d77",
   "metadata": {},
   "source": [
    "### T-Test"
   ]
  },
  {
   "cell_type": "code",
   "execution_count": 8,
   "id": "d22d7b66",
   "metadata": {},
   "outputs": [],
   "source": [
    "# weekly average study data\n",
    "\n",
    "data = np.array([25,19,26,11,29,\n",
    "                17,16,14,21,10,\n",
    "                8,9,22,6,10,\n",
    "                14,15,17,20,4,\n",
    "                17,12,14,27,25,\n",
    "                7,17,35,17,13,\n",
    "                11,19,24,6,16])"
   ]
  },
  {
   "cell_type": "markdown",
   "id": "aeb0078a",
   "metadata": {},
   "source": [
    "$ H_0: \\mu \\geq 24 $ <br>\n",
    "$ H_a: \\mu < 24 $ "
   ]
  },
  {
   "cell_type": "code",
   "execution_count": 9,
   "id": "7fcb520f",
   "metadata": {},
   "outputs": [
    {
     "data": {
      "text/plain": [
       "Ttest_1sampResult(statistic=-6.254736729185618, pvalue=2.0146379463385562e-07)"
      ]
     },
     "execution_count": 9,
     "metadata": {},
     "output_type": "execute_result"
    }
   ],
   "source": [
    "stats.ttest_1samp(data, popmean=24, alternative='less')"
   ]
  },
  {
   "cell_type": "code",
   "execution_count": 16,
   "id": "0cc059eb",
   "metadata": {},
   "outputs": [],
   "source": [
    "# Q. \n",
    "\n",
    "data = np.array([22,62,62,29,20,52,\n",
    "                36,53,44,38,72,28,\n",
    "                78,26,51,46,41,69,\n",
    "                103,28,38,52,73,27,\n",
    "                38,25,77,61,16,53,\n",
    "                43,31,37,57,32,46])"
   ]
  },
  {
   "cell_type": "markdown",
   "id": "b9148525",
   "metadata": {},
   "source": [
    "$ H_0: \\mu \\geq 49 $ <br>\n",
    "$ H_a: \\mu < 49 $ "
   ]
  },
  {
   "cell_type": "code",
   "execution_count": 17,
   "id": "c8ad4e29",
   "metadata": {},
   "outputs": [
    {
     "data": {
      "text/plain": [
       "Ttest_1sampResult(statistic=-0.8365868588713955, pvalue=0.20425029285536012)"
      ]
     },
     "execution_count": 17,
     "metadata": {},
     "output_type": "execute_result"
    }
   ],
   "source": [
    "stats.ttest_1samp(data, popmean=49, alternative='less')"
   ]
  },
  {
   "cell_type": "markdown",
   "id": "05e4fc02",
   "metadata": {},
   "source": [
    "$ H_0: \\bar p \\leq 0.20 $ <br>\n",
    "$ H_a: \\bar p > 0.20 $ "
   ]
  },
  {
   "cell_type": "code",
   "execution_count": 21,
   "id": "0e177f58",
   "metadata": {},
   "outputs": [
    {
     "data": {
      "text/plain": [
       "0.25"
      ]
     },
     "execution_count": 21,
     "metadata": {},
     "output_type": "execute_result"
    }
   ],
   "source": [
    "p = len(data[data<30]) / len(data)\n",
    "p"
   ]
  },
  {
   "cell_type": "code",
   "execution_count": 29,
   "id": "61df9164",
   "metadata": {},
   "outputs": [
    {
     "data": {
      "text/plain": [
       "(0.6928203230275508, 0.2442111583112968)"
      ]
     },
     "execution_count": 29,
     "metadata": {},
     "output_type": "execute_result"
    }
   ],
   "source": [
    "sm.stats.proportions_ztest(len(data[data<30]), len(data), value=0.20, alternative='larger')"
   ]
  },
  {
   "cell_type": "markdown",
   "id": "3f90d298",
   "metadata": {},
   "source": [
    "### Comparisions involving Means"
   ]
  },
  {
   "cell_type": "markdown",
   "id": "2b105bae",
   "metadata": {},
   "source": [
    "#### Two indepedent Samples"
   ]
  },
  {
   "cell_type": "code",
   "execution_count": 30,
   "id": "443a623b",
   "metadata": {},
   "outputs": [
    {
     "data": {
      "text/html": [
       "<div>\n",
       "<style scoped>\n",
       "    .dataframe tbody tr th:only-of-type {\n",
       "        vertical-align: middle;\n",
       "    }\n",
       "\n",
       "    .dataframe tbody tr th {\n",
       "        vertical-align: top;\n",
       "    }\n",
       "\n",
       "    .dataframe thead th {\n",
       "        text-align: right;\n",
       "    }\n",
       "</style>\n",
       "<table border=\"1\" class=\"dataframe\">\n",
       "  <thead>\n",
       "    <tr style=\"text-align: right;\">\n",
       "      <th></th>\n",
       "      <th>gold</th>\n",
       "      <th>oil</th>\n",
       "    </tr>\n",
       "  </thead>\n",
       "  <tbody>\n",
       "    <tr>\n",
       "      <th>0</th>\n",
       "      <td>6</td>\n",
       "      <td>-3</td>\n",
       "    </tr>\n",
       "    <tr>\n",
       "      <th>1</th>\n",
       "      <td>15</td>\n",
       "      <td>15</td>\n",
       "    </tr>\n",
       "    <tr>\n",
       "      <th>2</th>\n",
       "      <td>19</td>\n",
       "      <td>28</td>\n",
       "    </tr>\n",
       "    <tr>\n",
       "      <th>3</th>\n",
       "      <td>26</td>\n",
       "      <td>18</td>\n",
       "    </tr>\n",
       "    <tr>\n",
       "      <th>4</th>\n",
       "      <td>2</td>\n",
       "      <td>32</td>\n",
       "    </tr>\n",
       "    <tr>\n",
       "      <th>5</th>\n",
       "      <td>16</td>\n",
       "      <td>31</td>\n",
       "    </tr>\n",
       "    <tr>\n",
       "      <th>6</th>\n",
       "      <td>31</td>\n",
       "      <td>15</td>\n",
       "    </tr>\n",
       "    <tr>\n",
       "      <th>7</th>\n",
       "      <td>14</td>\n",
       "      <td>12</td>\n",
       "    </tr>\n",
       "    <tr>\n",
       "      <th>8</th>\n",
       "      <td>15</td>\n",
       "      <td>10</td>\n",
       "    </tr>\n",
       "    <tr>\n",
       "      <th>9</th>\n",
       "      <td>16</td>\n",
       "      <td>15</td>\n",
       "    </tr>\n",
       "  </tbody>\n",
       "</table>\n",
       "</div>"
      ],
      "text/plain": [
       "   gold  oil\n",
       "0     6   -3\n",
       "1    15   15\n",
       "2    19   28\n",
       "3    26   18\n",
       "4     2   32\n",
       "5    16   31\n",
       "6    31   15\n",
       "7    14   12\n",
       "8    15   10\n",
       "9    16   15"
      ]
     },
     "execution_count": 30,
     "metadata": {},
     "output_type": "execute_result"
    }
   ],
   "source": [
    "dataframe = pd.DataFrame({'gold':[6,15,19,26,2,16,31,14,15,16],\n",
    "                         'oil':[-3,15,28,18,32,31,15,12,10,15]})\n",
    "dataframe"
   ]
  },
  {
   "cell_type": "code",
   "execution_count": 31,
   "id": "5cf506d0",
   "metadata": {},
   "outputs": [
    {
     "data": {
      "text/plain": [
       "Ttest_indResult(statistic=-0.30232558139534904, pvalue=0.766060177642123)"
      ]
     },
     "execution_count": 31,
     "metadata": {},
     "output_type": "execute_result"
    }
   ],
   "source": [
    "# null hypothesis : mean1 - mean2 = 0\n",
    "# alt hypothesis : mean1 - mean2 != 0\n",
    "\n",
    "## two-sided t-test\n",
    "stats.ttest_ind(dataframe.gold, dataframe.oil, equal_var=False) ## two-sample with unequal varince"
   ]
  },
  {
   "cell_type": "markdown",
   "id": "45b0daf9",
   "metadata": {},
   "source": [
    "#### Dependent Sampling (Matched-pairs sampling)"
   ]
  },
  {
   "cell_type": "code",
   "execution_count": 33,
   "id": "19cbd77d",
   "metadata": {},
   "outputs": [
    {
     "data": {
      "text/html": [
       "<div>\n",
       "<style scoped>\n",
       "    .dataframe tbody tr th:only-of-type {\n",
       "        vertical-align: middle;\n",
       "    }\n",
       "\n",
       "    .dataframe tbody tr th {\n",
       "        vertical-align: top;\n",
       "    }\n",
       "\n",
       "    .dataframe thead th {\n",
       "        text-align: right;\n",
       "    }\n",
       "</style>\n",
       "<table border=\"1\" class=\"dataframe\">\n",
       "  <thead>\n",
       "    <tr style=\"text-align: right;\">\n",
       "      <th></th>\n",
       "      <th>end</th>\n",
       "      <th>middle</th>\n",
       "    </tr>\n",
       "  </thead>\n",
       "  <tbody>\n",
       "    <tr>\n",
       "      <th>0</th>\n",
       "      <td>64</td>\n",
       "      <td>72</td>\n",
       "    </tr>\n",
       "    <tr>\n",
       "      <th>1</th>\n",
       "      <td>54</td>\n",
       "      <td>41</td>\n",
       "    </tr>\n",
       "    <tr>\n",
       "      <th>2</th>\n",
       "      <td>126</td>\n",
       "      <td>100</td>\n",
       "    </tr>\n",
       "    <tr>\n",
       "      <th>3</th>\n",
       "      <td>97</td>\n",
       "      <td>62</td>\n",
       "    </tr>\n",
       "    <tr>\n",
       "      <th>4</th>\n",
       "      <td>37</td>\n",
       "      <td>40</td>\n",
       "    </tr>\n",
       "    <tr>\n",
       "      <th>5</th>\n",
       "      <td>74</td>\n",
       "      <td>60</td>\n",
       "    </tr>\n",
       "    <tr>\n",
       "      <th>6</th>\n",
       "      <td>117</td>\n",
       "      <td>122</td>\n",
       "    </tr>\n",
       "    <tr>\n",
       "      <th>7</th>\n",
       "      <td>90</td>\n",
       "      <td>62</td>\n",
       "    </tr>\n",
       "    <tr>\n",
       "      <th>8</th>\n",
       "      <td>81</td>\n",
       "      <td>78</td>\n",
       "    </tr>\n",
       "  </tbody>\n",
       "</table>\n",
       "</div>"
      ],
      "text/plain": [
       "   end  middle\n",
       "0   64      72\n",
       "1   54      41\n",
       "2  126     100\n",
       "3   97      62\n",
       "4   37      40\n",
       "5   74      60\n",
       "6  117     122\n",
       "7   90      62\n",
       "8   81      78"
      ]
     },
     "execution_count": 33,
     "metadata": {},
     "output_type": "execute_result"
    }
   ],
   "source": [
    "df = pd.DataFrame({'end':[64,54,126,97,37,74,117,90,81],\n",
    "                  'middle':[72,41,100,62,40,60,122,62,78]})\n",
    "df"
   ]
  },
  {
   "cell_type": "code",
   "execution_count": 35,
   "id": "afa690ec",
   "metadata": {},
   "outputs": [
    {
     "data": {
      "text/plain": [
       "Ttest_relResult(statistic=2.1833503263322047, pvalue=0.030272709245538383)"
      ]
     },
     "execution_count": 35,
     "metadata": {},
     "output_type": "execute_result"
    }
   ],
   "source": [
    "stats.ttest_rel(df.end, df.middle, alternative='greater')"
   ]
  },
  {
   "cell_type": "code",
   "execution_count": null,
   "id": "bd1ac9fc",
   "metadata": {},
   "outputs": [],
   "source": []
  },
  {
   "cell_type": "markdown",
   "id": "3fc19896",
   "metadata": {},
   "source": [
    "### ANOVA\n",
    "\n",
    "\n",
    "- https://www.reneshbedre.com/blog/anova.html"
   ]
  },
  {
   "cell_type": "markdown",
   "id": "79e14b75",
   "metadata": {},
   "source": [
    "#### 1. One way anova test"
   ]
  },
  {
   "cell_type": "code",
   "execution_count": 37,
   "id": "1ffb8aa2",
   "metadata": {},
   "outputs": [
    {
     "data": {
      "text/html": [
       "<div>\n",
       "<style scoped>\n",
       "    .dataframe tbody tr th:only-of-type {\n",
       "        vertical-align: middle;\n",
       "    }\n",
       "\n",
       "    .dataframe tbody tr th {\n",
       "        vertical-align: top;\n",
       "    }\n",
       "\n",
       "    .dataframe thead th {\n",
       "        text-align: right;\n",
       "    }\n",
       "</style>\n",
       "<table border=\"1\" class=\"dataframe\">\n",
       "  <thead>\n",
       "    <tr style=\"text-align: right;\">\n",
       "      <th></th>\n",
       "      <th>iphone</th>\n",
       "      <th>galaxy</th>\n",
       "      <th>moto</th>\n",
       "      <th>lgg7</th>\n",
       "    </tr>\n",
       "  </thead>\n",
       "  <tbody>\n",
       "    <tr>\n",
       "      <th>0</th>\n",
       "      <td>87</td>\n",
       "      <td>71</td>\n",
       "      <td>66.0</td>\n",
       "      <td>65</td>\n",
       "    </tr>\n",
       "    <tr>\n",
       "      <th>1</th>\n",
       "      <td>85</td>\n",
       "      <td>82</td>\n",
       "      <td>74.0</td>\n",
       "      <td>69</td>\n",
       "    </tr>\n",
       "    <tr>\n",
       "      <th>2</th>\n",
       "      <td>78</td>\n",
       "      <td>75</td>\n",
       "      <td>79.0</td>\n",
       "      <td>67</td>\n",
       "    </tr>\n",
       "    <tr>\n",
       "      <th>3</th>\n",
       "      <td>82</td>\n",
       "      <td>80</td>\n",
       "      <td>NaN</td>\n",
       "      <td>63</td>\n",
       "    </tr>\n",
       "  </tbody>\n",
       "</table>\n",
       "</div>"
      ],
      "text/plain": [
       "   iphone  galaxy  moto  lgg7\n",
       "0      87      71  66.0    65\n",
       "1      85      82  74.0    69\n",
       "2      78      75  79.0    67\n",
       "3      82      80   NaN    63"
      ]
     },
     "execution_count": 37,
     "metadata": {},
     "output_type": "execute_result"
    }
   ],
   "source": [
    "smartphones = pd.DataFrame({'iphone':[87,85,78,82],\n",
    "                           'galaxy':[71, 82, 75, 80],\n",
    "                           'moto':[66, 74, 79, np.nan],\n",
    "                           'lgg7':[65,69,67,63]})\n",
    "\n",
    "smartphones"
   ]
  },
  {
   "cell_type": "markdown",
   "id": "b2af75d7",
   "metadata": {},
   "source": [
    "null hypothesis: All means are same <br>\n",
    "alt hypothesis: not same"
   ]
  },
  {
   "cell_type": "code",
   "execution_count": 41,
   "id": "59218bfe",
   "metadata": {},
   "outputs": [
    {
     "data": {
      "text/plain": [
       "F_onewayResult(statistic=9.859980334316617, pvalue=0.001887232383275623)"
      ]
     },
     "execution_count": 41,
     "metadata": {},
     "output_type": "execute_result"
    }
   ],
   "source": [
    "rv = stats.f_oneway(smartphones.iphone, smartphones.galaxy, smartphones.moto.dropna(), smartphones.lgg7)\n",
    "rv"
   ]
  },
  {
   "cell_type": "markdown",
   "id": "78d170af",
   "metadata": {},
   "source": [
    "At 95% percent confidence we can reject the null hypothesis. <br>\n",
    "There is difference is means <br> <br>\n",
    "\n",
    "**Tukey–Kramer Multiple Comparison Test for One-Way ANOVA** allows us to examine each pair of sample means and to conclude whether their respective population means differ for one-way ANOVA."
   ]
  },
  {
   "cell_type": "code",
   "execution_count": 20,
   "id": "87ebe54e",
   "metadata": {},
   "outputs": [],
   "source": [
    "from statsmodels.stats.multicomp import pairwise_tukeyhsd, MultiComparison"
   ]
  },
  {
   "cell_type": "code",
   "execution_count": 69,
   "id": "436c33f0",
   "metadata": {},
   "outputs": [
    {
     "data": {
      "text/html": [
       "<div>\n",
       "<style scoped>\n",
       "    .dataframe tbody tr th:only-of-type {\n",
       "        vertical-align: middle;\n",
       "    }\n",
       "\n",
       "    .dataframe tbody tr th {\n",
       "        vertical-align: top;\n",
       "    }\n",
       "\n",
       "    .dataframe thead th {\n",
       "        text-align: right;\n",
       "    }\n",
       "</style>\n",
       "<table border=\"1\" class=\"dataframe\">\n",
       "  <thead>\n",
       "    <tr style=\"text-align: right;\">\n",
       "      <th></th>\n",
       "      <th>company</th>\n",
       "      <th>total</th>\n",
       "    </tr>\n",
       "  </thead>\n",
       "  <tbody>\n",
       "    <tr>\n",
       "      <th>0</th>\n",
       "      <td>iphone</td>\n",
       "      <td>87.0</td>\n",
       "    </tr>\n",
       "    <tr>\n",
       "      <th>1</th>\n",
       "      <td>iphone</td>\n",
       "      <td>85.0</td>\n",
       "    </tr>\n",
       "    <tr>\n",
       "      <th>2</th>\n",
       "      <td>iphone</td>\n",
       "      <td>78.0</td>\n",
       "    </tr>\n",
       "    <tr>\n",
       "      <th>3</th>\n",
       "      <td>iphone</td>\n",
       "      <td>82.0</td>\n",
       "    </tr>\n",
       "    <tr>\n",
       "      <th>4</th>\n",
       "      <td>galaxy</td>\n",
       "      <td>71.0</td>\n",
       "    </tr>\n",
       "    <tr>\n",
       "      <th>5</th>\n",
       "      <td>galaxy</td>\n",
       "      <td>82.0</td>\n",
       "    </tr>\n",
       "    <tr>\n",
       "      <th>6</th>\n",
       "      <td>galaxy</td>\n",
       "      <td>75.0</td>\n",
       "    </tr>\n",
       "    <tr>\n",
       "      <th>7</th>\n",
       "      <td>galaxy</td>\n",
       "      <td>80.0</td>\n",
       "    </tr>\n",
       "    <tr>\n",
       "      <th>8</th>\n",
       "      <td>moto</td>\n",
       "      <td>66.0</td>\n",
       "    </tr>\n",
       "    <tr>\n",
       "      <th>9</th>\n",
       "      <td>moto</td>\n",
       "      <td>74.0</td>\n",
       "    </tr>\n",
       "    <tr>\n",
       "      <th>10</th>\n",
       "      <td>moto</td>\n",
       "      <td>79.0</td>\n",
       "    </tr>\n",
       "    <tr>\n",
       "      <th>11</th>\n",
       "      <td>moto</td>\n",
       "      <td>NaN</td>\n",
       "    </tr>\n",
       "    <tr>\n",
       "      <th>12</th>\n",
       "      <td>lgg7</td>\n",
       "      <td>65.0</td>\n",
       "    </tr>\n",
       "    <tr>\n",
       "      <th>13</th>\n",
       "      <td>lgg7</td>\n",
       "      <td>69.0</td>\n",
       "    </tr>\n",
       "    <tr>\n",
       "      <th>14</th>\n",
       "      <td>lgg7</td>\n",
       "      <td>67.0</td>\n",
       "    </tr>\n",
       "    <tr>\n",
       "      <th>15</th>\n",
       "      <td>lgg7</td>\n",
       "      <td>63.0</td>\n",
       "    </tr>\n",
       "  </tbody>\n",
       "</table>\n",
       "</div>"
      ],
      "text/plain": [
       "   company  total\n",
       "0   iphone   87.0\n",
       "1   iphone   85.0\n",
       "2   iphone   78.0\n",
       "3   iphone   82.0\n",
       "4   galaxy   71.0\n",
       "5   galaxy   82.0\n",
       "6   galaxy   75.0\n",
       "7   galaxy   80.0\n",
       "8     moto   66.0\n",
       "9     moto   74.0\n",
       "10    moto   79.0\n",
       "11    moto    NaN\n",
       "12    lgg7   65.0\n",
       "13    lgg7   69.0\n",
       "14    lgg7   67.0\n",
       "15    lgg7   63.0"
      ]
     },
     "execution_count": 69,
     "metadata": {},
     "output_type": "execute_result"
    }
   ],
   "source": [
    "df = smartphones.melt(value_vars=smartphones.columns.to_list(), value_name='total', var_name='company')\n",
    "df"
   ]
  },
  {
   "cell_type": "code",
   "execution_count": 73,
   "id": "d10558b3",
   "metadata": {},
   "outputs": [],
   "source": [
    "res = pairwise_tukeyhsd(df.total.dropna(), df.company[df.total.notna()])"
   ]
  },
  {
   "cell_type": "code",
   "execution_count": 74,
   "id": "74839f60",
   "metadata": {},
   "outputs": [
    {
     "data": {
      "text/html": [
       "<table class=\"simpletable\">\n",
       "<caption>Multiple Comparison of Means - Tukey HSD, FWER=0.05</caption>\n",
       "<tr>\n",
       "  <th>group1</th> <th>group2</th> <th>meandiff</th>  <th>p-adj</th>   <th>lower</th>   <th>upper</th>  <th>reject</th>\n",
       "</tr>\n",
       "<tr>\n",
       "  <td>galaxy</td> <td>iphone</td>    <td>6.0</td>   <td>0.2938</td>  <td>-3.647</td>  <td>15.647</td>   <td>False</td>\n",
       "</tr>\n",
       "<tr>\n",
       "  <td>galaxy</td>  <td>lgg7</td>    <td>-11.0</td>  <td>0.0247</td>  <td>-20.647</td> <td>-1.353</td>   <td>True</td> \n",
       "</tr>\n",
       "<tr>\n",
       "  <td>galaxy</td>  <td>moto</td>    <td>-4.0</td>   <td>0.6529</td> <td>-14.4199</td> <td>6.4199</td>   <td>False</td>\n",
       "</tr>\n",
       "<tr>\n",
       "  <td>iphone</td>  <td>lgg7</td>    <td>-17.0</td>  <td>0.0012</td>  <td>-26.647</td> <td>-7.353</td>   <td>True</td> \n",
       "</tr>\n",
       "<tr>\n",
       "  <td>iphone</td>  <td>moto</td>    <td>-10.0</td>  <td>0.0611</td> <td>-20.4199</td> <td>0.4199</td>   <td>False</td>\n",
       "</tr>\n",
       "<tr>\n",
       "   <td>lgg7</td>   <td>moto</td>     <td>7.0</td>   <td>0.2379</td>  <td>-3.4199</td> <td>17.4199</td>  <td>False</td>\n",
       "</tr>\n",
       "</table>"
      ],
      "text/plain": [
       "<class 'statsmodels.iolib.table.SimpleTable'>"
      ]
     },
     "execution_count": 74,
     "metadata": {},
     "output_type": "execute_result"
    }
   ],
   "source": [
    "res.summary()"
   ]
  },
  {
   "cell_type": "code",
   "execution_count": null,
   "id": "469b283f",
   "metadata": {},
   "outputs": [],
   "source": []
  },
  {
   "cell_type": "code",
   "execution_count": 2,
   "id": "def18eff",
   "metadata": {},
   "outputs": [
    {
     "data": {
      "text/html": [
       "<div>\n",
       "<style scoped>\n",
       "    .dataframe tbody tr th:only-of-type {\n",
       "        vertical-align: middle;\n",
       "    }\n",
       "\n",
       "    .dataframe tbody tr th {\n",
       "        vertical-align: top;\n",
       "    }\n",
       "\n",
       "    .dataframe thead th {\n",
       "        text-align: right;\n",
       "    }\n",
       "</style>\n",
       "<table border=\"1\" class=\"dataframe\">\n",
       "  <thead>\n",
       "    <tr style=\"text-align: right;\">\n",
       "      <th></th>\n",
       "      <th>driver1</th>\n",
       "      <th>driver2</th>\n",
       "      <th>driver3</th>\n",
       "      <th>driver4</th>\n",
       "    </tr>\n",
       "  </thead>\n",
       "  <tbody>\n",
       "    <tr>\n",
       "      <th>0</th>\n",
       "      <td>40</td>\n",
       "      <td>16.0</td>\n",
       "      <td>27</td>\n",
       "      <td>21.0</td>\n",
       "    </tr>\n",
       "    <tr>\n",
       "      <th>1</th>\n",
       "      <td>32</td>\n",
       "      <td>9.0</td>\n",
       "      <td>24</td>\n",
       "      <td>7.0</td>\n",
       "    </tr>\n",
       "    <tr>\n",
       "      <th>2</th>\n",
       "      <td>28</td>\n",
       "      <td>13.0</td>\n",
       "      <td>13</td>\n",
       "      <td>34.0</td>\n",
       "    </tr>\n",
       "    <tr>\n",
       "      <th>3</th>\n",
       "      <td>29</td>\n",
       "      <td>22.0</td>\n",
       "      <td>9</td>\n",
       "      <td>14.0</td>\n",
       "    </tr>\n",
       "    <tr>\n",
       "      <th>4</th>\n",
       "      <td>40</td>\n",
       "      <td>NaN</td>\n",
       "      <td>10</td>\n",
       "      <td>NaN</td>\n",
       "    </tr>\n",
       "  </tbody>\n",
       "</table>\n",
       "</div>"
      ],
      "text/plain": [
       "   driver1  driver2  driver3  driver4\n",
       "0       40     16.0       27     21.0\n",
       "1       32      9.0       24      7.0\n",
       "2       28     13.0       13     34.0\n",
       "3       29     22.0        9     14.0\n",
       "4       40      NaN       10      NaN"
      ]
     },
     "execution_count": 2,
     "metadata": {},
     "output_type": "execute_result"
    }
   ],
   "source": [
    "df = pd.DataFrame({'driver1':[40,32,28,29,40],\n",
    "                  'driver2':[16,9,13,22,np.nan],\n",
    "                  'driver3':[27, 24,13,9,10],\n",
    "                  'driver4':[21,7,34,14,np.nan]})\n",
    "df"
   ]
  },
  {
   "cell_type": "code",
   "execution_count": 3,
   "id": "3c275070",
   "metadata": {},
   "outputs": [
    {
     "data": {
      "text/plain": [
       "F_onewayResult(statistic=5.53814568448715, pvalue=0.010169306437949461)"
      ]
     },
     "execution_count": 3,
     "metadata": {},
     "output_type": "execute_result"
    }
   ],
   "source": [
    "stats.f_oneway(df.driver1,\n",
    "              df.driver2.dropna(),\n",
    "              df.driver3,\n",
    "              df.driver4.dropna())"
   ]
  },
  {
   "cell_type": "code",
   "execution_count": 7,
   "id": "5cfac8c1",
   "metadata": {
    "scrolled": true
   },
   "outputs": [
    {
     "data": {
      "text/html": [
       "<div>\n",
       "<style scoped>\n",
       "    .dataframe tbody tr th:only-of-type {\n",
       "        vertical-align: middle;\n",
       "    }\n",
       "\n",
       "    .dataframe tbody tr th {\n",
       "        vertical-align: top;\n",
       "    }\n",
       "\n",
       "    .dataframe thead th {\n",
       "        text-align: right;\n",
       "    }\n",
       "</style>\n",
       "<table border=\"1\" class=\"dataframe\">\n",
       "  <thead>\n",
       "    <tr style=\"text-align: right;\">\n",
       "      <th></th>\n",
       "      <th>driver</th>\n",
       "      <th>time</th>\n",
       "    </tr>\n",
       "  </thead>\n",
       "  <tbody>\n",
       "    <tr>\n",
       "      <th>0</th>\n",
       "      <td>driver1</td>\n",
       "      <td>40.0</td>\n",
       "    </tr>\n",
       "    <tr>\n",
       "      <th>1</th>\n",
       "      <td>driver1</td>\n",
       "      <td>32.0</td>\n",
       "    </tr>\n",
       "    <tr>\n",
       "      <th>2</th>\n",
       "      <td>driver1</td>\n",
       "      <td>28.0</td>\n",
       "    </tr>\n",
       "    <tr>\n",
       "      <th>3</th>\n",
       "      <td>driver1</td>\n",
       "      <td>29.0</td>\n",
       "    </tr>\n",
       "    <tr>\n",
       "      <th>4</th>\n",
       "      <td>driver1</td>\n",
       "      <td>40.0</td>\n",
       "    </tr>\n",
       "    <tr>\n",
       "      <th>5</th>\n",
       "      <td>driver2</td>\n",
       "      <td>16.0</td>\n",
       "    </tr>\n",
       "    <tr>\n",
       "      <th>6</th>\n",
       "      <td>driver2</td>\n",
       "      <td>9.0</td>\n",
       "    </tr>\n",
       "    <tr>\n",
       "      <th>7</th>\n",
       "      <td>driver2</td>\n",
       "      <td>13.0</td>\n",
       "    </tr>\n",
       "    <tr>\n",
       "      <th>8</th>\n",
       "      <td>driver2</td>\n",
       "      <td>22.0</td>\n",
       "    </tr>\n",
       "    <tr>\n",
       "      <th>10</th>\n",
       "      <td>driver3</td>\n",
       "      <td>27.0</td>\n",
       "    </tr>\n",
       "    <tr>\n",
       "      <th>11</th>\n",
       "      <td>driver3</td>\n",
       "      <td>24.0</td>\n",
       "    </tr>\n",
       "    <tr>\n",
       "      <th>12</th>\n",
       "      <td>driver3</td>\n",
       "      <td>13.0</td>\n",
       "    </tr>\n",
       "    <tr>\n",
       "      <th>13</th>\n",
       "      <td>driver3</td>\n",
       "      <td>9.0</td>\n",
       "    </tr>\n",
       "    <tr>\n",
       "      <th>14</th>\n",
       "      <td>driver3</td>\n",
       "      <td>10.0</td>\n",
       "    </tr>\n",
       "    <tr>\n",
       "      <th>15</th>\n",
       "      <td>driver4</td>\n",
       "      <td>21.0</td>\n",
       "    </tr>\n",
       "    <tr>\n",
       "      <th>16</th>\n",
       "      <td>driver4</td>\n",
       "      <td>7.0</td>\n",
       "    </tr>\n",
       "    <tr>\n",
       "      <th>17</th>\n",
       "      <td>driver4</td>\n",
       "      <td>34.0</td>\n",
       "    </tr>\n",
       "    <tr>\n",
       "      <th>18</th>\n",
       "      <td>driver4</td>\n",
       "      <td>14.0</td>\n",
       "    </tr>\n",
       "  </tbody>\n",
       "</table>\n",
       "</div>"
      ],
      "text/plain": [
       "     driver  time\n",
       "0   driver1  40.0\n",
       "1   driver1  32.0\n",
       "2   driver1  28.0\n",
       "3   driver1  29.0\n",
       "4   driver1  40.0\n",
       "5   driver2  16.0\n",
       "6   driver2   9.0\n",
       "7   driver2  13.0\n",
       "8   driver2  22.0\n",
       "10  driver3  27.0\n",
       "11  driver3  24.0\n",
       "12  driver3  13.0\n",
       "13  driver3   9.0\n",
       "14  driver3  10.0\n",
       "15  driver4  21.0\n",
       "16  driver4   7.0\n",
       "17  driver4  34.0\n",
       "18  driver4  14.0"
      ]
     },
     "execution_count": 7,
     "metadata": {},
     "output_type": "execute_result"
    }
   ],
   "source": [
    "df2 = df.melt(value_name='time', value_vars=df.columns.to_list(), var_name='driver')\n",
    "df2 = df2.dropna()\n",
    "df2"
   ]
  },
  {
   "cell_type": "code",
   "execution_count": 9,
   "id": "09328e78",
   "metadata": {},
   "outputs": [
    {
     "name": "stdout",
     "output_type": "stream",
     "text": [
      "  Multiple Comparison of Means - Tukey HSD, FWER=0.05  \n",
      "=======================================================\n",
      " group1  group2 meandiff p-adj   lower    upper  reject\n",
      "-------------------------------------------------------\n",
      "driver1 driver2    -18.8 0.0168 -34.4521 -3.1479   True\n",
      "driver1 driver3    -17.2 0.0204  -31.957  -2.443   True\n",
      "driver1 driver4    -14.8 0.0667 -30.4521  0.8521  False\n",
      "driver2 driver3      1.6    0.9 -14.0521 17.2521  False\n",
      "driver2 driver4      4.0 0.8914 -12.4988 20.4988  False\n",
      "driver3 driver4      2.4    0.9 -13.2521 18.0521  False\n",
      "-------------------------------------------------------\n"
     ]
    }
   ],
   "source": [
    "tukey = sm.stats.multicomp.pairwise_tukeyhsd(df2.time, df2.driver)\n",
    "\n",
    "print(tukey.summary())"
   ]
  },
  {
   "cell_type": "code",
   "execution_count": 10,
   "id": "fc30ac00",
   "metadata": {},
   "outputs": [],
   "source": [
    "from statsmodels.formula.api import ols"
   ]
  },
  {
   "cell_type": "code",
   "execution_count": 11,
   "id": "45da7cfd",
   "metadata": {},
   "outputs": [],
   "source": [
    "model = ols('time ~ C(driver)', data=df2).fit()"
   ]
  },
  {
   "cell_type": "code",
   "execution_count": 13,
   "id": "881a06cb",
   "metadata": {},
   "outputs": [
    {
     "data": {
      "text/html": [
       "<div>\n",
       "<style scoped>\n",
       "    .dataframe tbody tr th:only-of-type {\n",
       "        vertical-align: middle;\n",
       "    }\n",
       "\n",
       "    .dataframe tbody tr th {\n",
       "        vertical-align: top;\n",
       "    }\n",
       "\n",
       "    .dataframe thead th {\n",
       "        text-align: right;\n",
       "    }\n",
       "</style>\n",
       "<table border=\"1\" class=\"dataframe\">\n",
       "  <thead>\n",
       "    <tr style=\"text-align: right;\">\n",
       "      <th></th>\n",
       "      <th>df</th>\n",
       "      <th>sum_sq</th>\n",
       "      <th>mean_sq</th>\n",
       "      <th>F</th>\n",
       "      <th>PR(&gt;F)</th>\n",
       "    </tr>\n",
       "  </thead>\n",
       "  <tbody>\n",
       "    <tr>\n",
       "      <th>C(driver)</th>\n",
       "      <td>3.0</td>\n",
       "      <td>1070.444444</td>\n",
       "      <td>356.814815</td>\n",
       "      <td>5.538146</td>\n",
       "      <td>0.010169</td>\n",
       "    </tr>\n",
       "    <tr>\n",
       "      <th>Residual</th>\n",
       "      <td>14.0</td>\n",
       "      <td>902.000000</td>\n",
       "      <td>64.428571</td>\n",
       "      <td>NaN</td>\n",
       "      <td>NaN</td>\n",
       "    </tr>\n",
       "  </tbody>\n",
       "</table>\n",
       "</div>"
      ],
      "text/plain": [
       "             df       sum_sq     mean_sq         F    PR(>F)\n",
       "C(driver)   3.0  1070.444444  356.814815  5.538146  0.010169\n",
       "Residual   14.0   902.000000   64.428571       NaN       NaN"
      ]
     },
     "execution_count": 13,
     "metadata": {},
     "output_type": "execute_result"
    }
   ],
   "source": [
    "anova_table = sm.stats.anova_lm(model,typ=1)\n",
    "anova_table"
   ]
  },
  {
   "cell_type": "code",
   "execution_count": 14,
   "id": "2b63b351",
   "metadata": {},
   "outputs": [
    {
     "data": {
      "text/plain": [
       "BartlettResult(statistic=2.1111007320751347, pvalue=0.549670276240217)"
      ]
     },
     "execution_count": 14,
     "metadata": {},
     "output_type": "execute_result"
    }
   ],
   "source": [
    "## Bartlett test for eual variance\n",
    "## H0: All variance are equal\n",
    "## Ha: not equal\n",
    "\n",
    "stats.bartlett(df.driver1,\n",
    "              df.driver2.dropna(),\n",
    "              df.driver3,\n",
    "              df.driver4.dropna())"
   ]
  },
  {
   "cell_type": "markdown",
   "id": "118924dd",
   "metadata": {},
   "source": [
    "#### 2. Two-way Anova test"
   ]
  },
  {
   "cell_type": "code",
   "execution_count": 15,
   "id": "e614675a",
   "metadata": {
    "scrolled": true
   },
   "outputs": [
    {
     "data": {
      "text/html": [
       "<div>\n",
       "<style scoped>\n",
       "    .dataframe tbody tr th:only-of-type {\n",
       "        vertical-align: middle;\n",
       "    }\n",
       "\n",
       "    .dataframe tbody tr th {\n",
       "        vertical-align: top;\n",
       "    }\n",
       "\n",
       "    .dataframe thead th {\n",
       "        text-align: right;\n",
       "    }\n",
       "</style>\n",
       "<table border=\"1\" class=\"dataframe\">\n",
       "  <thead>\n",
       "    <tr style=\"text-align: right;\">\n",
       "      <th></th>\n",
       "      <th>Genotype</th>\n",
       "      <th>1_year</th>\n",
       "      <th>2_year</th>\n",
       "      <th>3_year</th>\n",
       "    </tr>\n",
       "  </thead>\n",
       "  <tbody>\n",
       "    <tr>\n",
       "      <th>0</th>\n",
       "      <td>A</td>\n",
       "      <td>1.53</td>\n",
       "      <td>4.08</td>\n",
       "      <td>6.69</td>\n",
       "    </tr>\n",
       "    <tr>\n",
       "      <th>1</th>\n",
       "      <td>A</td>\n",
       "      <td>1.83</td>\n",
       "      <td>3.84</td>\n",
       "      <td>5.97</td>\n",
       "    </tr>\n",
       "    <tr>\n",
       "      <th>2</th>\n",
       "      <td>A</td>\n",
       "      <td>1.38</td>\n",
       "      <td>3.96</td>\n",
       "      <td>6.33</td>\n",
       "    </tr>\n",
       "    <tr>\n",
       "      <th>3</th>\n",
       "      <td>B</td>\n",
       "      <td>3.60</td>\n",
       "      <td>5.70</td>\n",
       "      <td>8.55</td>\n",
       "    </tr>\n",
       "    <tr>\n",
       "      <th>4</th>\n",
       "      <td>B</td>\n",
       "      <td>2.94</td>\n",
       "      <td>5.07</td>\n",
       "      <td>7.95</td>\n",
       "    </tr>\n",
       "    <tr>\n",
       "      <th>5</th>\n",
       "      <td>B</td>\n",
       "      <td>4.02</td>\n",
       "      <td>7.20</td>\n",
       "      <td>8.94</td>\n",
       "    </tr>\n",
       "    <tr>\n",
       "      <th>6</th>\n",
       "      <td>C</td>\n",
       "      <td>3.99</td>\n",
       "      <td>6.09</td>\n",
       "      <td>10.02</td>\n",
       "    </tr>\n",
       "    <tr>\n",
       "      <th>7</th>\n",
       "      <td>C</td>\n",
       "      <td>3.30</td>\n",
       "      <td>5.88</td>\n",
       "      <td>9.63</td>\n",
       "    </tr>\n",
       "    <tr>\n",
       "      <th>8</th>\n",
       "      <td>C</td>\n",
       "      <td>4.41</td>\n",
       "      <td>6.51</td>\n",
       "      <td>10.38</td>\n",
       "    </tr>\n",
       "    <tr>\n",
       "      <th>9</th>\n",
       "      <td>D</td>\n",
       "      <td>3.75</td>\n",
       "      <td>5.19</td>\n",
       "      <td>11.40</td>\n",
       "    </tr>\n",
       "    <tr>\n",
       "      <th>10</th>\n",
       "      <td>D</td>\n",
       "      <td>3.63</td>\n",
       "      <td>5.37</td>\n",
       "      <td>9.66</td>\n",
       "    </tr>\n",
       "    <tr>\n",
       "      <th>11</th>\n",
       "      <td>D</td>\n",
       "      <td>3.57</td>\n",
       "      <td>5.55</td>\n",
       "      <td>10.53</td>\n",
       "    </tr>\n",
       "    <tr>\n",
       "      <th>12</th>\n",
       "      <td>E</td>\n",
       "      <td>1.71</td>\n",
       "      <td>3.60</td>\n",
       "      <td>6.87</td>\n",
       "    </tr>\n",
       "    <tr>\n",
       "      <th>13</th>\n",
       "      <td>E</td>\n",
       "      <td>2.01</td>\n",
       "      <td>5.10</td>\n",
       "      <td>6.93</td>\n",
       "    </tr>\n",
       "    <tr>\n",
       "      <th>14</th>\n",
       "      <td>E</td>\n",
       "      <td>2.04</td>\n",
       "      <td>6.99</td>\n",
       "      <td>6.84</td>\n",
       "    </tr>\n",
       "    <tr>\n",
       "      <th>15</th>\n",
       "      <td>F</td>\n",
       "      <td>3.96</td>\n",
       "      <td>5.25</td>\n",
       "      <td>9.84</td>\n",
       "    </tr>\n",
       "    <tr>\n",
       "      <th>16</th>\n",
       "      <td>F</td>\n",
       "      <td>4.77</td>\n",
       "      <td>5.28</td>\n",
       "      <td>9.87</td>\n",
       "    </tr>\n",
       "    <tr>\n",
       "      <th>17</th>\n",
       "      <td>F</td>\n",
       "      <td>4.65</td>\n",
       "      <td>5.07</td>\n",
       "      <td>10.08</td>\n",
       "    </tr>\n",
       "  </tbody>\n",
       "</table>\n",
       "</div>"
      ],
      "text/plain": [
       "   Genotype  1_year  2_year  3_year\n",
       "0         A    1.53    4.08    6.69\n",
       "1         A    1.83    3.84    5.97\n",
       "2         A    1.38    3.96    6.33\n",
       "3         B    3.60    5.70    8.55\n",
       "4         B    2.94    5.07    7.95\n",
       "5         B    4.02    7.20    8.94\n",
       "6         C    3.99    6.09   10.02\n",
       "7         C    3.30    5.88    9.63\n",
       "8         C    4.41    6.51   10.38\n",
       "9         D    3.75    5.19   11.40\n",
       "10        D    3.63    5.37    9.66\n",
       "11        D    3.57    5.55   10.53\n",
       "12        E    1.71    3.60    6.87\n",
       "13        E    2.01    5.10    6.93\n",
       "14        E    2.04    6.99    6.84\n",
       "15        F    3.96    5.25    9.84\n",
       "16        F    4.77    5.28    9.87\n",
       "17        F    4.65    5.07   10.08"
      ]
     },
     "execution_count": 15,
     "metadata": {},
     "output_type": "execute_result"
    }
   ],
   "source": [
    "dataset = pd.read_csv(\"https://reneshbedre.github.io/assets/posts/anova/twowayanova.txt\", sep=\"\\t\")\n",
    "dataset"
   ]
  },
  {
   "cell_type": "code",
   "execution_count": 17,
   "id": "a750847f",
   "metadata": {
    "scrolled": true
   },
   "outputs": [
    {
     "data": {
      "text/html": [
       "<div>\n",
       "<style scoped>\n",
       "    .dataframe tbody tr th:only-of-type {\n",
       "        vertical-align: middle;\n",
       "    }\n",
       "\n",
       "    .dataframe tbody tr th {\n",
       "        vertical-align: top;\n",
       "    }\n",
       "\n",
       "    .dataframe thead th {\n",
       "        text-align: right;\n",
       "    }\n",
       "</style>\n",
       "<table border=\"1\" class=\"dataframe\">\n",
       "  <thead>\n",
       "    <tr style=\"text-align: right;\">\n",
       "      <th></th>\n",
       "      <th>Genotype</th>\n",
       "      <th>variable</th>\n",
       "      <th>years</th>\n",
       "    </tr>\n",
       "  </thead>\n",
       "  <tbody>\n",
       "    <tr>\n",
       "      <th>0</th>\n",
       "      <td>A</td>\n",
       "      <td>1_year</td>\n",
       "      <td>1.53</td>\n",
       "    </tr>\n",
       "    <tr>\n",
       "      <th>1</th>\n",
       "      <td>A</td>\n",
       "      <td>1_year</td>\n",
       "      <td>1.83</td>\n",
       "    </tr>\n",
       "    <tr>\n",
       "      <th>2</th>\n",
       "      <td>A</td>\n",
       "      <td>1_year</td>\n",
       "      <td>1.38</td>\n",
       "    </tr>\n",
       "    <tr>\n",
       "      <th>3</th>\n",
       "      <td>B</td>\n",
       "      <td>1_year</td>\n",
       "      <td>3.60</td>\n",
       "    </tr>\n",
       "    <tr>\n",
       "      <th>4</th>\n",
       "      <td>B</td>\n",
       "      <td>1_year</td>\n",
       "      <td>2.94</td>\n",
       "    </tr>\n",
       "    <tr>\n",
       "      <th>5</th>\n",
       "      <td>B</td>\n",
       "      <td>1_year</td>\n",
       "      <td>4.02</td>\n",
       "    </tr>\n",
       "    <tr>\n",
       "      <th>6</th>\n",
       "      <td>C</td>\n",
       "      <td>1_year</td>\n",
       "      <td>3.99</td>\n",
       "    </tr>\n",
       "    <tr>\n",
       "      <th>7</th>\n",
       "      <td>C</td>\n",
       "      <td>1_year</td>\n",
       "      <td>3.30</td>\n",
       "    </tr>\n",
       "    <tr>\n",
       "      <th>8</th>\n",
       "      <td>C</td>\n",
       "      <td>1_year</td>\n",
       "      <td>4.41</td>\n",
       "    </tr>\n",
       "    <tr>\n",
       "      <th>9</th>\n",
       "      <td>D</td>\n",
       "      <td>1_year</td>\n",
       "      <td>3.75</td>\n",
       "    </tr>\n",
       "    <tr>\n",
       "      <th>10</th>\n",
       "      <td>D</td>\n",
       "      <td>1_year</td>\n",
       "      <td>3.63</td>\n",
       "    </tr>\n",
       "    <tr>\n",
       "      <th>11</th>\n",
       "      <td>D</td>\n",
       "      <td>1_year</td>\n",
       "      <td>3.57</td>\n",
       "    </tr>\n",
       "    <tr>\n",
       "      <th>12</th>\n",
       "      <td>E</td>\n",
       "      <td>1_year</td>\n",
       "      <td>1.71</td>\n",
       "    </tr>\n",
       "    <tr>\n",
       "      <th>13</th>\n",
       "      <td>E</td>\n",
       "      <td>1_year</td>\n",
       "      <td>2.01</td>\n",
       "    </tr>\n",
       "    <tr>\n",
       "      <th>14</th>\n",
       "      <td>E</td>\n",
       "      <td>1_year</td>\n",
       "      <td>2.04</td>\n",
       "    </tr>\n",
       "    <tr>\n",
       "      <th>15</th>\n",
       "      <td>F</td>\n",
       "      <td>1_year</td>\n",
       "      <td>3.96</td>\n",
       "    </tr>\n",
       "    <tr>\n",
       "      <th>16</th>\n",
       "      <td>F</td>\n",
       "      <td>1_year</td>\n",
       "      <td>4.77</td>\n",
       "    </tr>\n",
       "    <tr>\n",
       "      <th>17</th>\n",
       "      <td>F</td>\n",
       "      <td>1_year</td>\n",
       "      <td>4.65</td>\n",
       "    </tr>\n",
       "    <tr>\n",
       "      <th>18</th>\n",
       "      <td>A</td>\n",
       "      <td>2_year</td>\n",
       "      <td>4.08</td>\n",
       "    </tr>\n",
       "    <tr>\n",
       "      <th>19</th>\n",
       "      <td>A</td>\n",
       "      <td>2_year</td>\n",
       "      <td>3.84</td>\n",
       "    </tr>\n",
       "    <tr>\n",
       "      <th>20</th>\n",
       "      <td>A</td>\n",
       "      <td>2_year</td>\n",
       "      <td>3.96</td>\n",
       "    </tr>\n",
       "    <tr>\n",
       "      <th>21</th>\n",
       "      <td>B</td>\n",
       "      <td>2_year</td>\n",
       "      <td>5.70</td>\n",
       "    </tr>\n",
       "    <tr>\n",
       "      <th>22</th>\n",
       "      <td>B</td>\n",
       "      <td>2_year</td>\n",
       "      <td>5.07</td>\n",
       "    </tr>\n",
       "    <tr>\n",
       "      <th>23</th>\n",
       "      <td>B</td>\n",
       "      <td>2_year</td>\n",
       "      <td>7.20</td>\n",
       "    </tr>\n",
       "    <tr>\n",
       "      <th>24</th>\n",
       "      <td>C</td>\n",
       "      <td>2_year</td>\n",
       "      <td>6.09</td>\n",
       "    </tr>\n",
       "    <tr>\n",
       "      <th>25</th>\n",
       "      <td>C</td>\n",
       "      <td>2_year</td>\n",
       "      <td>5.88</td>\n",
       "    </tr>\n",
       "    <tr>\n",
       "      <th>26</th>\n",
       "      <td>C</td>\n",
       "      <td>2_year</td>\n",
       "      <td>6.51</td>\n",
       "    </tr>\n",
       "    <tr>\n",
       "      <th>27</th>\n",
       "      <td>D</td>\n",
       "      <td>2_year</td>\n",
       "      <td>5.19</td>\n",
       "    </tr>\n",
       "    <tr>\n",
       "      <th>28</th>\n",
       "      <td>D</td>\n",
       "      <td>2_year</td>\n",
       "      <td>5.37</td>\n",
       "    </tr>\n",
       "    <tr>\n",
       "      <th>29</th>\n",
       "      <td>D</td>\n",
       "      <td>2_year</td>\n",
       "      <td>5.55</td>\n",
       "    </tr>\n",
       "    <tr>\n",
       "      <th>30</th>\n",
       "      <td>E</td>\n",
       "      <td>2_year</td>\n",
       "      <td>3.60</td>\n",
       "    </tr>\n",
       "    <tr>\n",
       "      <th>31</th>\n",
       "      <td>E</td>\n",
       "      <td>2_year</td>\n",
       "      <td>5.10</td>\n",
       "    </tr>\n",
       "    <tr>\n",
       "      <th>32</th>\n",
       "      <td>E</td>\n",
       "      <td>2_year</td>\n",
       "      <td>6.99</td>\n",
       "    </tr>\n",
       "    <tr>\n",
       "      <th>33</th>\n",
       "      <td>F</td>\n",
       "      <td>2_year</td>\n",
       "      <td>5.25</td>\n",
       "    </tr>\n",
       "    <tr>\n",
       "      <th>34</th>\n",
       "      <td>F</td>\n",
       "      <td>2_year</td>\n",
       "      <td>5.28</td>\n",
       "    </tr>\n",
       "    <tr>\n",
       "      <th>35</th>\n",
       "      <td>F</td>\n",
       "      <td>2_year</td>\n",
       "      <td>5.07</td>\n",
       "    </tr>\n",
       "    <tr>\n",
       "      <th>36</th>\n",
       "      <td>A</td>\n",
       "      <td>3_year</td>\n",
       "      <td>6.69</td>\n",
       "    </tr>\n",
       "    <tr>\n",
       "      <th>37</th>\n",
       "      <td>A</td>\n",
       "      <td>3_year</td>\n",
       "      <td>5.97</td>\n",
       "    </tr>\n",
       "    <tr>\n",
       "      <th>38</th>\n",
       "      <td>A</td>\n",
       "      <td>3_year</td>\n",
       "      <td>6.33</td>\n",
       "    </tr>\n",
       "    <tr>\n",
       "      <th>39</th>\n",
       "      <td>B</td>\n",
       "      <td>3_year</td>\n",
       "      <td>8.55</td>\n",
       "    </tr>\n",
       "    <tr>\n",
       "      <th>40</th>\n",
       "      <td>B</td>\n",
       "      <td>3_year</td>\n",
       "      <td>7.95</td>\n",
       "    </tr>\n",
       "    <tr>\n",
       "      <th>41</th>\n",
       "      <td>B</td>\n",
       "      <td>3_year</td>\n",
       "      <td>8.94</td>\n",
       "    </tr>\n",
       "    <tr>\n",
       "      <th>42</th>\n",
       "      <td>C</td>\n",
       "      <td>3_year</td>\n",
       "      <td>10.02</td>\n",
       "    </tr>\n",
       "    <tr>\n",
       "      <th>43</th>\n",
       "      <td>C</td>\n",
       "      <td>3_year</td>\n",
       "      <td>9.63</td>\n",
       "    </tr>\n",
       "    <tr>\n",
       "      <th>44</th>\n",
       "      <td>C</td>\n",
       "      <td>3_year</td>\n",
       "      <td>10.38</td>\n",
       "    </tr>\n",
       "    <tr>\n",
       "      <th>45</th>\n",
       "      <td>D</td>\n",
       "      <td>3_year</td>\n",
       "      <td>11.40</td>\n",
       "    </tr>\n",
       "    <tr>\n",
       "      <th>46</th>\n",
       "      <td>D</td>\n",
       "      <td>3_year</td>\n",
       "      <td>9.66</td>\n",
       "    </tr>\n",
       "    <tr>\n",
       "      <th>47</th>\n",
       "      <td>D</td>\n",
       "      <td>3_year</td>\n",
       "      <td>10.53</td>\n",
       "    </tr>\n",
       "    <tr>\n",
       "      <th>48</th>\n",
       "      <td>E</td>\n",
       "      <td>3_year</td>\n",
       "      <td>6.87</td>\n",
       "    </tr>\n",
       "    <tr>\n",
       "      <th>49</th>\n",
       "      <td>E</td>\n",
       "      <td>3_year</td>\n",
       "      <td>6.93</td>\n",
       "    </tr>\n",
       "    <tr>\n",
       "      <th>50</th>\n",
       "      <td>E</td>\n",
       "      <td>3_year</td>\n",
       "      <td>6.84</td>\n",
       "    </tr>\n",
       "    <tr>\n",
       "      <th>51</th>\n",
       "      <td>F</td>\n",
       "      <td>3_year</td>\n",
       "      <td>9.84</td>\n",
       "    </tr>\n",
       "    <tr>\n",
       "      <th>52</th>\n",
       "      <td>F</td>\n",
       "      <td>3_year</td>\n",
       "      <td>9.87</td>\n",
       "    </tr>\n",
       "    <tr>\n",
       "      <th>53</th>\n",
       "      <td>F</td>\n",
       "      <td>3_year</td>\n",
       "      <td>10.08</td>\n",
       "    </tr>\n",
       "  </tbody>\n",
       "</table>\n",
       "</div>"
      ],
      "text/plain": [
       "   Genotype variable  years\n",
       "0         A   1_year   1.53\n",
       "1         A   1_year   1.83\n",
       "2         A   1_year   1.38\n",
       "3         B   1_year   3.60\n",
       "4         B   1_year   2.94\n",
       "5         B   1_year   4.02\n",
       "6         C   1_year   3.99\n",
       "7         C   1_year   3.30\n",
       "8         C   1_year   4.41\n",
       "9         D   1_year   3.75\n",
       "10        D   1_year   3.63\n",
       "11        D   1_year   3.57\n",
       "12        E   1_year   1.71\n",
       "13        E   1_year   2.01\n",
       "14        E   1_year   2.04\n",
       "15        F   1_year   3.96\n",
       "16        F   1_year   4.77\n",
       "17        F   1_year   4.65\n",
       "18        A   2_year   4.08\n",
       "19        A   2_year   3.84\n",
       "20        A   2_year   3.96\n",
       "21        B   2_year   5.70\n",
       "22        B   2_year   5.07\n",
       "23        B   2_year   7.20\n",
       "24        C   2_year   6.09\n",
       "25        C   2_year   5.88\n",
       "26        C   2_year   6.51\n",
       "27        D   2_year   5.19\n",
       "28        D   2_year   5.37\n",
       "29        D   2_year   5.55\n",
       "30        E   2_year   3.60\n",
       "31        E   2_year   5.10\n",
       "32        E   2_year   6.99\n",
       "33        F   2_year   5.25\n",
       "34        F   2_year   5.28\n",
       "35        F   2_year   5.07\n",
       "36        A   3_year   6.69\n",
       "37        A   3_year   5.97\n",
       "38        A   3_year   6.33\n",
       "39        B   3_year   8.55\n",
       "40        B   3_year   7.95\n",
       "41        B   3_year   8.94\n",
       "42        C   3_year  10.02\n",
       "43        C   3_year   9.63\n",
       "44        C   3_year  10.38\n",
       "45        D   3_year  11.40\n",
       "46        D   3_year   9.66\n",
       "47        D   3_year  10.53\n",
       "48        E   3_year   6.87\n",
       "49        E   3_year   6.93\n",
       "50        E   3_year   6.84\n",
       "51        F   3_year   9.84\n",
       "52        F   3_year   9.87\n",
       "53        F   3_year  10.08"
      ]
     },
     "execution_count": 17,
     "metadata": {},
     "output_type": "execute_result"
    }
   ],
   "source": [
    "dataset = dataset.melt(id_vars=['Genotype'], value_vars=['1_year', '2_year', '3_year'],\n",
    "            value_name='years')\n",
    "\n",
    "dataset"
   ]
  },
  {
   "cell_type": "code",
   "execution_count": 18,
   "id": "ccd3dac2",
   "metadata": {},
   "outputs": [],
   "source": [
    "model = ols('years ~ C(Genotype) + C(variable) + C(Genotype):C(variable)', data=dataset).fit()"
   ]
  },
  {
   "cell_type": "code",
   "execution_count": 19,
   "id": "041312ad",
   "metadata": {},
   "outputs": [
    {
     "data": {
      "text/html": [
       "<div>\n",
       "<style scoped>\n",
       "    .dataframe tbody tr th:only-of-type {\n",
       "        vertical-align: middle;\n",
       "    }\n",
       "\n",
       "    .dataframe tbody tr th {\n",
       "        vertical-align: top;\n",
       "    }\n",
       "\n",
       "    .dataframe thead th {\n",
       "        text-align: right;\n",
       "    }\n",
       "</style>\n",
       "<table border=\"1\" class=\"dataframe\">\n",
       "  <thead>\n",
       "    <tr style=\"text-align: right;\">\n",
       "      <th></th>\n",
       "      <th>sum_sq</th>\n",
       "      <th>df</th>\n",
       "      <th>F</th>\n",
       "      <th>PR(&gt;F)</th>\n",
       "    </tr>\n",
       "  </thead>\n",
       "  <tbody>\n",
       "    <tr>\n",
       "      <th>C(Genotype)</th>\n",
       "      <td>58.551733</td>\n",
       "      <td>5.0</td>\n",
       "      <td>32.748581</td>\n",
       "      <td>1.931655e-12</td>\n",
       "    </tr>\n",
       "    <tr>\n",
       "      <th>C(variable)</th>\n",
       "      <td>278.925633</td>\n",
       "      <td>2.0</td>\n",
       "      <td>390.014868</td>\n",
       "      <td>4.006243e-25</td>\n",
       "    </tr>\n",
       "    <tr>\n",
       "      <th>C(Genotype):C(variable)</th>\n",
       "      <td>17.122967</td>\n",
       "      <td>10.0</td>\n",
       "      <td>4.788525</td>\n",
       "      <td>2.230094e-04</td>\n",
       "    </tr>\n",
       "    <tr>\n",
       "      <th>Residual</th>\n",
       "      <td>12.873000</td>\n",
       "      <td>36.0</td>\n",
       "      <td>NaN</td>\n",
       "      <td>NaN</td>\n",
       "    </tr>\n",
       "  </tbody>\n",
       "</table>\n",
       "</div>"
      ],
      "text/plain": [
       "                             sum_sq    df           F        PR(>F)\n",
       "C(Genotype)               58.551733   5.0   32.748581  1.931655e-12\n",
       "C(variable)              278.925633   2.0  390.014868  4.006243e-25\n",
       "C(Genotype):C(variable)   17.122967  10.0    4.788525  2.230094e-04\n",
       "Residual                  12.873000  36.0         NaN           NaN"
      ]
     },
     "execution_count": 19,
     "metadata": {},
     "output_type": "execute_result"
    }
   ],
   "source": [
    "sm.stats.anova_lm(model,typ=2)"
   ]
  },
  {
   "cell_type": "code",
   "execution_count": 22,
   "id": "e00013d4",
   "metadata": {},
   "outputs": [
    {
     "data": {
      "text/html": [
       "<table class=\"simpletable\">\n",
       "<caption>Multiple Comparison of Means - Tukey HSD, FWER=0.05</caption>\n",
       "<tr>\n",
       "  <th>group1</th> <th>group2</th> <th>meandiff</th>  <th>p-adj</th>  <th>lower</th>   <th>upper</th> <th>reject</th>\n",
       "</tr>\n",
       "<tr>\n",
       "     <td>A</td>      <td>B</td>     <td>2.04</td>   <td>0.5304</td> <td>-1.5094</td> <td>5.5894</td>  <td>False</td>\n",
       "</tr>\n",
       "<tr>\n",
       "     <td>A</td>      <td>C</td>    <td>2.7333</td>   <td>0.22</td>  <td>-0.816</td>  <td>6.2827</td>  <td>False</td>\n",
       "</tr>\n",
       "<tr>\n",
       "     <td>A</td>      <td>D</td>     <td>2.56</td>   <td>0.2847</td> <td>-0.9894</td> <td>6.1094</td>  <td>False</td>\n",
       "</tr>\n",
       "<tr>\n",
       "     <td>A</td>      <td>E</td>     <td>0.72</td>     <td>0.9</td>  <td>-2.8294</td> <td>4.2694</td>  <td>False</td>\n",
       "</tr>\n",
       "<tr>\n",
       "     <td>A</td>      <td>F</td>    <td>2.5733</td>  <td>0.2793</td> <td>-0.976</td>  <td>6.1227</td>  <td>False</td>\n",
       "</tr>\n",
       "<tr>\n",
       "     <td>B</td>      <td>C</td>    <td>0.6933</td>    <td>0.9</td>  <td>-2.856</td>  <td>4.2427</td>  <td>False</td>\n",
       "</tr>\n",
       "<tr>\n",
       "     <td>B</td>      <td>D</td>     <td>0.52</td>     <td>0.9</td>  <td>-3.0294</td> <td>4.0694</td>  <td>False</td>\n",
       "</tr>\n",
       "<tr>\n",
       "     <td>B</td>      <td>E</td>     <td>-1.32</td>  <td>0.8679</td> <td>-4.8694</td> <td>2.2294</td>  <td>False</td>\n",
       "</tr>\n",
       "<tr>\n",
       "     <td>B</td>      <td>F</td>    <td>0.5333</td>    <td>0.9</td>  <td>-3.016</td>  <td>4.0827</td>  <td>False</td>\n",
       "</tr>\n",
       "<tr>\n",
       "     <td>C</td>      <td>D</td>    <td>-0.1733</td>   <td>0.9</td>  <td>-3.7227</td>  <td>3.376</td>  <td>False</td>\n",
       "</tr>\n",
       "<tr>\n",
       "     <td>C</td>      <td>E</td>    <td>-2.0133</td> <td>0.5429</td> <td>-5.5627</td>  <td>1.536</td>  <td>False</td>\n",
       "</tr>\n",
       "<tr>\n",
       "     <td>C</td>      <td>F</td>     <td>-0.16</td>    <td>0.9</td>  <td>-3.7094</td> <td>3.3894</td>  <td>False</td>\n",
       "</tr>\n",
       "<tr>\n",
       "     <td>D</td>      <td>E</td>     <td>-1.84</td>  <td>0.6241</td> <td>-5.3894</td> <td>1.7094</td>  <td>False</td>\n",
       "</tr>\n",
       "<tr>\n",
       "     <td>D</td>      <td>F</td>    <td>0.0133</td>    <td>0.9</td>  <td>-3.536</td>  <td>3.5627</td>  <td>False</td>\n",
       "</tr>\n",
       "<tr>\n",
       "     <td>E</td>      <td>F</td>    <td>1.8533</td>  <td>0.6179</td> <td>-1.696</td>  <td>5.4027</td>  <td>False</td>\n",
       "</tr>\n",
       "</table>"
      ],
      "text/plain": [
       "<class 'statsmodels.iolib.table.SimpleTable'>"
      ]
     },
     "execution_count": 22,
     "metadata": {},
     "output_type": "execute_result"
    }
   ],
   "source": [
    "tukey = pairwise_tukeyhsd(dataset.years, dataset.Genotype)\n",
    "tukey.summary()"
   ]
  },
  {
   "cell_type": "code",
   "execution_count": 23,
   "id": "f908742c",
   "metadata": {},
   "outputs": [
    {
     "data": {
      "text/html": [
       "<table class=\"simpletable\">\n",
       "<caption>Multiple Comparison of Means - Tukey HSD, FWER=0.05</caption>\n",
       "<tr>\n",
       "  <th>group1</th> <th>group2</th> <th>meandiff</th> <th>p-adj</th>  <th>lower</th>  <th>upper</th> <th>reject</th>\n",
       "</tr>\n",
       "<tr>\n",
       "  <td>1_year</td> <td>2_year</td>  <td>2.1467</td>  <td>0.001</td> <td>1.0864</td> <td>3.2069</td>  <td>True</td> \n",
       "</tr>\n",
       "<tr>\n",
       "  <td>1_year</td> <td>3_year</td>  <td>5.5217</td>  <td>0.001</td> <td>4.4614</td> <td>6.5819</td>  <td>True</td> \n",
       "</tr>\n",
       "<tr>\n",
       "  <td>2_year</td> <td>3_year</td>   <td>3.375</td>  <td>0.001</td> <td>2.3147</td> <td>4.4353</td>  <td>True</td> \n",
       "</tr>\n",
       "</table>"
      ],
      "text/plain": [
       "<class 'statsmodels.iolib.table.SimpleTable'>"
      ]
     },
     "execution_count": 23,
     "metadata": {},
     "output_type": "execute_result"
    }
   ],
   "source": [
    "tukey = pairwise_tukeyhsd(dataset.years, dataset.variable)\n",
    "tukey.summary()"
   ]
  },
  {
   "cell_type": "code",
   "execution_count": 26,
   "id": "58ac5213",
   "metadata": {},
   "outputs": [],
   "source": [
    "from bioinfokit.analys import stat"
   ]
  },
  {
   "cell_type": "code",
   "execution_count": 34,
   "id": "e8a2bf76",
   "metadata": {},
   "outputs": [
    {
     "data": {
      "text/html": [
       "<div>\n",
       "<style scoped>\n",
       "    .dataframe tbody tr th:only-of-type {\n",
       "        vertical-align: middle;\n",
       "    }\n",
       "\n",
       "    .dataframe tbody tr th {\n",
       "        vertical-align: top;\n",
       "    }\n",
       "\n",
       "    .dataframe thead th {\n",
       "        text-align: right;\n",
       "    }\n",
       "</style>\n",
       "<table border=\"1\" class=\"dataframe\">\n",
       "  <thead>\n",
       "    <tr style=\"text-align: right;\">\n",
       "      <th></th>\n",
       "      <th>group1</th>\n",
       "      <th>group2</th>\n",
       "      <th>Diff</th>\n",
       "      <th>Lower</th>\n",
       "      <th>Upper</th>\n",
       "      <th>q-value</th>\n",
       "      <th>p-value</th>\n",
       "    </tr>\n",
       "  </thead>\n",
       "  <tbody>\n",
       "    <tr>\n",
       "      <th>0</th>\n",
       "      <td>(A, 1_year)</td>\n",
       "      <td>(A, 2_year)</td>\n",
       "      <td>2.38</td>\n",
       "      <td>-0.054792</td>\n",
       "      <td>4.814792</td>\n",
       "      <td>5.104874</td>\n",
       "      <td>0.061992</td>\n",
       "    </tr>\n",
       "    <tr>\n",
       "      <th>1</th>\n",
       "      <td>(A, 1_year)</td>\n",
       "      <td>(A, 3_year)</td>\n",
       "      <td>4.75</td>\n",
       "      <td>2.315208</td>\n",
       "      <td>7.184792</td>\n",
       "      <td>10.188300</td>\n",
       "      <td>0.001000</td>\n",
       "    </tr>\n",
       "    <tr>\n",
       "      <th>2</th>\n",
       "      <td>(A, 1_year)</td>\n",
       "      <td>(B, 1_year)</td>\n",
       "      <td>1.94</td>\n",
       "      <td>-0.494792</td>\n",
       "      <td>4.374792</td>\n",
       "      <td>4.161116</td>\n",
       "      <td>0.270409</td>\n",
       "    </tr>\n",
       "    <tr>\n",
       "      <th>3</th>\n",
       "      <td>(A, 1_year)</td>\n",
       "      <td>(B, 2_year)</td>\n",
       "      <td>4.41</td>\n",
       "      <td>1.975208</td>\n",
       "      <td>6.844792</td>\n",
       "      <td>9.459032</td>\n",
       "      <td>0.001000</td>\n",
       "    </tr>\n",
       "    <tr>\n",
       "      <th>4</th>\n",
       "      <td>(A, 1_year)</td>\n",
       "      <td>(B, 3_year)</td>\n",
       "      <td>6.90</td>\n",
       "      <td>4.465208</td>\n",
       "      <td>9.334792</td>\n",
       "      <td>14.799846</td>\n",
       "      <td>0.001000</td>\n",
       "    </tr>\n",
       "    <tr>\n",
       "      <th>...</th>\n",
       "      <td>...</td>\n",
       "      <td>...</td>\n",
       "      <td>...</td>\n",
       "      <td>...</td>\n",
       "      <td>...</td>\n",
       "      <td>...</td>\n",
       "      <td>...</td>\n",
       "    </tr>\n",
       "    <tr>\n",
       "      <th>148</th>\n",
       "      <td>(E, 3_year)</td>\n",
       "      <td>(F, 2_year)</td>\n",
       "      <td>1.68</td>\n",
       "      <td>-0.754792</td>\n",
       "      <td>4.114792</td>\n",
       "      <td>3.603441</td>\n",
       "      <td>0.508206</td>\n",
       "    </tr>\n",
       "    <tr>\n",
       "      <th>149</th>\n",
       "      <td>(E, 3_year)</td>\n",
       "      <td>(F, 3_year)</td>\n",
       "      <td>3.05</td>\n",
       "      <td>0.615208</td>\n",
       "      <td>5.484792</td>\n",
       "      <td>6.541961</td>\n",
       "      <td>0.003466</td>\n",
       "    </tr>\n",
       "    <tr>\n",
       "      <th>150</th>\n",
       "      <td>(F, 1_year)</td>\n",
       "      <td>(F, 2_year)</td>\n",
       "      <td>0.74</td>\n",
       "      <td>-1.694792</td>\n",
       "      <td>3.174792</td>\n",
       "      <td>1.587230</td>\n",
       "      <td>0.900000</td>\n",
       "    </tr>\n",
       "    <tr>\n",
       "      <th>151</th>\n",
       "      <td>(F, 1_year)</td>\n",
       "      <td>(F, 3_year)</td>\n",
       "      <td>5.47</td>\n",
       "      <td>3.035208</td>\n",
       "      <td>7.904792</td>\n",
       "      <td>11.732632</td>\n",
       "      <td>0.001000</td>\n",
       "    </tr>\n",
       "    <tr>\n",
       "      <th>152</th>\n",
       "      <td>(F, 2_year)</td>\n",
       "      <td>(F, 3_year)</td>\n",
       "      <td>4.73</td>\n",
       "      <td>2.295208</td>\n",
       "      <td>7.164792</td>\n",
       "      <td>10.145402</td>\n",
       "      <td>0.001000</td>\n",
       "    </tr>\n",
       "  </tbody>\n",
       "</table>\n",
       "<p>153 rows × 7 columns</p>\n",
       "</div>"
      ],
      "text/plain": [
       "          group1       group2  Diff     Lower     Upper    q-value   p-value\n",
       "0    (A, 1_year)  (A, 2_year)  2.38 -0.054792  4.814792   5.104874  0.061992\n",
       "1    (A, 1_year)  (A, 3_year)  4.75  2.315208  7.184792  10.188300  0.001000\n",
       "2    (A, 1_year)  (B, 1_year)  1.94 -0.494792  4.374792   4.161116  0.270409\n",
       "3    (A, 1_year)  (B, 2_year)  4.41  1.975208  6.844792   9.459032  0.001000\n",
       "4    (A, 1_year)  (B, 3_year)  6.90  4.465208  9.334792  14.799846  0.001000\n",
       "..           ...          ...   ...       ...       ...        ...       ...\n",
       "148  (E, 3_year)  (F, 2_year)  1.68 -0.754792  4.114792   3.603441  0.508206\n",
       "149  (E, 3_year)  (F, 3_year)  3.05  0.615208  5.484792   6.541961  0.003466\n",
       "150  (F, 1_year)  (F, 2_year)  0.74 -1.694792  3.174792   1.587230  0.900000\n",
       "151  (F, 1_year)  (F, 3_year)  5.47  3.035208  7.904792  11.732632  0.001000\n",
       "152  (F, 2_year)  (F, 3_year)  4.73  2.295208  7.164792  10.145402  0.001000\n",
       "\n",
       "[153 rows x 7 columns]"
      ]
     },
     "execution_count": 34,
     "metadata": {},
     "output_type": "execute_result"
    }
   ],
   "source": [
    "res = stat()\n",
    "res.tukey_hsd(df=dataset, res_var='years',xfac_var=['Genotype','variable'], anova_model='years~C(Genotype)+C(variable)')\n",
    "\n",
    "res.tukey_summary"
   ]
  },
  {
   "cell_type": "code",
   "execution_count": null,
   "id": "10db019a",
   "metadata": {},
   "outputs": [],
   "source": []
  },
  {
   "cell_type": "markdown",
   "id": "8d52e150",
   "metadata": {},
   "source": [
    "#### Randomized Anova Test"
   ]
  },
  {
   "cell_type": "code",
   "execution_count": 2,
   "id": "4eb879ce",
   "metadata": {},
   "outputs": [
    {
     "data": {
      "text/html": [
       "<div>\n",
       "<style scoped>\n",
       "    .dataframe tbody tr th:only-of-type {\n",
       "        vertical-align: middle;\n",
       "    }\n",
       "\n",
       "    .dataframe tbody tr th {\n",
       "        vertical-align: top;\n",
       "    }\n",
       "\n",
       "    .dataframe thead th {\n",
       "        text-align: right;\n",
       "    }\n",
       "</style>\n",
       "<table border=\"1\" class=\"dataframe\">\n",
       "  <thead>\n",
       "    <tr style=\"text-align: right;\">\n",
       "      <th></th>\n",
       "      <th>day</th>\n",
       "      <th>dan</th>\n",
       "      <th>amy</th>\n",
       "      <th>beth</th>\n",
       "    </tr>\n",
       "  </thead>\n",
       "  <tbody>\n",
       "    <tr>\n",
       "      <th>0</th>\n",
       "      <td>mon</td>\n",
       "      <td>5</td>\n",
       "      <td>8</td>\n",
       "      <td>8</td>\n",
       "    </tr>\n",
       "    <tr>\n",
       "      <th>1</th>\n",
       "      <td>tue</td>\n",
       "      <td>4</td>\n",
       "      <td>7</td>\n",
       "      <td>4</td>\n",
       "    </tr>\n",
       "    <tr>\n",
       "      <th>2</th>\n",
       "      <td>wed</td>\n",
       "      <td>6</td>\n",
       "      <td>8</td>\n",
       "      <td>7</td>\n",
       "    </tr>\n",
       "    <tr>\n",
       "      <th>3</th>\n",
       "      <td>thu</td>\n",
       "      <td>6</td>\n",
       "      <td>7</td>\n",
       "      <td>5</td>\n",
       "    </tr>\n",
       "    <tr>\n",
       "      <th>4</th>\n",
       "      <td>fri</td>\n",
       "      <td>4</td>\n",
       "      <td>5</td>\n",
       "      <td>3</td>\n",
       "    </tr>\n",
       "  </tbody>\n",
       "</table>\n",
       "</div>"
      ],
      "text/plain": [
       "   day  dan  amy  beth\n",
       "0  mon    5    8     8\n",
       "1  tue    4    7     4\n",
       "2  wed    6    8     7\n",
       "3  thu    6    7     5\n",
       "4  fri    4    5     3"
      ]
     },
     "execution_count": 2,
     "metadata": {},
     "output_type": "execute_result"
    }
   ],
   "source": [
    "calls = pd.DataFrame({'day':['mon','tue','wed','thu','fri'],\n",
    "                     'dan':[5,4,6,6,4],\n",
    "                     'amy':[8,7,8,7,5],\n",
    "                     'beth':[8,4,7,5,3]})\n",
    "calls"
   ]
  },
  {
   "cell_type": "code",
   "execution_count": 11,
   "id": "a2494de0",
   "metadata": {},
   "outputs": [],
   "source": [
    "## Here the order of day is import"
   ]
  },
  {
   "cell_type": "code",
   "execution_count": 5,
   "id": "ca7a0153",
   "metadata": {
    "scrolled": true
   },
   "outputs": [
    {
     "data": {
      "text/html": [
       "<div>\n",
       "<style scoped>\n",
       "    .dataframe tbody tr th:only-of-type {\n",
       "        vertical-align: middle;\n",
       "    }\n",
       "\n",
       "    .dataframe tbody tr th {\n",
       "        vertical-align: top;\n",
       "    }\n",
       "\n",
       "    .dataframe thead th {\n",
       "        text-align: right;\n",
       "    }\n",
       "</style>\n",
       "<table border=\"1\" class=\"dataframe\">\n",
       "  <thead>\n",
       "    <tr style=\"text-align: right;\">\n",
       "      <th></th>\n",
       "      <th>day</th>\n",
       "      <th>name</th>\n",
       "      <th>value</th>\n",
       "    </tr>\n",
       "  </thead>\n",
       "  <tbody>\n",
       "    <tr>\n",
       "      <th>0</th>\n",
       "      <td>mon</td>\n",
       "      <td>dan</td>\n",
       "      <td>5</td>\n",
       "    </tr>\n",
       "    <tr>\n",
       "      <th>1</th>\n",
       "      <td>tue</td>\n",
       "      <td>dan</td>\n",
       "      <td>4</td>\n",
       "    </tr>\n",
       "    <tr>\n",
       "      <th>2</th>\n",
       "      <td>wed</td>\n",
       "      <td>dan</td>\n",
       "      <td>6</td>\n",
       "    </tr>\n",
       "    <tr>\n",
       "      <th>3</th>\n",
       "      <td>thu</td>\n",
       "      <td>dan</td>\n",
       "      <td>6</td>\n",
       "    </tr>\n",
       "    <tr>\n",
       "      <th>4</th>\n",
       "      <td>fri</td>\n",
       "      <td>dan</td>\n",
       "      <td>4</td>\n",
       "    </tr>\n",
       "    <tr>\n",
       "      <th>5</th>\n",
       "      <td>mon</td>\n",
       "      <td>amy</td>\n",
       "      <td>8</td>\n",
       "    </tr>\n",
       "    <tr>\n",
       "      <th>6</th>\n",
       "      <td>tue</td>\n",
       "      <td>amy</td>\n",
       "      <td>7</td>\n",
       "    </tr>\n",
       "    <tr>\n",
       "      <th>7</th>\n",
       "      <td>wed</td>\n",
       "      <td>amy</td>\n",
       "      <td>8</td>\n",
       "    </tr>\n",
       "    <tr>\n",
       "      <th>8</th>\n",
       "      <td>thu</td>\n",
       "      <td>amy</td>\n",
       "      <td>7</td>\n",
       "    </tr>\n",
       "    <tr>\n",
       "      <th>9</th>\n",
       "      <td>fri</td>\n",
       "      <td>amy</td>\n",
       "      <td>5</td>\n",
       "    </tr>\n",
       "    <tr>\n",
       "      <th>10</th>\n",
       "      <td>mon</td>\n",
       "      <td>beth</td>\n",
       "      <td>8</td>\n",
       "    </tr>\n",
       "    <tr>\n",
       "      <th>11</th>\n",
       "      <td>tue</td>\n",
       "      <td>beth</td>\n",
       "      <td>4</td>\n",
       "    </tr>\n",
       "    <tr>\n",
       "      <th>12</th>\n",
       "      <td>wed</td>\n",
       "      <td>beth</td>\n",
       "      <td>7</td>\n",
       "    </tr>\n",
       "    <tr>\n",
       "      <th>13</th>\n",
       "      <td>thu</td>\n",
       "      <td>beth</td>\n",
       "      <td>5</td>\n",
       "    </tr>\n",
       "    <tr>\n",
       "      <th>14</th>\n",
       "      <td>fri</td>\n",
       "      <td>beth</td>\n",
       "      <td>3</td>\n",
       "    </tr>\n",
       "  </tbody>\n",
       "</table>\n",
       "</div>"
      ],
      "text/plain": [
       "    day  name  value\n",
       "0   mon   dan      5\n",
       "1   tue   dan      4\n",
       "2   wed   dan      6\n",
       "3   thu   dan      6\n",
       "4   fri   dan      4\n",
       "5   mon   amy      8\n",
       "6   tue   amy      7\n",
       "7   wed   amy      8\n",
       "8   thu   amy      7\n",
       "9   fri   amy      5\n",
       "10  mon  beth      8\n",
       "11  tue  beth      4\n",
       "12  wed  beth      7\n",
       "13  thu  beth      5\n",
       "14  fri  beth      3"
      ]
     },
     "execution_count": 5,
     "metadata": {},
     "output_type": "execute_result"
    }
   ],
   "source": [
    "calls = calls.melt(id_vars=['day'], value_vars=['dan','amy','beth'], var_name='name')\n",
    "calls"
   ]
  },
  {
   "cell_type": "code",
   "execution_count": 9,
   "id": "9547de48",
   "metadata": {},
   "outputs": [],
   "source": [
    "model = ols('value ~ C(day) + C(name)', data=calls).fit()"
   ]
  },
  {
   "cell_type": "code",
   "execution_count": 10,
   "id": "499f6e04",
   "metadata": {},
   "outputs": [
    {
     "data": {
      "text/html": [
       "<div>\n",
       "<style scoped>\n",
       "    .dataframe tbody tr th:only-of-type {\n",
       "        vertical-align: middle;\n",
       "    }\n",
       "\n",
       "    .dataframe tbody tr th {\n",
       "        vertical-align: top;\n",
       "    }\n",
       "\n",
       "    .dataframe thead th {\n",
       "        text-align: right;\n",
       "    }\n",
       "</style>\n",
       "<table border=\"1\" class=\"dataframe\">\n",
       "  <thead>\n",
       "    <tr style=\"text-align: right;\">\n",
       "      <th></th>\n",
       "      <th>df</th>\n",
       "      <th>sum_sq</th>\n",
       "      <th>mean_sq</th>\n",
       "      <th>F</th>\n",
       "      <th>PR(&gt;F)</th>\n",
       "    </tr>\n",
       "  </thead>\n",
       "  <tbody>\n",
       "    <tr>\n",
       "      <th>C(day)</th>\n",
       "      <td>4.0</td>\n",
       "      <td>20.4</td>\n",
       "      <td>5.10</td>\n",
       "      <td>6.000000</td>\n",
       "      <td>0.015625</td>\n",
       "    </tr>\n",
       "    <tr>\n",
       "      <th>C(name)</th>\n",
       "      <td>2.0</td>\n",
       "      <td>11.2</td>\n",
       "      <td>5.60</td>\n",
       "      <td>6.588235</td>\n",
       "      <td>0.020368</td>\n",
       "    </tr>\n",
       "    <tr>\n",
       "      <th>Residual</th>\n",
       "      <td>8.0</td>\n",
       "      <td>6.8</td>\n",
       "      <td>0.85</td>\n",
       "      <td>NaN</td>\n",
       "      <td>NaN</td>\n",
       "    </tr>\n",
       "  </tbody>\n",
       "</table>\n",
       "</div>"
      ],
      "text/plain": [
       "           df  sum_sq  mean_sq         F    PR(>F)\n",
       "C(day)    4.0    20.4     5.10  6.000000  0.015625\n",
       "C(name)   2.0    11.2     5.60  6.588235  0.020368\n",
       "Residual  8.0     6.8     0.85       NaN       NaN"
      ]
     },
     "execution_count": 10,
     "metadata": {},
     "output_type": "execute_result"
    }
   ],
   "source": [
    "anova_table = sm.stats.anova_lm(model, typ=1)\n",
    "anova_table"
   ]
  },
  {
   "cell_type": "code",
   "execution_count": null,
   "id": "2db3dc20",
   "metadata": {},
   "outputs": [],
   "source": []
  },
  {
   "cell_type": "markdown",
   "id": "c562d043",
   "metadata": {},
   "source": [
    "## Comparisons Involving Proportions - ChiSqure Test"
   ]
  },
  {
   "cell_type": "markdown",
   "id": "1eb7429f",
   "metadata": {},
   "source": [
    "### 1. Comparing two or more proportions"
   ]
  },
  {
   "cell_type": "code",
   "execution_count": 2,
   "id": "466afa19",
   "metadata": {},
   "outputs": [
    {
     "data": {
      "text/html": [
       "<div>\n",
       "<style scoped>\n",
       "    .dataframe tbody tr th:only-of-type {\n",
       "        vertical-align: middle;\n",
       "    }\n",
       "\n",
       "    .dataframe tbody tr th {\n",
       "        vertical-align: top;\n",
       "    }\n",
       "\n",
       "    .dataframe thead th {\n",
       "        text-align: right;\n",
       "    }\n",
       "</style>\n",
       "<table border=\"1\" class=\"dataframe\">\n",
       "  <thead>\n",
       "    <tr style=\"text-align: right;\">\n",
       "      <th></th>\n",
       "      <th>day</th>\n",
       "      <th>up</th>\n",
       "      <th>down</th>\n",
       "    </tr>\n",
       "  </thead>\n",
       "  <tbody>\n",
       "    <tr>\n",
       "      <th>0</th>\n",
       "      <td>mon</td>\n",
       "      <td>20</td>\n",
       "      <td>5</td>\n",
       "    </tr>\n",
       "    <tr>\n",
       "      <th>1</th>\n",
       "      <td>tue</td>\n",
       "      <td>15</td>\n",
       "      <td>11</td>\n",
       "    </tr>\n",
       "    <tr>\n",
       "      <th>2</th>\n",
       "      <td>wed</td>\n",
       "      <td>17</td>\n",
       "      <td>9</td>\n",
       "    </tr>\n",
       "    <tr>\n",
       "      <th>3</th>\n",
       "      <td>thu</td>\n",
       "      <td>14</td>\n",
       "      <td>11</td>\n",
       "    </tr>\n",
       "    <tr>\n",
       "      <th>4</th>\n",
       "      <td>fri</td>\n",
       "      <td>12</td>\n",
       "      <td>11</td>\n",
       "    </tr>\n",
       "  </tbody>\n",
       "</table>\n",
       "</div>"
      ],
      "text/plain": [
       "   day  up  down\n",
       "0  mon  20     5\n",
       "1  tue  15    11\n",
       "2  wed  17     9\n",
       "3  thu  14    11\n",
       "4  fri  12    11"
      ]
     },
     "execution_count": 2,
     "metadata": {},
     "output_type": "execute_result"
    }
   ],
   "source": [
    "data = pd.DataFrame({'day':['mon','tue','wed','thu','fri'],\n",
    "                     'up':[20,15,17,14,12],\n",
    "                     'down':[5,11,9,11,11]})\n",
    "data"
   ]
  },
  {
   "cell_type": "markdown",
   "id": "eb7fade8",
   "metadata": {},
   "source": [
    "We are interested in determining if the proportion of “up” days truly differs across days of the week\n",
    "\n",
    "$$H_0: p_1 = p_2 = p_3 = p_4 = p_5$$\n",
    "$$H_1: Not all ps are equal $$"
   ]
  },
  {
   "cell_type": "code",
   "execution_count": 6,
   "id": "30cfb9b0",
   "metadata": {},
   "outputs": [],
   "source": [
    "stat, pval,(table, expected) =  sm.stats.proportions_chisquare(data.up, data.sum(axis=1))"
   ]
  },
  {
   "cell_type": "code",
   "execution_count": 7,
   "id": "a1204bc4",
   "metadata": {},
   "outputs": [
    {
     "data": {
      "text/plain": [
       "(5.106469646959223, 0.27654646724115983)"
      ]
     },
     "execution_count": 7,
     "metadata": {},
     "output_type": "execute_result"
    }
   ],
   "source": [
    "stat, pval ## cannot reject the null hypothesis"
   ]
  },
  {
   "cell_type": "code",
   "execution_count": 8,
   "id": "d2386285",
   "metadata": {},
   "outputs": [
    {
     "data": {
      "text/plain": [
       "array([[20,  5],\n",
       "       [15, 11],\n",
       "       [17,  9],\n",
       "       [14, 11],\n",
       "       [12, 11]], dtype=int64)"
      ]
     },
     "execution_count": 8,
     "metadata": {},
     "output_type": "execute_result"
    }
   ],
   "source": [
    "table"
   ]
  },
  {
   "cell_type": "code",
   "execution_count": 9,
   "id": "63efc014",
   "metadata": {},
   "outputs": [
    {
     "data": {
      "text/plain": [
       "array([[15.6  ,  9.4  ],\n",
       "       [16.224,  9.776],\n",
       "       [16.224,  9.776],\n",
       "       [15.6  ,  9.4  ],\n",
       "       [14.352,  8.648]])"
      ]
     },
     "execution_count": 9,
     "metadata": {},
     "output_type": "execute_result"
    }
   ],
   "source": [
    "expected"
   ]
  },
  {
   "cell_type": "code",
   "execution_count": null,
   "id": "39895e2c",
   "metadata": {},
   "outputs": [],
   "source": []
  },
  {
   "cell_type": "code",
   "execution_count": 10,
   "id": "5b8333bd",
   "metadata": {},
   "outputs": [
    {
     "data": {
      "text/html": [
       "<div>\n",
       "<style scoped>\n",
       "    .dataframe tbody tr th:only-of-type {\n",
       "        vertical-align: middle;\n",
       "    }\n",
       "\n",
       "    .dataframe tbody tr th {\n",
       "        vertical-align: top;\n",
       "    }\n",
       "\n",
       "    .dataframe thead th {\n",
       "        text-align: right;\n",
       "    }\n",
       "</style>\n",
       "<table border=\"1\" class=\"dataframe\">\n",
       "  <thead>\n",
       "    <tr style=\"text-align: right;\">\n",
       "      <th></th>\n",
       "      <th>day</th>\n",
       "      <th>market_share2010</th>\n",
       "      <th>no_recent_customers</th>\n",
       "    </tr>\n",
       "  </thead>\n",
       "  <tbody>\n",
       "    <tr>\n",
       "      <th>0</th>\n",
       "      <td>1</td>\n",
       "      <td>0.40</td>\n",
       "      <td>70</td>\n",
       "    </tr>\n",
       "    <tr>\n",
       "      <th>1</th>\n",
       "      <td>2</td>\n",
       "      <td>0.32</td>\n",
       "      <td>60</td>\n",
       "    </tr>\n",
       "    <tr>\n",
       "      <th>2</th>\n",
       "      <td>3</td>\n",
       "      <td>0.24</td>\n",
       "      <td>54</td>\n",
       "    </tr>\n",
       "    <tr>\n",
       "      <th>3</th>\n",
       "      <td>4</td>\n",
       "      <td>0.02</td>\n",
       "      <td>10</td>\n",
       "    </tr>\n",
       "    <tr>\n",
       "      <th>4</th>\n",
       "      <td>5</td>\n",
       "      <td>0.02</td>\n",
       "      <td>6</td>\n",
       "    </tr>\n",
       "  </tbody>\n",
       "</table>\n",
       "</div>"
      ],
      "text/plain": [
       "   day  market_share2010  no_recent_customers\n",
       "0    1              0.40                   70\n",
       "1    2              0.32                   60\n",
       "2    3              0.24                   54\n",
       "3    4              0.02                   10\n",
       "4    5              0.02                    6"
      ]
     },
     "execution_count": 10,
     "metadata": {},
     "output_type": "execute_result"
    }
   ],
   "source": [
    "data = pd.DataFrame({'day':[1,2,3,4,5],\n",
    "                     'market_share2010':[0.40,0.32,0.24,0.02,0.02],\n",
    "                     'no_recent_customers':[70,60,54,10,6]})\n",
    "data"
   ]
  },
  {
   "cell_type": "code",
   "execution_count": 15,
   "id": "62331df3",
   "metadata": {},
   "outputs": [
    {
     "data": {
      "text/plain": [
       "0    80.0\n",
       "1    64.0\n",
       "2    48.0\n",
       "3     4.0\n",
       "4     4.0\n",
       "Name: market_share2010, dtype: float64"
      ]
     },
     "execution_count": 15,
     "metadata": {},
     "output_type": "execute_result"
    }
   ],
   "source": [
    "expected = data.market_share2010*200\n",
    "expected"
   ]
  },
  {
   "cell_type": "code",
   "execution_count": 20,
   "id": "6527c2f3",
   "metadata": {},
   "outputs": [
    {
     "data": {
      "text/plain": [
       "Power_divergenceResult(statistic=12.25, pvalue=0.015585874217053057)"
      ]
     },
     "execution_count": 20,
     "metadata": {},
     "output_type": "execute_result"
    }
   ],
   "source": [
    "stats.chisquare(data.no_recent_customers, data.market_share2010*200)"
   ]
  },
  {
   "cell_type": "code",
   "execution_count": 21,
   "id": "d68a9f8e",
   "metadata": {},
   "outputs": [
    {
     "data": {
      "text/html": [
       "<div>\n",
       "<style scoped>\n",
       "    .dataframe tbody tr th:only-of-type {\n",
       "        vertical-align: middle;\n",
       "    }\n",
       "\n",
       "    .dataframe tbody tr th {\n",
       "        vertical-align: top;\n",
       "    }\n",
       "\n",
       "    .dataframe thead th {\n",
       "        text-align: right;\n",
       "    }\n",
       "</style>\n",
       "<table border=\"1\" class=\"dataframe\">\n",
       "  <thead>\n",
       "    <tr style=\"text-align: right;\">\n",
       "      <th></th>\n",
       "      <th>gender</th>\n",
       "      <th>mobile</th>\n",
       "      <th>desktop</th>\n",
       "    </tr>\n",
       "  </thead>\n",
       "  <tbody>\n",
       "    <tr>\n",
       "      <th>0</th>\n",
       "      <td>male</td>\n",
       "      <td>23</td>\n",
       "      <td>31</td>\n",
       "    </tr>\n",
       "    <tr>\n",
       "      <th>1</th>\n",
       "      <td>female</td>\n",
       "      <td>14</td>\n",
       "      <td>11</td>\n",
       "    </tr>\n",
       "  </tbody>\n",
       "</table>\n",
       "</div>"
      ],
      "text/plain": [
       "   gender  mobile  desktop\n",
       "0    male      23       31\n",
       "1  female      14       11"
      ]
     },
     "execution_count": 21,
     "metadata": {},
     "output_type": "execute_result"
    }
   ],
   "source": [
    "data = pd.DataFrame({'gender':['male', 'female'],\n",
    "                     'mobile':[23,14],\n",
    "                     'desktop':[31,11]})\n",
    "data"
   ]
  },
  {
   "cell_type": "code",
   "execution_count": 22,
   "id": "19f21c0a",
   "metadata": {},
   "outputs": [
    {
     "data": {
      "text/plain": [
       "(1.2336712903379567,\n",
       " 0.2666942457990322,\n",
       " (array([[23, 31],\n",
       "         [14, 11]], dtype=int64),\n",
       "  array([[25.29113924, 28.70886076],\n",
       "         [11.70886076, 13.29113924]])))"
      ]
     },
     "execution_count": 22,
     "metadata": {},
     "output_type": "execute_result"
    }
   ],
   "source": [
    "sm.stats.proportions_chisquare(data.mobile, data.sum(axis=1)) # stat, pval, table, expected"
   ]
  },
  {
   "cell_type": "markdown",
   "id": "534fc4ce",
   "metadata": {},
   "source": [
    "### 2. Testing the independence of two variables"
   ]
  },
  {
   "cell_type": "markdown",
   "id": "8bb7c824",
   "metadata": {},
   "source": [
    "Suppose Best Buy would like to know if the age of a customer affects the brand of digital camera he or she purchases. This information would be used to help design a new promotional campaign."
   ]
  },
  {
   "cell_type": "code",
   "execution_count": 23,
   "id": "f2d6254d",
   "metadata": {},
   "outputs": [
    {
     "data": {
      "text/html": [
       "<div>\n",
       "<style scoped>\n",
       "    .dataframe tbody tr th:only-of-type {\n",
       "        vertical-align: middle;\n",
       "    }\n",
       "\n",
       "    .dataframe tbody tr th {\n",
       "        vertical-align: top;\n",
       "    }\n",
       "\n",
       "    .dataframe thead th {\n",
       "        text-align: right;\n",
       "    }\n",
       "</style>\n",
       "<table border=\"1\" class=\"dataframe\">\n",
       "  <thead>\n",
       "    <tr style=\"text-align: right;\">\n",
       "      <th></th>\n",
       "      <th>age_group</th>\n",
       "      <th>canon</th>\n",
       "      <th>nikon</th>\n",
       "      <th>sony</th>\n",
       "    </tr>\n",
       "  </thead>\n",
       "  <tbody>\n",
       "    <tr>\n",
       "      <th>0</th>\n",
       "      <td>18-34</td>\n",
       "      <td>30</td>\n",
       "      <td>16</td>\n",
       "      <td>8</td>\n",
       "    </tr>\n",
       "    <tr>\n",
       "      <th>1</th>\n",
       "      <td>35-51</td>\n",
       "      <td>22</td>\n",
       "      <td>25</td>\n",
       "      <td>19</td>\n",
       "    </tr>\n",
       "    <tr>\n",
       "      <th>2</th>\n",
       "      <td>52+</td>\n",
       "      <td>8</td>\n",
       "      <td>9</td>\n",
       "      <td>13</td>\n",
       "    </tr>\n",
       "  </tbody>\n",
       "</table>\n",
       "</div>"
      ],
      "text/plain": [
       "  age_group  canon  nikon  sony\n",
       "0     18-34     30     16     8\n",
       "1     35-51     22     25    19\n",
       "2       52+      8      9    13"
      ]
     },
     "execution_count": 23,
     "metadata": {},
     "output_type": "execute_result"
    }
   ],
   "source": [
    "data = pd.DataFrame({'age_group':['18-34', '35-51', '52+'],\n",
    "                    'canon':[30,22,8],\n",
    "                    'nikon':[16,25,9],\n",
    "                    'sony':[8,19,13]})\n",
    "data"
   ]
  },
  {
   "cell_type": "code",
   "execution_count": 25,
   "id": "c96efed3",
   "metadata": {},
   "outputs": [
    {
     "data": {
      "text/html": [
       "<div>\n",
       "<style scoped>\n",
       "    .dataframe tbody tr th:only-of-type {\n",
       "        vertical-align: middle;\n",
       "    }\n",
       "\n",
       "    .dataframe tbody tr th {\n",
       "        vertical-align: top;\n",
       "    }\n",
       "\n",
       "    .dataframe thead th {\n",
       "        text-align: right;\n",
       "    }\n",
       "</style>\n",
       "<table border=\"1\" class=\"dataframe\">\n",
       "  <thead>\n",
       "    <tr style=\"text-align: right;\">\n",
       "      <th></th>\n",
       "      <th>canon</th>\n",
       "      <th>nikon</th>\n",
       "      <th>sony</th>\n",
       "    </tr>\n",
       "    <tr>\n",
       "      <th>age_group</th>\n",
       "      <th></th>\n",
       "      <th></th>\n",
       "      <th></th>\n",
       "    </tr>\n",
       "  </thead>\n",
       "  <tbody>\n",
       "    <tr>\n",
       "      <th>18-34</th>\n",
       "      <td>30</td>\n",
       "      <td>16</td>\n",
       "      <td>8</td>\n",
       "    </tr>\n",
       "    <tr>\n",
       "      <th>35-51</th>\n",
       "      <td>22</td>\n",
       "      <td>25</td>\n",
       "      <td>19</td>\n",
       "    </tr>\n",
       "    <tr>\n",
       "      <th>52+</th>\n",
       "      <td>8</td>\n",
       "      <td>9</td>\n",
       "      <td>13</td>\n",
       "    </tr>\n",
       "  </tbody>\n",
       "</table>\n",
       "</div>"
      ],
      "text/plain": [
       "           canon  nikon  sony\n",
       "age_group                    \n",
       "18-34         30     16     8\n",
       "35-51         22     25    19\n",
       "52+            8      9    13"
      ]
     },
     "execution_count": 25,
     "metadata": {},
     "output_type": "execute_result"
    }
   ],
   "source": [
    "data = data.set_index('age_group')\n",
    "data"
   ]
  },
  {
   "cell_type": "code",
   "execution_count": 26,
   "id": "c3a9b0cf",
   "metadata": {},
   "outputs": [
    {
     "data": {
      "text/plain": [
       "(12.145454545454545,\n",
       " 0.01630177772323308,\n",
       " 4,\n",
       " array([[21.6, 18. , 14.4],\n",
       "        [26.4, 22. , 17.6],\n",
       "        [12. , 10. ,  8. ]]))"
      ]
     },
     "execution_count": 26,
     "metadata": {},
     "output_type": "execute_result"
    }
   ],
   "source": [
    "stats.chi2_contingency(data) ## chi2, pval, dof, expected"
   ]
  },
  {
   "cell_type": "markdown",
   "id": "ec8a853d",
   "metadata": {},
   "source": [
    "By rejecting the null hypothesis, we have found support that there is a relationship between the age groups of customers and the camera brands they purchase.\n",
    "At 95% confidence interval we have enough evidence to conclude that the age is dependent on the choice of camera"
   ]
  },
  {
   "cell_type": "markdown",
   "id": "8b574b08",
   "metadata": {},
   "source": [
    "# Nonparametric Statistics"
   ]
  },
  {
   "cell_type": "markdown",
   "id": "e32798f9",
   "metadata": {},
   "source": [
    "## ----Wilcoxon Rank-Sum Test"
   ]
  },
  {
   "cell_type": "markdown",
   "id": "191c16f0",
   "metadata": {},
   "source": [
    "The Wilcoxon rank-sum test is a nonparametric procedure that determines whether two populations have the same probability distribution based on evidence from two independent samples."
   ]
  },
  {
   "cell_type": "code",
   "execution_count": 2,
   "id": "c0800e2d",
   "metadata": {},
   "outputs": [],
   "source": [
    "a = np.array([24,31,26,33,28,22,27,23])\n",
    "b = np.array([32,32,29,25,43,35,45])"
   ]
  },
  {
   "cell_type": "code",
   "execution_count": 4,
   "id": "c9404b8d",
   "metadata": {},
   "outputs": [
    {
     "data": {
      "text/plain": [
       "RanksumsResult(statistic=-2.1988227369598095, pvalue=0.027890529120246504)"
      ]
     },
     "execution_count": 4,
     "metadata": {},
     "output_type": "execute_result"
    }
   ],
   "source": [
    "stats.ranksums(a,b) ## Wilcoxon rank-sum test"
   ]
  },
  {
   "cell_type": "markdown",
   "id": "38560688",
   "metadata": {},
   "source": [
    "Because we reject the null hypothesis, SallieMae can conclude that the there is a difference in the distributions for the two populations—that is, that the median age of full-time MBA students is different from the median age of part-time MBA students. It appears that full-time students tend to be younger than part-time students."
   ]
  },
  {
   "cell_type": "code",
   "execution_count": 3,
   "id": "c0338cbd",
   "metadata": {},
   "outputs": [],
   "source": [
    "a = np.array([743,792,798,1260,748,614,709,678,557,952,917])\n",
    "b = np.array([947,1318,567,465,1137,1442,1229,1122,1421,1152,617,1287])"
   ]
  },
  {
   "cell_type": "markdown",
   "id": "88269f7b",
   "metadata": {},
   "source": [
    "\n",
    "$H_0: a_{median} \\geq b_{median}$ <br>\n",
    "$H_a: a_{median} < b_{median}$"
   ]
  },
  {
   "cell_type": "code",
   "execution_count": 8,
   "id": "cc1fd139",
   "metadata": {},
   "outputs": [
    {
     "data": {
      "text/plain": [
       "(-1.8463723646899908, 0.06483815699206645)"
      ]
     },
     "execution_count": 8,
     "metadata": {},
     "output_type": "execute_result"
    }
   ],
   "source": [
    "stat, pval = stats.ranksums(a,b)\n",
    "\n",
    "stat, pval"
   ]
  },
  {
   "cell_type": "code",
   "execution_count": 7,
   "id": "d9230b75",
   "metadata": {},
   "outputs": [
    {
     "data": {
      "text/plain": [
       "0.032419078496033225"
      ]
     },
     "execution_count": 7,
     "metadata": {},
     "output_type": "execute_result"
    }
   ],
   "source": [
    "pval/2 # because the pval is two sided"
   ]
  },
  {
   "cell_type": "markdown",
   "id": "8febcb1b",
   "metadata": {},
   "source": [
    "Reject Null Hypothesis"
   ]
  },
  {
   "cell_type": "markdown",
   "id": "c35580ad",
   "metadata": {},
   "source": [
    "## Wilcoxon signed-rank test\n",
    "The **Wilcoxon signed-rank test** is a nonparametric procedure that can be used to compare two dependent samples. The populations from which they were drawn need not be normally distributed."
   ]
  },
  {
   "cell_type": "code",
   "execution_count": 9,
   "id": "c55b7ff8",
   "metadata": {},
   "outputs": [],
   "source": [
    "end_aisle = np.array([64,54,126,97,37,74,117,90,81])\n",
    "middle_aisle = np.array([72,41,100,62,40,60,122,62,78])"
   ]
  },
  {
   "cell_type": "markdown",
   "id": "7d85a18b",
   "metadata": {},
   "source": [
    "H0: End_aisle sales are equal to or less than middle-aisle sales<br>\n",
    "H1: End_aisle sales exceed middle-aisle sales"
   ]
  },
  {
   "cell_type": "code",
   "execution_count": 12,
   "id": "a1033b4e",
   "metadata": {},
   "outputs": [
    {
     "data": {
      "text/plain": [
       "WilcoxonResult(statistic=36.5, pvalue=0.064453125)"
      ]
     },
     "execution_count": 12,
     "metadata": {},
     "output_type": "execute_result"
    }
   ],
   "source": [
    "stats.wilcoxon(end_aisle,middle_aisle,alternative='greater')"
   ]
  },
  {
   "cell_type": "markdown",
   "id": "c6aa067b",
   "metadata": {},
   "source": [
    "## Kruskal–Wallis test\n",
    "The **Kruskal–Wallis test** is a nonparametric procedure that allows us to determine if there is difference in the medians of three or more populations."
   ]
  },
  {
   "cell_type": "code",
   "execution_count": 13,
   "id": "7ec5fbc4",
   "metadata": {},
   "outputs": [],
   "source": [
    "## 401(k) balance by age group\n",
    "\n",
    "A_50_54 = np.array([157,76,215,235,349])\n",
    "B_55_59 = np.array([798,296,371,396,129,234])\n",
    "C_60_64 = np.array([129,571,129,316,253,543,115])"
   ]
  },
  {
   "cell_type": "code",
   "execution_count": 14,
   "id": "51d842cf",
   "metadata": {},
   "outputs": [
    {
     "data": {
      "text/plain": [
       "KruskalResult(statistic=1.935642733777443, pvalue=0.3799098212636963)"
      ]
     },
     "execution_count": 14,
     "metadata": {},
     "output_type": "execute_result"
    }
   ],
   "source": [
    "stats.kruskal(A_50_54,B_55_59,C_60_64)"
   ]
  },
  {
   "cell_type": "code",
   "execution_count": null,
   "id": "49b8645f",
   "metadata": {},
   "outputs": [],
   "source": [
    "# Because we fail to reject the null hypothesis, AARP cannot conclude that \n",
    "# the median 401(k) balances for the three age groups are different."
   ]
  },
  {
   "cell_type": "markdown",
   "id": "7399eca2",
   "metadata": {},
   "source": [
    "## Spearman Rank-Order Correlation Coefficient\n",
    "\n",
    "The **Spearman rank-order correlation coefficient**, rS, measures the strength and direction of the relationship between two variables but **only requires the data be at the ordinal level of measurement.**"
   ]
  },
  {
   "cell_type": "code",
   "execution_count": 15,
   "id": "33cdb8f2",
   "metadata": {},
   "outputs": [
    {
     "data": {
      "text/html": [
       "<div>\n",
       "<style scoped>\n",
       "    .dataframe tbody tr th:only-of-type {\n",
       "        vertical-align: middle;\n",
       "    }\n",
       "\n",
       "    .dataframe tbody tr th {\n",
       "        vertical-align: top;\n",
       "    }\n",
       "\n",
       "    .dataframe thead th {\n",
       "        text-align: right;\n",
       "    }\n",
       "</style>\n",
       "<table border=\"1\" class=\"dataframe\">\n",
       "  <thead>\n",
       "    <tr style=\"text-align: right;\">\n",
       "      <th></th>\n",
       "      <th>study_hours</th>\n",
       "      <th>grade</th>\n",
       "    </tr>\n",
       "  </thead>\n",
       "  <tbody>\n",
       "    <tr>\n",
       "      <th>0</th>\n",
       "      <td>3</td>\n",
       "      <td>86</td>\n",
       "    </tr>\n",
       "    <tr>\n",
       "      <th>1</th>\n",
       "      <td>6</td>\n",
       "      <td>95</td>\n",
       "    </tr>\n",
       "    <tr>\n",
       "      <th>2</th>\n",
       "      <td>4</td>\n",
       "      <td>92</td>\n",
       "    </tr>\n",
       "    <tr>\n",
       "      <th>3</th>\n",
       "      <td>4</td>\n",
       "      <td>83</td>\n",
       "    </tr>\n",
       "    <tr>\n",
       "      <th>4</th>\n",
       "      <td>3</td>\n",
       "      <td>78</td>\n",
       "    </tr>\n",
       "    <tr>\n",
       "      <th>5</th>\n",
       "      <td>2</td>\n",
       "      <td>79</td>\n",
       "    </tr>\n",
       "  </tbody>\n",
       "</table>\n",
       "</div>"
      ],
      "text/plain": [
       "   study_hours  grade\n",
       "0            3     86\n",
       "1            6     95\n",
       "2            4     92\n",
       "3            4     83\n",
       "4            3     78\n",
       "5            2     79"
      ]
     },
     "execution_count": 15,
     "metadata": {},
     "output_type": "execute_result"
    }
   ],
   "source": [
    "data = pd.DataFrame({'study_hours':[3,6,4,4,3,2],\n",
    "                    'grade':[86,95,92,83,78,79]})\n",
    "\n",
    "data"
   ]
  },
  {
   "cell_type": "code",
   "execution_count": 18,
   "id": "99897c04",
   "metadata": {},
   "outputs": [
    {
     "data": {
      "text/plain": [
       "SpearmanrResult(correlation=0.7650368522374495, pvalue=0.0763256359782481)"
      ]
     },
     "execution_count": 18,
     "metadata": {},
     "output_type": "execute_result"
    }
   ],
   "source": [
    "stats.spearmanr(data)"
   ]
  },
  {
   "cell_type": "markdown",
   "id": "52d62d01",
   "metadata": {},
   "source": [
    "Because we fail to reject the null hypothesis, we cannot conclude that there is a relationship between the hours of study and exam grade for the student population. You may find this conclusion surprising considering that rS = 0.771. Also, the sample size n = 6 is very small, which makes rejecting the null hypothesis (finding a relationship) less likely. This would be a good place to briefly discuss the logic of the Spearman rankorder correlation coefficient. If the correlation between the two variables is both strong and positive (close to 1.0), we would expect the ranks for each ordered pair to be close to one another. If the correlation between the two variables is both strong and negative (close to -1.0), we would expect the ranks for each ordered pair not to be close to one another."
   ]
  },
  {
   "cell_type": "markdown",
   "id": "b8a7eac0",
   "metadata": {},
   "source": [
    "## Kendall's tau Rank Coefficient\n",
    "\n",
    "Kendall's tau, a correlation measure for ordinal data.\n",
    "\n",
    "Kendall's tau is a measure of the correspondence between two rankings."
   ]
  },
  {
   "cell_type": "code",
   "execution_count": 19,
   "id": "c7484941",
   "metadata": {},
   "outputs": [
    {
     "data": {
      "text/html": [
       "<div>\n",
       "<style scoped>\n",
       "    .dataframe tbody tr th:only-of-type {\n",
       "        vertical-align: middle;\n",
       "    }\n",
       "\n",
       "    .dataframe tbody tr th {\n",
       "        vertical-align: top;\n",
       "    }\n",
       "\n",
       "    .dataframe thead th {\n",
       "        text-align: right;\n",
       "    }\n",
       "</style>\n",
       "<table border=\"1\" class=\"dataframe\">\n",
       "  <thead>\n",
       "    <tr style=\"text-align: right;\">\n",
       "      <th></th>\n",
       "      <th>expert1</th>\n",
       "      <th>expert2</th>\n",
       "    </tr>\n",
       "  </thead>\n",
       "  <tbody>\n",
       "    <tr>\n",
       "      <th>0</th>\n",
       "      <td>1</td>\n",
       "      <td>1</td>\n",
       "    </tr>\n",
       "    <tr>\n",
       "      <th>1</th>\n",
       "      <td>2</td>\n",
       "      <td>3</td>\n",
       "    </tr>\n",
       "    <tr>\n",
       "      <th>2</th>\n",
       "      <td>3</td>\n",
       "      <td>6</td>\n",
       "    </tr>\n",
       "    <tr>\n",
       "      <th>3</th>\n",
       "      <td>4</td>\n",
       "      <td>2</td>\n",
       "    </tr>\n",
       "    <tr>\n",
       "      <th>4</th>\n",
       "      <td>5</td>\n",
       "      <td>7</td>\n",
       "    </tr>\n",
       "    <tr>\n",
       "      <th>5</th>\n",
       "      <td>6</td>\n",
       "      <td>4</td>\n",
       "    </tr>\n",
       "    <tr>\n",
       "      <th>6</th>\n",
       "      <td>7</td>\n",
       "      <td>5</td>\n",
       "    </tr>\n",
       "  </tbody>\n",
       "</table>\n",
       "</div>"
      ],
      "text/plain": [
       "   expert1  expert2\n",
       "0        1        1\n",
       "1        2        3\n",
       "2        3        6\n",
       "3        4        2\n",
       "4        5        7\n",
       "5        6        4\n",
       "6        7        5"
      ]
     },
     "execution_count": 19,
     "metadata": {},
     "output_type": "execute_result"
    }
   ],
   "source": [
    "data = pd.DataFrame({'expert1':[1,2,3,4,5,6,7],\n",
    "                    'expert2':[1,3,6,2,7,4,5]})\n",
    "data"
   ]
  },
  {
   "cell_type": "code",
   "execution_count": 20,
   "id": "3420231e",
   "metadata": {},
   "outputs": [
    {
     "data": {
      "text/plain": [
       "KendalltauResult(correlation=0.4285714285714286, pvalue=0.2388888888888889)"
      ]
     },
     "execution_count": 20,
     "metadata": {},
     "output_type": "execute_result"
    }
   ],
   "source": [
    "stats.kendalltau(data.expert1, data.expert2) #absence of association pval > alpha"
   ]
  }
 ],
 "metadata": {
  "kernelspec": {
   "display_name": "Python 3",
   "language": "python",
   "name": "python3"
  },
  "language_info": {
   "codemirror_mode": {
    "name": "ipython",
    "version": 3
   },
   "file_extension": ".py",
   "mimetype": "text/x-python",
   "name": "python",
   "nbconvert_exporter": "python",
   "pygments_lexer": "ipython3",
   "version": "3.8.3"
  }
 },
 "nbformat": 4,
 "nbformat_minor": 5
}
