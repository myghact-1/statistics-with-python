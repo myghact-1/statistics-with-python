{
 "cells": [
  {
   "cell_type": "code",
   "execution_count": 1,
   "id": "bb022e7e",
   "metadata": {},
   "outputs": [],
   "source": [
    "import numpy as np\n",
    "from scipy import stats\n",
    "import statsmodels.api as sm"
   ]
  },
  {
   "cell_type": "markdown",
   "id": "f1d0445f",
   "metadata": {},
   "source": [
    "## Hypothesis Testing for single mean"
   ]
  },
  {
   "cell_type": "markdown",
   "id": "e2002bdc",
   "metadata": {},
   "source": [
    "### Z-Test (When the population variance in known)"
   ]
  },
  {
   "cell_type": "code",
   "execution_count": 8,
   "id": "5c08c744",
   "metadata": {},
   "outputs": [
    {
     "data": {
      "text/plain": [
       "0.07493369953432705"
      ]
     },
     "execution_count": 8,
     "metadata": {},
     "output_type": "execute_result"
    }
   ],
   "source": [
    "# One tail hypothesis test\n",
    "# H0: mean <= 8000\n",
    "# Ha: mean > 8000\n",
    "\n",
    "n = 36\n",
    "x_bar = 8120\n",
    "mu = 8000\n",
    "sigma = 500\n",
    "\n",
    "z = (x_bar - mu)/(sigma/np.sqrt(n))\n",
    "\n",
    "pval = 1 - stats.norm.cdf(z)\n",
    "pval"
   ]
  },
  {
   "cell_type": "markdown",
   "id": "fc701e92",
   "metadata": {},
   "source": [
    "### T-Test (When polulation variance is unknown)"
   ]
  },
  {
   "cell_type": "code",
   "execution_count": 10,
   "id": "bc7ce632",
   "metadata": {},
   "outputs": [
    {
     "data": {
      "text/plain": [
       "(-1.9498667128857294, 0.0385675495950937)"
      ]
     },
     "execution_count": 10,
     "metadata": {},
     "output_type": "execute_result"
    }
   ],
   "source": [
    "data = np.array([3.3, 1.3, 2.8, 4.6, 5.5, 3.4, 5.0, 5.1, 3.1, 4.5, 6.0, 5.8])\n",
    "\n",
    "# H0: mu >= 5\n",
    "# H1: mu < 5 (Two tail test)\n",
    "\n",
    "statistic, pval = stats.ttest_1samp(data, popmean=5.0, alternative='less')\n",
    "statistic, pval"
   ]
  },
  {
   "cell_type": "markdown",
   "id": "c1b8a760",
   "metadata": {},
   "source": [
    "> Hypothesis test for proportion of a population"
   ]
  },
  {
   "cell_type": "code",
   "execution_count": 11,
   "id": "95e0989d",
   "metadata": {},
   "outputs": [
    {
     "data": {
      "text/plain": [
       "(1.8973665961010278, 0.028889785561798602)"
      ]
     },
     "execution_count": 11,
     "metadata": {},
     "output_type": "execute_result"
    }
   ],
   "source": [
    "# H0: p <= 0.34\n",
    "# Ha: p > 0.34\n",
    "\n",
    "sm.stats.proportions_ztest(count=96, nobs=240, value=0.34, alternative='larger')"
   ]
  },
  {
   "cell_type": "markdown",
   "id": "48f3ab88",
   "metadata": {},
   "source": [
    "## Hypothesis Test Comparing Two Populations"
   ]
  },
  {
   "cell_type": "markdown",
   "id": "91258488",
   "metadata": {},
   "source": [
    "> 1. Comparing Two Means with <br>\n",
    "    • Independent Samples <br>\n",
    "    • Known Population Standard Deviations"
   ]
  },
  {
   "cell_type": "code",
   "execution_count": 14,
   "id": "2f9795bc",
   "metadata": {},
   "outputs": [],
   "source": [
    "federal_jobs = np.random.randint(60000, 80000, size=(36,))\n",
    "private_jobs = np.random.randint(54000, 70000, size=(33,))"
   ]
  },
  {
   "cell_type": "code",
   "execution_count": 17,
   "id": "996fb6c3",
   "metadata": {},
   "outputs": [
    {
     "data": {
      "text/plain": [
       "(8.329427351976372, 8.123432755839579e-17)"
      ]
     },
     "execution_count": 17,
     "metadata": {},
     "output_type": "execute_result"
    }
   ],
   "source": [
    "sm.stats.ztest(federal_jobs, private_jobs, value=0)"
   ]
  },
  {
   "cell_type": "markdown",
   "id": "323237fb",
   "metadata": {},
   "source": [
    "> T-test (Assuming Equal Population Variance)"
   ]
  },
  {
   "cell_type": "code",
   "execution_count": 18,
   "id": "495dc1cb",
   "metadata": {},
   "outputs": [
    {
     "data": {
      "text/plain": [
       "Ttest_indResult(statistic=2.3174802842828366, pvalue=0.012652171735493113)"
      ]
     },
     "execution_count": 18,
     "metadata": {},
     "output_type": "execute_result"
    }
   ],
   "source": [
    "rats1 = np.array([1.90,2.03,3.38,3.19,2.32,2.29,1.92,3.31,3.25,\n",
    "                  1.92,2.12,2.20,2.98,2.15,2.05,2.99,3.37,3.22,2.05,3.35])\n",
    "rats2 = np.array([1.47,1.60,1.64,1.62,1.70,1.59,1.70,3.39,1.60,\n",
    "                  1.72,1.63,1.71,3.20,1.60,1.57,1.68,3.39,3.36,\n",
    "                  1.44,1.67,3.33,3.42,3.37,1.53,1.57])\n",
    "\n",
    "stats.ttest_ind(rats1, rats2, alternative='greater')"
   ]
  },
  {
   "cell_type": "markdown",
   "id": "0255c233",
   "metadata": {},
   "source": [
    "> T-test (Assuming Unequal Population Variance)"
   ]
  },
  {
   "cell_type": "code",
   "execution_count": 19,
   "id": "a24254e9",
   "metadata": {},
   "outputs": [
    {
     "data": {
      "text/plain": [
       "Ttest_indResult(statistic=1.904526432457668, pvalue=0.07785107327039296)"
      ]
     },
     "execution_count": 19,
     "metadata": {},
     "output_type": "execute_result"
    }
   ],
   "source": [
    "pop1 = np.array([24.2,26.1,28.8,30.1,24.6,29.1,28.2,27.4,28.3,27.9])\n",
    "pop2 = np.array([23,21.7,32.7,20.7,31.1,19.6,26.5,21.1,20.6,27.2,26.8])\n",
    "\n",
    "stats.ttest_ind(pop1,pop2,equal_var=False)"
   ]
  },
  {
   "cell_type": "markdown",
   "id": "79c0095a",
   "metadata": {},
   "source": [
    "> Using the difference other than zero"
   ]
  },
  {
   "cell_type": "code",
   "execution_count": 20,
   "id": "52d7be2b",
   "metadata": {},
   "outputs": [
    {
     "data": {
      "text/plain": [
       "(2.1752427052209256, 0.017790494468356198, 40.0)"
      ]
     },
     "execution_count": 20,
     "metadata": {},
     "output_type": "execute_result"
    }
   ],
   "source": [
    "bill_1 = np.array([55.8,47.3,55.2,51.5,52.3,39.2,41.3,35.7,44.7,\n",
    "                   50.7,49.3,44.3,44.7,48.5,38.3,46.6,39.6,46.3,\n",
    "                   47.6,39.7,45.2,39.9,52.4])\n",
    "bill_2 = np.array([41.3,45.7,45.6,30.8,29.4,37.9,43.5,42.7,37.6,\n",
    "                   38.1,41.8,39.9,34.8,39.7,40.8,35.2,38.5,32.8,49.7])\n",
    "\n",
    "sm.stats.ttest_ind(bill_1, bill_2, alternative='larger', value=3) #ttest, pval, df"
   ]
  },
  {
   "cell_type": "markdown",
   "id": "187f9cc3",
   "metadata": {},
   "source": [
    "> Dependent Samples (Matched-pair differences)"
   ]
  },
  {
   "cell_type": "code",
   "execution_count": 23,
   "id": "c6dc6c98",
   "metadata": {},
   "outputs": [],
   "source": [
    "end = np.array([64,54,126,97,37,74,117,90,81])\n",
    "middle = np.array([72,41,100,62,40,60,122,62,78])"
   ]
  },
  {
   "cell_type": "code",
   "execution_count": 25,
   "id": "0057b06b",
   "metadata": {},
   "outputs": [
    {
     "data": {
      "text/plain": [
       "Ttest_relResult(statistic=2.1833503263322047, pvalue=0.030272709245538383)"
      ]
     },
     "execution_count": 25,
     "metadata": {},
     "output_type": "execute_result"
    }
   ],
   "source": [
    "stats.ttest_rel(end, middle,alternative='greater')"
   ]
  },
  {
   "cell_type": "markdown",
   "id": "b065dfb1",
   "metadata": {},
   "source": [
    "### Comparing Two Population Proportions with Independent Samples"
   ]
  },
  {
   "cell_type": "code",
   "execution_count": 28,
   "id": "5d53b3a9",
   "metadata": {},
   "outputs": [
    {
     "data": {
      "text/plain": [
       "(-1.9405713046893944, 0.02615514874735163)"
      ]
     },
     "execution_count": 28,
     "metadata": {},
     "output_type": "execute_result"
    }
   ],
   "source": [
    "successes = np.array([167, 799])\n",
    "totals = np.array([1207, 4963])\n",
    "\n",
    "sm.stats.proportions_ztest(count=successes, nobs=totals, alternative='smaller')"
   ]
  },
  {
   "cell_type": "markdown",
   "id": "cec647c3",
   "metadata": {},
   "source": [
    "## ANOVA"
   ]
  },
  {
   "cell_type": "markdown",
   "id": "f54d2309",
   "metadata": {},
   "source": [
    "### One Way ANOVA"
   ]
  },
  {
   "cell_type": "markdown",
   "id": "612d5347",
   "metadata": {},
   "source": [
    "> - ANOVA Assumptions <br>\n",
    "    - Residuals (experimental error) are normally distributed (Shapiro-Wilks Test) <br>\n",
    "    - Homogeneity of variances (variances are equal between treatment groups) (Levene’s or Bartlett’s Test) <br>\n",
    "    - Observations are sampled independently from each other"
   ]
  },
  {
   "cell_type": "code",
   "execution_count": 2,
   "id": "8885c249",
   "metadata": {},
   "outputs": [],
   "source": [
    "# Individual Satisfaction Scores for Four Smartphones\n",
    "iphone = np.array([87,85,78,82])\n",
    "galaxys8 = np.array([71,82,75,80])\n",
    "motog6 = np.array([66, 74, 79])\n",
    "lg = np.array([65,69,67,63])"
   ]
  },
  {
   "cell_type": "code",
   "execution_count": 3,
   "id": "3db80ba3",
   "metadata": {},
   "outputs": [
    {
     "data": {
      "text/plain": [
       "F_onewayResult(statistic=9.859980334316617, pvalue=0.001887232383275623)"
      ]
     },
     "execution_count": 3,
     "metadata": {},
     "output_type": "execute_result"
    }
   ],
   "source": [
    "stats.f_oneway(iphone,galaxys8,motog6,lg)"
   ]
  },
  {
   "cell_type": "code",
   "execution_count": 4,
   "id": "e1e8e478",
   "metadata": {},
   "outputs": [],
   "source": [
    "import pandas as pd"
   ]
  },
  {
   "cell_type": "code",
   "execution_count": 10,
   "id": "dc7daabd",
   "metadata": {},
   "outputs": [],
   "source": [
    "df1 = pd.DataFrame(iphone, index=['iphone']*4, columns=['score'])\n",
    "df2 = pd.DataFrame(galaxys8, index=['galaxys8']*4, columns=['score'])\n",
    "df3 = pd.DataFrame(motog6, index=['motog6']*3, columns=['score'])\n",
    "df4 = pd.DataFrame(lg, index=['lg']*4, columns=['score'])"
   ]
  },
  {
   "cell_type": "code",
   "execution_count": 17,
   "id": "7adac603",
   "metadata": {},
   "outputs": [
    {
     "data": {
      "text/html": [
       "<div>\n",
       "<style scoped>\n",
       "    .dataframe tbody tr th:only-of-type {\n",
       "        vertical-align: middle;\n",
       "    }\n",
       "\n",
       "    .dataframe tbody tr th {\n",
       "        vertical-align: top;\n",
       "    }\n",
       "\n",
       "    .dataframe thead th {\n",
       "        text-align: right;\n",
       "    }\n",
       "</style>\n",
       "<table border=\"1\" class=\"dataframe\">\n",
       "  <thead>\n",
       "    <tr style=\"text-align: right;\">\n",
       "      <th></th>\n",
       "      <th>index</th>\n",
       "      <th>score</th>\n",
       "    </tr>\n",
       "  </thead>\n",
       "  <tbody>\n",
       "    <tr>\n",
       "      <th>0</th>\n",
       "      <td>iphone</td>\n",
       "      <td>87</td>\n",
       "    </tr>\n",
       "    <tr>\n",
       "      <th>1</th>\n",
       "      <td>iphone</td>\n",
       "      <td>85</td>\n",
       "    </tr>\n",
       "    <tr>\n",
       "      <th>2</th>\n",
       "      <td>iphone</td>\n",
       "      <td>78</td>\n",
       "    </tr>\n",
       "    <tr>\n",
       "      <th>3</th>\n",
       "      <td>iphone</td>\n",
       "      <td>82</td>\n",
       "    </tr>\n",
       "    <tr>\n",
       "      <th>4</th>\n",
       "      <td>galaxys8</td>\n",
       "      <td>71</td>\n",
       "    </tr>\n",
       "    <tr>\n",
       "      <th>5</th>\n",
       "      <td>galaxys8</td>\n",
       "      <td>82</td>\n",
       "    </tr>\n",
       "    <tr>\n",
       "      <th>6</th>\n",
       "      <td>galaxys8</td>\n",
       "      <td>75</td>\n",
       "    </tr>\n",
       "    <tr>\n",
       "      <th>7</th>\n",
       "      <td>galaxys8</td>\n",
       "      <td>80</td>\n",
       "    </tr>\n",
       "    <tr>\n",
       "      <th>8</th>\n",
       "      <td>motog6</td>\n",
       "      <td>66</td>\n",
       "    </tr>\n",
       "    <tr>\n",
       "      <th>9</th>\n",
       "      <td>motog6</td>\n",
       "      <td>74</td>\n",
       "    </tr>\n",
       "    <tr>\n",
       "      <th>10</th>\n",
       "      <td>motog6</td>\n",
       "      <td>79</td>\n",
       "    </tr>\n",
       "    <tr>\n",
       "      <th>11</th>\n",
       "      <td>lg</td>\n",
       "      <td>65</td>\n",
       "    </tr>\n",
       "    <tr>\n",
       "      <th>12</th>\n",
       "      <td>lg</td>\n",
       "      <td>69</td>\n",
       "    </tr>\n",
       "    <tr>\n",
       "      <th>13</th>\n",
       "      <td>lg</td>\n",
       "      <td>67</td>\n",
       "    </tr>\n",
       "    <tr>\n",
       "      <th>14</th>\n",
       "      <td>lg</td>\n",
       "      <td>63</td>\n",
       "    </tr>\n",
       "  </tbody>\n",
       "</table>\n",
       "</div>"
      ],
      "text/plain": [
       "       index  score\n",
       "0     iphone     87\n",
       "1     iphone     85\n",
       "2     iphone     78\n",
       "3     iphone     82\n",
       "4   galaxys8     71\n",
       "5   galaxys8     82\n",
       "6   galaxys8     75\n",
       "7   galaxys8     80\n",
       "8     motog6     66\n",
       "9     motog6     74\n",
       "10    motog6     79\n",
       "11        lg     65\n",
       "12        lg     69\n",
       "13        lg     67\n",
       "14        lg     63"
      ]
     },
     "execution_count": 17,
     "metadata": {},
     "output_type": "execute_result"
    }
   ],
   "source": [
    "df = pd.concat([df1,df2,df3,df4], axis=0).reset_index()\n",
    "df"
   ]
  },
  {
   "cell_type": "code",
   "execution_count": 18,
   "id": "8d934e0e",
   "metadata": {},
   "outputs": [],
   "source": [
    "model = sm.formula.ols('score ~ C(index)', data=df).fit()"
   ]
  },
  {
   "cell_type": "code",
   "execution_count": 28,
   "id": "60b041be",
   "metadata": {},
   "outputs": [
    {
     "data": {
      "text/html": [
       "<div>\n",
       "<style scoped>\n",
       "    .dataframe tbody tr th:only-of-type {\n",
       "        vertical-align: middle;\n",
       "    }\n",
       "\n",
       "    .dataframe tbody tr th {\n",
       "        vertical-align: top;\n",
       "    }\n",
       "\n",
       "    .dataframe thead th {\n",
       "        text-align: right;\n",
       "    }\n",
       "</style>\n",
       "<table border=\"1\" class=\"dataframe\">\n",
       "  <thead>\n",
       "    <tr style=\"text-align: right;\">\n",
       "      <th></th>\n",
       "      <th>sum_sq</th>\n",
       "      <th>df</th>\n",
       "      <th>F</th>\n",
       "      <th>PR(&gt;F)</th>\n",
       "    </tr>\n",
       "  </thead>\n",
       "  <tbody>\n",
       "    <tr>\n",
       "      <th>C(index)</th>\n",
       "      <td>607.733333</td>\n",
       "      <td>3.0</td>\n",
       "      <td>9.85998</td>\n",
       "      <td>0.001887</td>\n",
       "    </tr>\n",
       "    <tr>\n",
       "      <th>Residual</th>\n",
       "      <td>226.000000</td>\n",
       "      <td>11.0</td>\n",
       "      <td>NaN</td>\n",
       "      <td>NaN</td>\n",
       "    </tr>\n",
       "  </tbody>\n",
       "</table>\n",
       "</div>"
      ],
      "text/plain": [
       "              sum_sq    df        F    PR(>F)\n",
       "C(index)  607.733333   3.0  9.85998  0.001887\n",
       "Residual  226.000000  11.0      NaN       NaN"
      ]
     },
     "execution_count": 28,
     "metadata": {},
     "output_type": "execute_result"
    }
   ],
   "source": [
    "sm.stats.anova_lm(model, typ=2)"
   ]
  },
  {
   "cell_type": "code",
   "execution_count": 34,
   "id": "14c04a20",
   "metadata": {
    "scrolled": false
   },
   "outputs": [
    {
     "name": "stdout",
     "output_type": "stream",
     "text": [
      "                            OLS Regression Results                            \n",
      "==============================================================================\n",
      "Dep. Variable:                  score   R-squared:                       0.729\n",
      "Model:                            OLS   Adj. R-squared:                  0.655\n",
      "Method:                 Least Squares   F-statistic:                     9.860\n",
      "Date:                Fri, 04 Jun 2021   Prob (F-statistic):            0.00189\n",
      "Time:                        10:09:21   Log-Likelihood:                -41.628\n",
      "No. Observations:                  15   AIC:                             91.26\n",
      "Df Residuals:                      11   BIC:                             94.09\n",
      "Df Model:                           3                                         \n",
      "Covariance Type:            nonrobust                                         \n",
      "======================================================================================\n",
      "                         coef    std err          t      P>|t|      [0.025      0.975]\n",
      "--------------------------------------------------------------------------------------\n",
      "Intercept             77.0000      2.266     33.975      0.000      72.012      81.988\n",
      "C(index)[T.iphone]     6.0000      3.205      1.872      0.088      -1.054      13.054\n",
      "C(index)[T.lg]       -11.0000      3.205     -3.432      0.006     -18.054      -3.946\n",
      "C(index)[T.motog6]    -4.0000      3.462     -1.155      0.272     -11.620       3.620\n",
      "==============================================================================\n",
      "Omnibus:                        1.108   Durbin-Watson:                   2.491\n",
      "Prob(Omnibus):                  0.575   Jarque-Bera (JB):                0.843\n",
      "Skew:                          -0.287   Prob(JB):                        0.656\n",
      "Kurtosis:                       1.991   Cond. No.                         4.68\n",
      "==============================================================================\n",
      "\n",
      "Notes:\n",
      "[1] Standard Errors assume that the covariance matrix of the errors is correctly specified.\n"
     ]
    },
    {
     "name": "stderr",
     "output_type": "stream",
     "text": [
      "C:\\Users\\Subhash\\anaconda3\\lib\\site-packages\\scipy\\stats\\stats.py:1603: UserWarning: kurtosistest only valid for n>=20 ... continuing anyway, n=15\n",
      "  warnings.warn(\"kurtosistest only valid for n>=20 ... continuing \"\n"
     ]
    }
   ],
   "source": [
    "print(model.summary())"
   ]
  },
  {
   "cell_type": "code",
   "execution_count": 32,
   "id": "09af1128",
   "metadata": {},
   "outputs": [
    {
     "data": {
      "text/plain": [
       "ShapiroResult(statistic=0.9602561593055725, pvalue=0.69684898853302)"
      ]
     },
     "execution_count": 32,
     "metadata": {},
     "output_type": "execute_result"
    }
   ],
   "source": [
    "## Checking residuals normality --> Assumption 1.\n",
    "\n",
    "# H0: The Shapiro-Wilk test tests the null hypothesis that the\n",
    "#     data was drawn from a normal distribution.\n",
    "\n",
    "stats.shapiro(model.resid) # this test confirms that residuals are normality distributed"
   ]
  },
  {
   "cell_type": "code",
   "execution_count": 33,
   "id": "857342c7",
   "metadata": {},
   "outputs": [
    {
     "data": {
      "text/plain": [
       "BartlettResult(statistic=1.9271115785294324, pvalue=0.5876719160930977)"
      ]
     },
     "execution_count": 33,
     "metadata": {},
     "output_type": "execute_result"
    }
   ],
   "source": [
    "## Checking Homoginity of variance --> Assumption 2.\n",
    "\n",
    "# H0: Bartlett's test tests the null hypothesis that all input samples\n",
    "#     are from populations with equal variances.\n",
    "\n",
    "stats.bartlett(iphone,galaxys8,motog6,lg)"
   ]
  },
  {
   "cell_type": "code",
   "execution_count": 39,
   "id": "112e7aba",
   "metadata": {},
   "outputs": [
    {
     "name": "stderr",
     "output_type": "stream",
     "text": [
      "C:\\Users\\Subhash\\anaconda3\\lib\\site-packages\\statsmodels\\sandbox\\stats\\multicomp.py:775: UserWarning: FixedFormatter should only be used together with FixedLocator\n",
      "  ax1.set_yticklabels(np.insert(self.groupsunique.astype(str), 0, ''))\n"
     ]
    },
    {
     "data": {
      "image/png": "[encoded data removed]",
      "text/plain": [
       "<Figure size 720x432 with 1 Axes>"
      ]
     },
     "metadata": {
      "needs_background": "light"
     },
     "output_type": "display_data"
    }
   ],
   "source": [
    "### Tukey-Kramer Multiple comparison test\n",
    "tukey = sm.stats.multicomp.pairwise_tukeyhsd(endog=df['score'], \n",
    "                                             groups=df['index'], alpha=0.05)\n",
    "\n",
    "# H0: mean is same for that group\n",
    "# H1: mean is not same\n",
    "\n",
    "tukey.plot_simultaneous();"
   ]
  },
  {
   "cell_type": "code",
   "execution_count": 40,
   "id": "f5ed7eb4",
   "metadata": {},
   "outputs": [
    {
     "data": {
      "text/html": [
       "<table class=\"simpletable\">\n",
       "<caption>Multiple Comparison of Means - Tukey HSD, FWER=0.05</caption>\n",
       "<tr>\n",
       "   <th>group1</th>  <th>group2</th> <th>meandiff</th>  <th>p-adj</th>   <th>lower</th>   <th>upper</th>  <th>reject</th>\n",
       "</tr>\n",
       "<tr>\n",
       "  <td>galaxys8</td> <td>iphone</td>    <td>6.0</td>   <td>0.2938</td>  <td>-3.647</td>  <td>15.647</td>   <td>False</td>\n",
       "</tr>\n",
       "<tr>\n",
       "  <td>galaxys8</td>   <td>lg</td>     <td>-11.0</td>  <td>0.0247</td>  <td>-20.647</td> <td>-1.353</td>   <td>True</td> \n",
       "</tr>\n",
       "<tr>\n",
       "  <td>galaxys8</td> <td>motog6</td>   <td>-4.0</td>   <td>0.6529</td> <td>-14.4199</td> <td>6.4199</td>   <td>False</td>\n",
       "</tr>\n",
       "<tr>\n",
       "   <td>iphone</td>    <td>lg</td>     <td>-17.0</td>  <td>0.0012</td>  <td>-26.647</td> <td>-7.353</td>   <td>True</td> \n",
       "</tr>\n",
       "<tr>\n",
       "   <td>iphone</td>  <td>motog6</td>   <td>-10.0</td>  <td>0.0611</td> <td>-20.4199</td> <td>0.4199</td>   <td>False</td>\n",
       "</tr>\n",
       "<tr>\n",
       "     <td>lg</td>    <td>motog6</td>    <td>7.0</td>   <td>0.2379</td>  <td>-3.4199</td> <td>17.4199</td>  <td>False</td>\n",
       "</tr>\n",
       "</table>"
      ],
      "text/plain": [
       "<class 'statsmodels.iolib.table.SimpleTable'>"
      ]
     },
     "execution_count": 40,
     "metadata": {},
     "output_type": "execute_result"
    }
   ],
   "source": [
    "tukey.summary()"
   ]
  },
  {
   "cell_type": "markdown",
   "id": "514556e9",
   "metadata": {},
   "source": [
    "### Two-way Anova Test"
   ]
  },
  {
   "cell_type": "code",
   "execution_count": 41,
   "id": "c7c7f652",
   "metadata": {},
   "outputs": [
    {
     "data": {
      "text/html": [
       "<div>\n",
       "<style scoped>\n",
       "    .dataframe tbody tr th:only-of-type {\n",
       "        vertical-align: middle;\n",
       "    }\n",
       "\n",
       "    .dataframe tbody tr th {\n",
       "        vertical-align: top;\n",
       "    }\n",
       "\n",
       "    .dataframe thead th {\n",
       "        text-align: right;\n",
       "    }\n",
       "</style>\n",
       "<table border=\"1\" class=\"dataframe\">\n",
       "  <thead>\n",
       "    <tr style=\"text-align: right;\">\n",
       "      <th></th>\n",
       "      <th>Genotype</th>\n",
       "      <th>1_year</th>\n",
       "      <th>2_year</th>\n",
       "      <th>3_year</th>\n",
       "    </tr>\n",
       "  </thead>\n",
       "  <tbody>\n",
       "    <tr>\n",
       "      <th>0</th>\n",
       "      <td>A</td>\n",
       "      <td>1.53</td>\n",
       "      <td>4.08</td>\n",
       "      <td>6.69</td>\n",
       "    </tr>\n",
       "    <tr>\n",
       "      <th>1</th>\n",
       "      <td>A</td>\n",
       "      <td>1.83</td>\n",
       "      <td>3.84</td>\n",
       "      <td>5.97</td>\n",
       "    </tr>\n",
       "    <tr>\n",
       "      <th>2</th>\n",
       "      <td>A</td>\n",
       "      <td>1.38</td>\n",
       "      <td>3.96</td>\n",
       "      <td>6.33</td>\n",
       "    </tr>\n",
       "    <tr>\n",
       "      <th>3</th>\n",
       "      <td>B</td>\n",
       "      <td>3.60</td>\n",
       "      <td>5.70</td>\n",
       "      <td>8.55</td>\n",
       "    </tr>\n",
       "    <tr>\n",
       "      <th>4</th>\n",
       "      <td>B</td>\n",
       "      <td>2.94</td>\n",
       "      <td>5.07</td>\n",
       "      <td>7.95</td>\n",
       "    </tr>\n",
       "  </tbody>\n",
       "</table>\n",
       "</div>"
      ],
      "text/plain": [
       "  Genotype  1_year  2_year  3_year\n",
       "0        A    1.53    4.08    6.69\n",
       "1        A    1.83    3.84    5.97\n",
       "2        A    1.38    3.96    6.33\n",
       "3        B    3.60    5.70    8.55\n",
       "4        B    2.94    5.07    7.95"
      ]
     },
     "execution_count": 41,
     "metadata": {},
     "output_type": "execute_result"
    }
   ],
   "source": [
    "df = pd.read_csv(\"https://reneshbedre.github.io/assets/posts/anova/twowayanova.txt\", sep=\"\\t\")\n",
    "df.head()"
   ]
  },
  {
   "cell_type": "code",
   "execution_count": 42,
   "id": "b6ede318",
   "metadata": {},
   "outputs": [
    {
     "name": "stdout",
     "output_type": "stream",
     "text": [
      "<class 'pandas.core.frame.DataFrame'>\n",
      "RangeIndex: 18 entries, 0 to 17\n",
      "Data columns (total 4 columns):\n",
      " #   Column    Non-Null Count  Dtype  \n",
      "---  ------    --------------  -----  \n",
      " 0   Genotype  18 non-null     object \n",
      " 1   1_year    18 non-null     float64\n",
      " 2   2_year    18 non-null     float64\n",
      " 3   3_year    18 non-null     float64\n",
      "dtypes: float64(3), object(1)\n",
      "memory usage: 704.0+ bytes\n"
     ]
    }
   ],
   "source": [
    "# From two-way ANOVA, we can tests three hypotheses \n",
    "# 1) effect of genotype on yield \n",
    "# 2) effect of time (years) on yield, \n",
    "# and 3) effect of genotype and time (years) interactions on yield\n",
    "\n",
    "df.info()"
   ]
  },
  {
   "cell_type": "code",
   "execution_count": 45,
   "id": "6c02142a",
   "metadata": {
    "scrolled": true
   },
   "outputs": [
    {
     "data": {
      "text/html": [
       "<div>\n",
       "<style scoped>\n",
       "    .dataframe tbody tr th:only-of-type {\n",
       "        vertical-align: middle;\n",
       "    }\n",
       "\n",
       "    .dataframe tbody tr th {\n",
       "        vertical-align: top;\n",
       "    }\n",
       "\n",
       "    .dataframe thead th {\n",
       "        text-align: right;\n",
       "    }\n",
       "</style>\n",
       "<table border=\"1\" class=\"dataframe\">\n",
       "  <thead>\n",
       "    <tr style=\"text-align: right;\">\n",
       "      <th></th>\n",
       "      <th>Genotype</th>\n",
       "      <th>years</th>\n",
       "      <th>value</th>\n",
       "    </tr>\n",
       "  </thead>\n",
       "  <tbody>\n",
       "    <tr>\n",
       "      <th>0</th>\n",
       "      <td>A</td>\n",
       "      <td>1_year</td>\n",
       "      <td>1.53</td>\n",
       "    </tr>\n",
       "    <tr>\n",
       "      <th>1</th>\n",
       "      <td>A</td>\n",
       "      <td>1_year</td>\n",
       "      <td>1.83</td>\n",
       "    </tr>\n",
       "    <tr>\n",
       "      <th>2</th>\n",
       "      <td>A</td>\n",
       "      <td>1_year</td>\n",
       "      <td>1.38</td>\n",
       "    </tr>\n",
       "    <tr>\n",
       "      <th>3</th>\n",
       "      <td>B</td>\n",
       "      <td>1_year</td>\n",
       "      <td>3.60</td>\n",
       "    </tr>\n",
       "    <tr>\n",
       "      <th>4</th>\n",
       "      <td>B</td>\n",
       "      <td>1_year</td>\n",
       "      <td>2.94</td>\n",
       "    </tr>\n",
       "    <tr>\n",
       "      <th>5</th>\n",
       "      <td>B</td>\n",
       "      <td>1_year</td>\n",
       "      <td>4.02</td>\n",
       "    </tr>\n",
       "    <tr>\n",
       "      <th>6</th>\n",
       "      <td>C</td>\n",
       "      <td>1_year</td>\n",
       "      <td>3.99</td>\n",
       "    </tr>\n",
       "    <tr>\n",
       "      <th>7</th>\n",
       "      <td>C</td>\n",
       "      <td>1_year</td>\n",
       "      <td>3.30</td>\n",
       "    </tr>\n",
       "    <tr>\n",
       "      <th>8</th>\n",
       "      <td>C</td>\n",
       "      <td>1_year</td>\n",
       "      <td>4.41</td>\n",
       "    </tr>\n",
       "    <tr>\n",
       "      <th>9</th>\n",
       "      <td>D</td>\n",
       "      <td>1_year</td>\n",
       "      <td>3.75</td>\n",
       "    </tr>\n",
       "    <tr>\n",
       "      <th>10</th>\n",
       "      <td>D</td>\n",
       "      <td>1_year</td>\n",
       "      <td>3.63</td>\n",
       "    </tr>\n",
       "    <tr>\n",
       "      <th>11</th>\n",
       "      <td>D</td>\n",
       "      <td>1_year</td>\n",
       "      <td>3.57</td>\n",
       "    </tr>\n",
       "    <tr>\n",
       "      <th>12</th>\n",
       "      <td>E</td>\n",
       "      <td>1_year</td>\n",
       "      <td>1.71</td>\n",
       "    </tr>\n",
       "    <tr>\n",
       "      <th>13</th>\n",
       "      <td>E</td>\n",
       "      <td>1_year</td>\n",
       "      <td>2.01</td>\n",
       "    </tr>\n",
       "    <tr>\n",
       "      <th>14</th>\n",
       "      <td>E</td>\n",
       "      <td>1_year</td>\n",
       "      <td>2.04</td>\n",
       "    </tr>\n",
       "    <tr>\n",
       "      <th>15</th>\n",
       "      <td>F</td>\n",
       "      <td>1_year</td>\n",
       "      <td>3.96</td>\n",
       "    </tr>\n",
       "    <tr>\n",
       "      <th>16</th>\n",
       "      <td>F</td>\n",
       "      <td>1_year</td>\n",
       "      <td>4.77</td>\n",
       "    </tr>\n",
       "    <tr>\n",
       "      <th>17</th>\n",
       "      <td>F</td>\n",
       "      <td>1_year</td>\n",
       "      <td>4.65</td>\n",
       "    </tr>\n",
       "    <tr>\n",
       "      <th>18</th>\n",
       "      <td>A</td>\n",
       "      <td>2_year</td>\n",
       "      <td>4.08</td>\n",
       "    </tr>\n",
       "    <tr>\n",
       "      <th>19</th>\n",
       "      <td>A</td>\n",
       "      <td>2_year</td>\n",
       "      <td>3.84</td>\n",
       "    </tr>\n",
       "    <tr>\n",
       "      <th>20</th>\n",
       "      <td>A</td>\n",
       "      <td>2_year</td>\n",
       "      <td>3.96</td>\n",
       "    </tr>\n",
       "    <tr>\n",
       "      <th>21</th>\n",
       "      <td>B</td>\n",
       "      <td>2_year</td>\n",
       "      <td>5.70</td>\n",
       "    </tr>\n",
       "    <tr>\n",
       "      <th>22</th>\n",
       "      <td>B</td>\n",
       "      <td>2_year</td>\n",
       "      <td>5.07</td>\n",
       "    </tr>\n",
       "    <tr>\n",
       "      <th>23</th>\n",
       "      <td>B</td>\n",
       "      <td>2_year</td>\n",
       "      <td>7.20</td>\n",
       "    </tr>\n",
       "    <tr>\n",
       "      <th>24</th>\n",
       "      <td>C</td>\n",
       "      <td>2_year</td>\n",
       "      <td>6.09</td>\n",
       "    </tr>\n",
       "    <tr>\n",
       "      <th>25</th>\n",
       "      <td>C</td>\n",
       "      <td>2_year</td>\n",
       "      <td>5.88</td>\n",
       "    </tr>\n",
       "    <tr>\n",
       "      <th>26</th>\n",
       "      <td>C</td>\n",
       "      <td>2_year</td>\n",
       "      <td>6.51</td>\n",
       "    </tr>\n",
       "    <tr>\n",
       "      <th>27</th>\n",
       "      <td>D</td>\n",
       "      <td>2_year</td>\n",
       "      <td>5.19</td>\n",
       "    </tr>\n",
       "    <tr>\n",
       "      <th>28</th>\n",
       "      <td>D</td>\n",
       "      <td>2_year</td>\n",
       "      <td>5.37</td>\n",
       "    </tr>\n",
       "    <tr>\n",
       "      <th>29</th>\n",
       "      <td>D</td>\n",
       "      <td>2_year</td>\n",
       "      <td>5.55</td>\n",
       "    </tr>\n",
       "    <tr>\n",
       "      <th>30</th>\n",
       "      <td>E</td>\n",
       "      <td>2_year</td>\n",
       "      <td>3.60</td>\n",
       "    </tr>\n",
       "    <tr>\n",
       "      <th>31</th>\n",
       "      <td>E</td>\n",
       "      <td>2_year</td>\n",
       "      <td>5.10</td>\n",
       "    </tr>\n",
       "    <tr>\n",
       "      <th>32</th>\n",
       "      <td>E</td>\n",
       "      <td>2_year</td>\n",
       "      <td>6.99</td>\n",
       "    </tr>\n",
       "    <tr>\n",
       "      <th>33</th>\n",
       "      <td>F</td>\n",
       "      <td>2_year</td>\n",
       "      <td>5.25</td>\n",
       "    </tr>\n",
       "    <tr>\n",
       "      <th>34</th>\n",
       "      <td>F</td>\n",
       "      <td>2_year</td>\n",
       "      <td>5.28</td>\n",
       "    </tr>\n",
       "    <tr>\n",
       "      <th>35</th>\n",
       "      <td>F</td>\n",
       "      <td>2_year</td>\n",
       "      <td>5.07</td>\n",
       "    </tr>\n",
       "    <tr>\n",
       "      <th>36</th>\n",
       "      <td>A</td>\n",
       "      <td>3_year</td>\n",
       "      <td>6.69</td>\n",
       "    </tr>\n",
       "    <tr>\n",
       "      <th>37</th>\n",
       "      <td>A</td>\n",
       "      <td>3_year</td>\n",
       "      <td>5.97</td>\n",
       "    </tr>\n",
       "    <tr>\n",
       "      <th>38</th>\n",
       "      <td>A</td>\n",
       "      <td>3_year</td>\n",
       "      <td>6.33</td>\n",
       "    </tr>\n",
       "    <tr>\n",
       "      <th>39</th>\n",
       "      <td>B</td>\n",
       "      <td>3_year</td>\n",
       "      <td>8.55</td>\n",
       "    </tr>\n",
       "    <tr>\n",
       "      <th>40</th>\n",
       "      <td>B</td>\n",
       "      <td>3_year</td>\n",
       "      <td>7.95</td>\n",
       "    </tr>\n",
       "    <tr>\n",
       "      <th>41</th>\n",
       "      <td>B</td>\n",
       "      <td>3_year</td>\n",
       "      <td>8.94</td>\n",
       "    </tr>\n",
       "    <tr>\n",
       "      <th>42</th>\n",
       "      <td>C</td>\n",
       "      <td>3_year</td>\n",
       "      <td>10.02</td>\n",
       "    </tr>\n",
       "    <tr>\n",
       "      <th>43</th>\n",
       "      <td>C</td>\n",
       "      <td>3_year</td>\n",
       "      <td>9.63</td>\n",
       "    </tr>\n",
       "    <tr>\n",
       "      <th>44</th>\n",
       "      <td>C</td>\n",
       "      <td>3_year</td>\n",
       "      <td>10.38</td>\n",
       "    </tr>\n",
       "    <tr>\n",
       "      <th>45</th>\n",
       "      <td>D</td>\n",
       "      <td>3_year</td>\n",
       "      <td>11.40</td>\n",
       "    </tr>\n",
       "    <tr>\n",
       "      <th>46</th>\n",
       "      <td>D</td>\n",
       "      <td>3_year</td>\n",
       "      <td>9.66</td>\n",
       "    </tr>\n",
       "    <tr>\n",
       "      <th>47</th>\n",
       "      <td>D</td>\n",
       "      <td>3_year</td>\n",
       "      <td>10.53</td>\n",
       "    </tr>\n",
       "    <tr>\n",
       "      <th>48</th>\n",
       "      <td>E</td>\n",
       "      <td>3_year</td>\n",
       "      <td>6.87</td>\n",
       "    </tr>\n",
       "    <tr>\n",
       "      <th>49</th>\n",
       "      <td>E</td>\n",
       "      <td>3_year</td>\n",
       "      <td>6.93</td>\n",
       "    </tr>\n",
       "    <tr>\n",
       "      <th>50</th>\n",
       "      <td>E</td>\n",
       "      <td>3_year</td>\n",
       "      <td>6.84</td>\n",
       "    </tr>\n",
       "    <tr>\n",
       "      <th>51</th>\n",
       "      <td>F</td>\n",
       "      <td>3_year</td>\n",
       "      <td>9.84</td>\n",
       "    </tr>\n",
       "    <tr>\n",
       "      <th>52</th>\n",
       "      <td>F</td>\n",
       "      <td>3_year</td>\n",
       "      <td>9.87</td>\n",
       "    </tr>\n",
       "    <tr>\n",
       "      <th>53</th>\n",
       "      <td>F</td>\n",
       "      <td>3_year</td>\n",
       "      <td>10.08</td>\n",
       "    </tr>\n",
       "  </tbody>\n",
       "</table>\n",
       "</div>"
      ],
      "text/plain": [
       "   Genotype   years  value\n",
       "0         A  1_year   1.53\n",
       "1         A  1_year   1.83\n",
       "2         A  1_year   1.38\n",
       "3         B  1_year   3.60\n",
       "4         B  1_year   2.94\n",
       "5         B  1_year   4.02\n",
       "6         C  1_year   3.99\n",
       "7         C  1_year   3.30\n",
       "8         C  1_year   4.41\n",
       "9         D  1_year   3.75\n",
       "10        D  1_year   3.63\n",
       "11        D  1_year   3.57\n",
       "12        E  1_year   1.71\n",
       "13        E  1_year   2.01\n",
       "14        E  1_year   2.04\n",
       "15        F  1_year   3.96\n",
       "16        F  1_year   4.77\n",
       "17        F  1_year   4.65\n",
       "18        A  2_year   4.08\n",
       "19        A  2_year   3.84\n",
       "20        A  2_year   3.96\n",
       "21        B  2_year   5.70\n",
       "22        B  2_year   5.07\n",
       "23        B  2_year   7.20\n",
       "24        C  2_year   6.09\n",
       "25        C  2_year   5.88\n",
       "26        C  2_year   6.51\n",
       "27        D  2_year   5.19\n",
       "28        D  2_year   5.37\n",
       "29        D  2_year   5.55\n",
       "30        E  2_year   3.60\n",
       "31        E  2_year   5.10\n",
       "32        E  2_year   6.99\n",
       "33        F  2_year   5.25\n",
       "34        F  2_year   5.28\n",
       "35        F  2_year   5.07\n",
       "36        A  3_year   6.69\n",
       "37        A  3_year   5.97\n",
       "38        A  3_year   6.33\n",
       "39        B  3_year   8.55\n",
       "40        B  3_year   7.95\n",
       "41        B  3_year   8.94\n",
       "42        C  3_year  10.02\n",
       "43        C  3_year   9.63\n",
       "44        C  3_year  10.38\n",
       "45        D  3_year  11.40\n",
       "46        D  3_year   9.66\n",
       "47        D  3_year  10.53\n",
       "48        E  3_year   6.87\n",
       "49        E  3_year   6.93\n",
       "50        E  3_year   6.84\n",
       "51        F  3_year   9.84\n",
       "52        F  3_year   9.87\n",
       "53        F  3_year  10.08"
      ]
     },
     "execution_count": 45,
     "metadata": {},
     "output_type": "execute_result"
    }
   ],
   "source": [
    "dataset = pd.melt(df,id_vars=['Genotype'],value_vars=['1_year','2_year','3_year'], var_name=['years'])\n",
    "dataset"
   ]
  },
  {
   "cell_type": "code",
   "execution_count": 46,
   "id": "a8b92f7c",
   "metadata": {},
   "outputs": [],
   "source": [
    "model2 = sm.formula.ols('value ~ C(Genotype)+C(years)+C(Genotype):C(years)', data=dataset).fit()"
   ]
  },
  {
   "cell_type": "code",
   "execution_count": 47,
   "id": "39120883",
   "metadata": {
    "scrolled": true
   },
   "outputs": [
    {
     "name": "stdout",
     "output_type": "stream",
     "text": [
      "                            OLS Regression Results                            \n",
      "==============================================================================\n",
      "Dep. Variable:                  value   R-squared:                       0.965\n",
      "Model:                            OLS   Adj. R-squared:                  0.948\n",
      "Method:                 Least Squares   F-statistic:                     58.33\n",
      "Date:                Fri, 04 Jun 2021   Prob (F-statistic):           4.29e-21\n",
      "Time:                        10:54:24   Log-Likelihood:                -37.909\n",
      "No. Observations:                  54   AIC:                             111.8\n",
      "Df Residuals:                      36   BIC:                             147.6\n",
      "Df Model:                          17                                         \n",
      "Covariance Type:            nonrobust                                         \n",
      "=======================================================================================================\n",
      "                                          coef    std err          t      P>|t|      [0.025      0.975]\n",
      "-------------------------------------------------------------------------------------------------------\n",
      "Intercept                               1.5800      0.345      4.576      0.000       0.880       2.280\n",
      "C(Genotype)[T.B]                        1.9400      0.488      3.973      0.000       0.950       2.930\n",
      "C(Genotype)[T.C]                        2.3200      0.488      4.752      0.000       1.330       3.310\n",
      "C(Genotype)[T.D]                        2.0700      0.488      4.240      0.000       1.080       3.060\n",
      "C(Genotype)[T.E]                        0.3400      0.488      0.696      0.491      -0.650       1.330\n",
      "C(Genotype)[T.F]                        2.8800      0.488      5.899      0.000       1.890       3.870\n",
      "C(years)[T.2_year]                      2.3800      0.488      4.875      0.000       1.390       3.370\n",
      "C(years)[T.3_year]                      4.7500      0.488      9.729      0.000       3.760       5.740\n",
      "C(Genotype)[T.B]:C(years)[T.2_year]     0.0900      0.690      0.130      0.897      -1.310       1.490\n",
      "C(Genotype)[T.C]:C(years)[T.2_year]    -0.1200      0.690     -0.174      0.863      -1.520       1.280\n",
      "C(Genotype)[T.D]:C(years)[T.2_year]    -0.6600      0.690     -0.956      0.346      -2.060       0.740\n",
      "C(Genotype)[T.E]:C(years)[T.2_year]     0.9300      0.690      1.347      0.186      -0.470       2.330\n",
      "C(Genotype)[T.F]:C(years)[T.2_year]    -1.6400      0.690     -2.375      0.023      -3.040      -0.240\n",
      "C(Genotype)[T.B]:C(years)[T.3_year]     0.2100      0.690      0.304      0.763      -1.190       1.610\n",
      "C(Genotype)[T.C]:C(years)[T.3_year]     1.3600      0.690      1.970      0.057      -0.040       2.760\n",
      "C(Genotype)[T.D]:C(years)[T.3_year]     2.1300      0.690      3.085      0.004       0.730       3.530\n",
      "C(Genotype)[T.E]:C(years)[T.3_year]     0.2100      0.690      0.304      0.763      -1.190       1.610\n",
      "C(Genotype)[T.F]:C(years)[T.3_year]     0.7200      0.690      1.043      0.304      -0.680       2.120\n",
      "==============================================================================\n",
      "Omnibus:                       12.225   Durbin-Watson:                   2.488\n",
      "Prob(Omnibus):                  0.002   Jarque-Bera (JB):               35.941\n",
      "Skew:                           0.289   Prob(JB):                     1.57e-08\n",
      "Kurtosis:                       6.955   Cond. No.                         25.6\n",
      "==============================================================================\n",
      "\n",
      "Notes:\n",
      "[1] Standard Errors assume that the covariance matrix of the errors is correctly specified.\n"
     ]
    }
   ],
   "source": [
    "print(model2.summary())"
   ]
  },
  {
   "cell_type": "code",
   "execution_count": 52,
   "id": "6b7a94e4",
   "metadata": {},
   "outputs": [
    {
     "data": {
      "text/html": [
       "<div>\n",
       "<style scoped>\n",
       "    .dataframe tbody tr th:only-of-type {\n",
       "        vertical-align: middle;\n",
       "    }\n",
       "\n",
       "    .dataframe tbody tr th {\n",
       "        vertical-align: top;\n",
       "    }\n",
       "\n",
       "    .dataframe thead th {\n",
       "        text-align: right;\n",
       "    }\n",
       "</style>\n",
       "<table border=\"1\" class=\"dataframe\">\n",
       "  <thead>\n",
       "    <tr style=\"text-align: right;\">\n",
       "      <th></th>\n",
       "      <th>sum_sq</th>\n",
       "      <th>df</th>\n",
       "      <th>F</th>\n",
       "      <th>PR(&gt;F)</th>\n",
       "    </tr>\n",
       "  </thead>\n",
       "  <tbody>\n",
       "    <tr>\n",
       "      <th>C(Genotype)</th>\n",
       "      <td>58.551733</td>\n",
       "      <td>5.0</td>\n",
       "      <td>32.748581</td>\n",
       "      <td>1.931655e-12</td>\n",
       "    </tr>\n",
       "    <tr>\n",
       "      <th>C(years)</th>\n",
       "      <td>278.925633</td>\n",
       "      <td>2.0</td>\n",
       "      <td>390.014868</td>\n",
       "      <td>4.006243e-25</td>\n",
       "    </tr>\n",
       "    <tr>\n",
       "      <th>C(Genotype):C(years)</th>\n",
       "      <td>17.122967</td>\n",
       "      <td>10.0</td>\n",
       "      <td>4.788525</td>\n",
       "      <td>2.230094e-04</td>\n",
       "    </tr>\n",
       "    <tr>\n",
       "      <th>Residual</th>\n",
       "      <td>12.873000</td>\n",
       "      <td>36.0</td>\n",
       "      <td>NaN</td>\n",
       "      <td>NaN</td>\n",
       "    </tr>\n",
       "  </tbody>\n",
       "</table>\n",
       "</div>"
      ],
      "text/plain": [
       "                          sum_sq    df           F        PR(>F)\n",
       "C(Genotype)            58.551733   5.0   32.748581  1.931655e-12\n",
       "C(years)              278.925633   2.0  390.014868  4.006243e-25\n",
       "C(Genotype):C(years)   17.122967  10.0    4.788525  2.230094e-04\n",
       "Residual               12.873000  36.0         NaN           NaN"
      ]
     },
     "execution_count": 52,
     "metadata": {},
     "output_type": "execute_result"
    }
   ],
   "source": [
    "sm.stats.anova_lm(model2, typ=2)"
   ]
  },
  {
   "cell_type": "code",
   "execution_count": 56,
   "id": "6ab36448",
   "metadata": {},
   "outputs": [],
   "source": [
    "from bioinfokit.analys import stat\n",
    "\n",
    "res = stat()"
   ]
  },
  {
   "cell_type": "code",
   "execution_count": 58,
   "id": "97622aec",
   "metadata": {},
   "outputs": [
    {
     "data": {
      "text/html": [
       "<div>\n",
       "<style scoped>\n",
       "    .dataframe tbody tr th:only-of-type {\n",
       "        vertical-align: middle;\n",
       "    }\n",
       "\n",
       "    .dataframe tbody tr th {\n",
       "        vertical-align: top;\n",
       "    }\n",
       "\n",
       "    .dataframe thead th {\n",
       "        text-align: right;\n",
       "    }\n",
       "</style>\n",
       "<table border=\"1\" class=\"dataframe\">\n",
       "  <thead>\n",
       "    <tr style=\"text-align: right;\">\n",
       "      <th></th>\n",
       "      <th>group1</th>\n",
       "      <th>group2</th>\n",
       "      <th>Diff</th>\n",
       "      <th>Lower</th>\n",
       "      <th>Upper</th>\n",
       "      <th>q-value</th>\n",
       "      <th>p-value</th>\n",
       "    </tr>\n",
       "  </thead>\n",
       "  <tbody>\n",
       "    <tr>\n",
       "      <th>0</th>\n",
       "      <td>A</td>\n",
       "      <td>B</td>\n",
       "      <td>2.040000</td>\n",
       "      <td>1.191912</td>\n",
       "      <td>2.888088</td>\n",
       "      <td>10.234409</td>\n",
       "      <td>0.001000</td>\n",
       "    </tr>\n",
       "    <tr>\n",
       "      <th>1</th>\n",
       "      <td>A</td>\n",
       "      <td>C</td>\n",
       "      <td>2.733333</td>\n",
       "      <td>1.885245</td>\n",
       "      <td>3.581421</td>\n",
       "      <td>13.712771</td>\n",
       "      <td>0.001000</td>\n",
       "    </tr>\n",
       "    <tr>\n",
       "      <th>2</th>\n",
       "      <td>A</td>\n",
       "      <td>D</td>\n",
       "      <td>2.560000</td>\n",
       "      <td>1.711912</td>\n",
       "      <td>3.408088</td>\n",
       "      <td>12.843180</td>\n",
       "      <td>0.001000</td>\n",
       "    </tr>\n",
       "    <tr>\n",
       "      <th>3</th>\n",
       "      <td>A</td>\n",
       "      <td>E</td>\n",
       "      <td>0.720000</td>\n",
       "      <td>-0.128088</td>\n",
       "      <td>1.568088</td>\n",
       "      <td>3.612145</td>\n",
       "      <td>0.135306</td>\n",
       "    </tr>\n",
       "    <tr>\n",
       "      <th>4</th>\n",
       "      <td>A</td>\n",
       "      <td>F</td>\n",
       "      <td>2.573333</td>\n",
       "      <td>1.725245</td>\n",
       "      <td>3.421421</td>\n",
       "      <td>12.910072</td>\n",
       "      <td>0.001000</td>\n",
       "    </tr>\n",
       "    <tr>\n",
       "      <th>5</th>\n",
       "      <td>B</td>\n",
       "      <td>C</td>\n",
       "      <td>0.693333</td>\n",
       "      <td>-0.154755</td>\n",
       "      <td>1.541421</td>\n",
       "      <td>3.478361</td>\n",
       "      <td>0.163609</td>\n",
       "    </tr>\n",
       "    <tr>\n",
       "      <th>6</th>\n",
       "      <td>B</td>\n",
       "      <td>D</td>\n",
       "      <td>0.520000</td>\n",
       "      <td>-0.328088</td>\n",
       "      <td>1.368088</td>\n",
       "      <td>2.608771</td>\n",
       "      <td>0.453066</td>\n",
       "    </tr>\n",
       "    <tr>\n",
       "      <th>7</th>\n",
       "      <td>B</td>\n",
       "      <td>E</td>\n",
       "      <td>1.320000</td>\n",
       "      <td>0.471912</td>\n",
       "      <td>2.168088</td>\n",
       "      <td>6.622265</td>\n",
       "      <td>0.001000</td>\n",
       "    </tr>\n",
       "    <tr>\n",
       "      <th>8</th>\n",
       "      <td>B</td>\n",
       "      <td>F</td>\n",
       "      <td>0.533333</td>\n",
       "      <td>-0.314755</td>\n",
       "      <td>1.381421</td>\n",
       "      <td>2.675663</td>\n",
       "      <td>0.425189</td>\n",
       "    </tr>\n",
       "    <tr>\n",
       "      <th>9</th>\n",
       "      <td>C</td>\n",
       "      <td>D</td>\n",
       "      <td>0.173333</td>\n",
       "      <td>-0.674755</td>\n",
       "      <td>1.021421</td>\n",
       "      <td>0.869590</td>\n",
       "      <td>0.900000</td>\n",
       "    </tr>\n",
       "    <tr>\n",
       "      <th>10</th>\n",
       "      <td>C</td>\n",
       "      <td>E</td>\n",
       "      <td>2.013333</td>\n",
       "      <td>1.165245</td>\n",
       "      <td>2.861421</td>\n",
       "      <td>10.100626</td>\n",
       "      <td>0.001000</td>\n",
       "    </tr>\n",
       "    <tr>\n",
       "      <th>11</th>\n",
       "      <td>C</td>\n",
       "      <td>F</td>\n",
       "      <td>0.160000</td>\n",
       "      <td>-0.688088</td>\n",
       "      <td>1.008088</td>\n",
       "      <td>0.802699</td>\n",
       "      <td>0.900000</td>\n",
       "    </tr>\n",
       "    <tr>\n",
       "      <th>12</th>\n",
       "      <td>D</td>\n",
       "      <td>E</td>\n",
       "      <td>1.840000</td>\n",
       "      <td>0.991912</td>\n",
       "      <td>2.688088</td>\n",
       "      <td>9.231036</td>\n",
       "      <td>0.001000</td>\n",
       "    </tr>\n",
       "    <tr>\n",
       "      <th>13</th>\n",
       "      <td>D</td>\n",
       "      <td>F</td>\n",
       "      <td>0.013333</td>\n",
       "      <td>-0.834755</td>\n",
       "      <td>0.861421</td>\n",
       "      <td>0.066892</td>\n",
       "      <td>0.900000</td>\n",
       "    </tr>\n",
       "    <tr>\n",
       "      <th>14</th>\n",
       "      <td>E</td>\n",
       "      <td>F</td>\n",
       "      <td>1.853333</td>\n",
       "      <td>1.005245</td>\n",
       "      <td>2.701421</td>\n",
       "      <td>9.297928</td>\n",
       "      <td>0.001000</td>\n",
       "    </tr>\n",
       "  </tbody>\n",
       "</table>\n",
       "</div>"
      ],
      "text/plain": [
       "   group1 group2      Diff     Lower     Upper    q-value   p-value\n",
       "0       A      B  2.040000  1.191912  2.888088  10.234409  0.001000\n",
       "1       A      C  2.733333  1.885245  3.581421  13.712771  0.001000\n",
       "2       A      D  2.560000  1.711912  3.408088  12.843180  0.001000\n",
       "3       A      E  0.720000 -0.128088  1.568088   3.612145  0.135306\n",
       "4       A      F  2.573333  1.725245  3.421421  12.910072  0.001000\n",
       "5       B      C  0.693333 -0.154755  1.541421   3.478361  0.163609\n",
       "6       B      D  0.520000 -0.328088  1.368088   2.608771  0.453066\n",
       "7       B      E  1.320000  0.471912  2.168088   6.622265  0.001000\n",
       "8       B      F  0.533333 -0.314755  1.381421   2.675663  0.425189\n",
       "9       C      D  0.173333 -0.674755  1.021421   0.869590  0.900000\n",
       "10      C      E  2.013333  1.165245  2.861421  10.100626  0.001000\n",
       "11      C      F  0.160000 -0.688088  1.008088   0.802699  0.900000\n",
       "12      D      E  1.840000  0.991912  2.688088   9.231036  0.001000\n",
       "13      D      F  0.013333 -0.834755  0.861421   0.066892  0.900000\n",
       "14      E      F  1.853333  1.005245  2.701421   9.297928  0.001000"
      ]
     },
     "execution_count": 58,
     "metadata": {},
     "output_type": "execute_result"
    }
   ],
   "source": [
    "formula = 'value ~ C(Genotype)+C(years)+C(Genotype):C(years)'\n",
    "res.tukey_hsd(df=dataset,res_var='value',xfac_var='Genotype', anova_model=formula)\n",
    "res.tukey_summary"
   ]
  },
  {
   "cell_type": "code",
   "execution_count": 59,
   "id": "7286e2a8",
   "metadata": {},
   "outputs": [
    {
     "data": {
      "text/html": [
       "<div>\n",
       "<style scoped>\n",
       "    .dataframe tbody tr th:only-of-type {\n",
       "        vertical-align: middle;\n",
       "    }\n",
       "\n",
       "    .dataframe tbody tr th {\n",
       "        vertical-align: top;\n",
       "    }\n",
       "\n",
       "    .dataframe thead th {\n",
       "        text-align: right;\n",
       "    }\n",
       "</style>\n",
       "<table border=\"1\" class=\"dataframe\">\n",
       "  <thead>\n",
       "    <tr style=\"text-align: right;\">\n",
       "      <th></th>\n",
       "      <th>group1</th>\n",
       "      <th>group2</th>\n",
       "      <th>Diff</th>\n",
       "      <th>Lower</th>\n",
       "      <th>Upper</th>\n",
       "      <th>q-value</th>\n",
       "      <th>p-value</th>\n",
       "    </tr>\n",
       "  </thead>\n",
       "  <tbody>\n",
       "    <tr>\n",
       "      <th>0</th>\n",
       "      <td>1_year</td>\n",
       "      <td>2_year</td>\n",
       "      <td>2.146667</td>\n",
       "      <td>1.659513</td>\n",
       "      <td>2.633821</td>\n",
       "      <td>15.230432</td>\n",
       "      <td>0.001</td>\n",
       "    </tr>\n",
       "    <tr>\n",
       "      <th>1</th>\n",
       "      <td>1_year</td>\n",
       "      <td>3_year</td>\n",
       "      <td>5.521667</td>\n",
       "      <td>5.034513</td>\n",
       "      <td>6.008821</td>\n",
       "      <td>39.175794</td>\n",
       "      <td>0.001</td>\n",
       "    </tr>\n",
       "    <tr>\n",
       "      <th>2</th>\n",
       "      <td>2_year</td>\n",
       "      <td>3_year</td>\n",
       "      <td>3.375000</td>\n",
       "      <td>2.887846</td>\n",
       "      <td>3.862154</td>\n",
       "      <td>23.945361</td>\n",
       "      <td>0.001</td>\n",
       "    </tr>\n",
       "  </tbody>\n",
       "</table>\n",
       "</div>"
      ],
      "text/plain": [
       "   group1  group2      Diff     Lower     Upper    q-value  p-value\n",
       "0  1_year  2_year  2.146667  1.659513  2.633821  15.230432    0.001\n",
       "1  1_year  3_year  5.521667  5.034513  6.008821  39.175794    0.001\n",
       "2  2_year  3_year  3.375000  2.887846  3.862154  23.945361    0.001"
      ]
     },
     "execution_count": 59,
     "metadata": {},
     "output_type": "execute_result"
    }
   ],
   "source": [
    "res.tukey_hsd(df=dataset,res_var='value',xfac_var='years', anova_model=formula)\n",
    "res.tukey_summary"
   ]
  },
  {
   "cell_type": "code",
   "execution_count": 60,
   "id": "431d6dcb",
   "metadata": {},
   "outputs": [
    {
     "data": {
      "text/html": [
       "<div>\n",
       "<style scoped>\n",
       "    .dataframe tbody tr th:only-of-type {\n",
       "        vertical-align: middle;\n",
       "    }\n",
       "\n",
       "    .dataframe tbody tr th {\n",
       "        vertical-align: top;\n",
       "    }\n",
       "\n",
       "    .dataframe thead th {\n",
       "        text-align: right;\n",
       "    }\n",
       "</style>\n",
       "<table border=\"1\" class=\"dataframe\">\n",
       "  <thead>\n",
       "    <tr style=\"text-align: right;\">\n",
       "      <th></th>\n",
       "      <th>group1</th>\n",
       "      <th>group2</th>\n",
       "      <th>Diff</th>\n",
       "      <th>Lower</th>\n",
       "      <th>Upper</th>\n",
       "      <th>q-value</th>\n",
       "      <th>p-value</th>\n",
       "    </tr>\n",
       "  </thead>\n",
       "  <tbody>\n",
       "    <tr>\n",
       "      <th>0</th>\n",
       "      <td>(A, 1_year)</td>\n",
       "      <td>(A, 2_year)</td>\n",
       "      <td>2.38</td>\n",
       "      <td>0.548861</td>\n",
       "      <td>4.211139</td>\n",
       "      <td>6.893646</td>\n",
       "      <td>0.002439</td>\n",
       "    </tr>\n",
       "    <tr>\n",
       "      <th>1</th>\n",
       "      <td>(A, 1_year)</td>\n",
       "      <td>(A, 3_year)</td>\n",
       "      <td>4.75</td>\n",
       "      <td>2.918861</td>\n",
       "      <td>6.581139</td>\n",
       "      <td>13.758326</td>\n",
       "      <td>0.001000</td>\n",
       "    </tr>\n",
       "    <tr>\n",
       "      <th>2</th>\n",
       "      <td>(A, 1_year)</td>\n",
       "      <td>(B, 1_year)</td>\n",
       "      <td>1.94</td>\n",
       "      <td>0.108861</td>\n",
       "      <td>3.771139</td>\n",
       "      <td>5.619190</td>\n",
       "      <td>0.028673</td>\n",
       "    </tr>\n",
       "    <tr>\n",
       "      <th>3</th>\n",
       "      <td>(A, 1_year)</td>\n",
       "      <td>(B, 2_year)</td>\n",
       "      <td>4.41</td>\n",
       "      <td>2.578861</td>\n",
       "      <td>6.241139</td>\n",
       "      <td>12.773520</td>\n",
       "      <td>0.001000</td>\n",
       "    </tr>\n",
       "    <tr>\n",
       "      <th>4</th>\n",
       "      <td>(A, 1_year)</td>\n",
       "      <td>(B, 3_year)</td>\n",
       "      <td>6.90</td>\n",
       "      <td>5.068861</td>\n",
       "      <td>8.731139</td>\n",
       "      <td>19.985779</td>\n",
       "      <td>0.001000</td>\n",
       "    </tr>\n",
       "    <tr>\n",
       "      <th>...</th>\n",
       "      <td>...</td>\n",
       "      <td>...</td>\n",
       "      <td>...</td>\n",
       "      <td>...</td>\n",
       "      <td>...</td>\n",
       "      <td>...</td>\n",
       "      <td>...</td>\n",
       "    </tr>\n",
       "    <tr>\n",
       "      <th>148</th>\n",
       "      <td>(E, 3_year)</td>\n",
       "      <td>(F, 2_year)</td>\n",
       "      <td>1.68</td>\n",
       "      <td>-0.151139</td>\n",
       "      <td>3.511139</td>\n",
       "      <td>4.866103</td>\n",
       "      <td>0.102966</td>\n",
       "    </tr>\n",
       "    <tr>\n",
       "      <th>149</th>\n",
       "      <td>(E, 3_year)</td>\n",
       "      <td>(F, 3_year)</td>\n",
       "      <td>3.05</td>\n",
       "      <td>1.218861</td>\n",
       "      <td>4.881139</td>\n",
       "      <td>8.834294</td>\n",
       "      <td>0.001000</td>\n",
       "    </tr>\n",
       "    <tr>\n",
       "      <th>150</th>\n",
       "      <td>(F, 1_year)</td>\n",
       "      <td>(F, 2_year)</td>\n",
       "      <td>0.74</td>\n",
       "      <td>-1.091139</td>\n",
       "      <td>2.571139</td>\n",
       "      <td>2.143402</td>\n",
       "      <td>0.900000</td>\n",
       "    </tr>\n",
       "    <tr>\n",
       "      <th>151</th>\n",
       "      <td>(F, 1_year)</td>\n",
       "      <td>(F, 3_year)</td>\n",
       "      <td>5.47</td>\n",
       "      <td>3.638861</td>\n",
       "      <td>7.301139</td>\n",
       "      <td>15.843799</td>\n",
       "      <td>0.001000</td>\n",
       "    </tr>\n",
       "    <tr>\n",
       "      <th>152</th>\n",
       "      <td>(F, 2_year)</td>\n",
       "      <td>(F, 3_year)</td>\n",
       "      <td>4.73</td>\n",
       "      <td>2.898861</td>\n",
       "      <td>6.561139</td>\n",
       "      <td>13.700396</td>\n",
       "      <td>0.001000</td>\n",
       "    </tr>\n",
       "  </tbody>\n",
       "</table>\n",
       "<p>153 rows × 7 columns</p>\n",
       "</div>"
      ],
      "text/plain": [
       "          group1       group2  Diff     Lower     Upper    q-value   p-value\n",
       "0    (A, 1_year)  (A, 2_year)  2.38  0.548861  4.211139   6.893646  0.002439\n",
       "1    (A, 1_year)  (A, 3_year)  4.75  2.918861  6.581139  13.758326  0.001000\n",
       "2    (A, 1_year)  (B, 1_year)  1.94  0.108861  3.771139   5.619190  0.028673\n",
       "3    (A, 1_year)  (B, 2_year)  4.41  2.578861  6.241139  12.773520  0.001000\n",
       "4    (A, 1_year)  (B, 3_year)  6.90  5.068861  8.731139  19.985779  0.001000\n",
       "..           ...          ...   ...       ...       ...        ...       ...\n",
       "148  (E, 3_year)  (F, 2_year)  1.68 -0.151139  3.511139   4.866103  0.102966\n",
       "149  (E, 3_year)  (F, 3_year)  3.05  1.218861  4.881139   8.834294  0.001000\n",
       "150  (F, 1_year)  (F, 2_year)  0.74 -1.091139  2.571139   2.143402  0.900000\n",
       "151  (F, 1_year)  (F, 3_year)  5.47  3.638861  7.301139  15.843799  0.001000\n",
       "152  (F, 2_year)  (F, 3_year)  4.73  2.898861  6.561139  13.700396  0.001000\n",
       "\n",
       "[153 rows x 7 columns]"
      ]
     },
     "execution_count": 60,
     "metadata": {},
     "output_type": "execute_result"
    }
   ],
   "source": [
    "res.tukey_hsd(df=dataset,res_var='value',xfac_var=['Genotype','years'], anova_model=formula)\n",
    "res.tukey_summary"
   ]
  },
  {
   "cell_type": "code",
   "execution_count": null,
   "id": "49551385",
   "metadata": {},
   "outputs": [],
   "source": []
  }
 ],
 "metadata": {
  "kernelspec": {
   "display_name": "Python 3",
   "language": "python",
   "name": "python3"
  },
  "language_info": {
   "codemirror_mode": {
    "name": "ipython",
    "version": 3
   },
   "file_extension": ".py",
   "mimetype": "text/x-python",
   "name": "python",
   "nbconvert_exporter": "python",
   "pygments_lexer": "ipython3",
   "version": "3.8.8"
  }
 },
 "nbformat": 4,
 "nbformat_minor": 5
}
